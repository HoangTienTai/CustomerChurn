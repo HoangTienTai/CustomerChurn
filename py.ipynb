{
 "cells": [
  {
   "cell_type": "code",
   "execution_count": 4,
   "metadata": {},
   "outputs": [
    {
     "name": "stdout",
     "output_type": "stream",
     "text": [
      "Critiacal Value:  1.6448536269514729\n"
     ]
    }
   ],
   "source": [
    "import math\n",
    "import numpy\n",
    "from scipy.stats import norm\n",
    "from scipy import stats\n",
    "# Tính giá trị Z critical cho mức ý nghĩa 0.05\n",
    "critical_value = stats.norm.ppf(0.05)\n",
    "print('Critiacal Value: ', abs(critical_value))"
   ]
  },
  {
   "cell_type": "code",
   "execution_count": 8,
   "metadata": {},
   "outputs": [
    {
     "name": "stdout",
     "output_type": "stream",
     "text": [
      "Giá trị ngưỡng Z cho mức ý nghĩa 0.05: 1.6449\n"
     ]
    }
   ],
   "source": [
    "import numpy as np\n",
    "from scipy.stats import norm\n",
    "import matplotlib.pyplot as plt\n",
    "\n",
    "# Tính giá trị ngưỡng Z cho mức ý nghĩa 0.05 (95% confidence level)\n",
    "alpha = 0.05\n",
    "critical = norm.ppf(1- alpha)\n",
    "\n",
    "print(f\"Giá trị ngưỡng Z cho mức ý nghĩa 0.05: {critical:.4f}\")"
   ]
  }
 ],
 "metadata": {
  "kernelspec": {
   "display_name": "Python 3",
   "language": "python",
   "name": "python3"
  },
  "language_info": {
   "codemirror_mode": {
    "name": "ipython",
    "version": 3
   },
   "file_extension": ".py",
   "mimetype": "text/x-python",
   "name": "python",
   "nbconvert_exporter": "python",
   "pygments_lexer": "ipython3",
   "version": "3.11.4"
  }
 },
 "nbformat": 4,
 "nbformat_minor": 2
}
