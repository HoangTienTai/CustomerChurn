{
 "cells": [
  {
   "cell_type": "markdown",
   "metadata": {
    "id": "MdhEhF1qCe7i"
   },
   "source": [
    "# Lecture 3 - Pandas - Pivot table"
   ]
  },
  {
   "cell_type": "markdown",
   "metadata": {},
   "source": [
    "## Assignment 1"
   ]
  },
  {
   "cell_type": "markdown",
   "metadata": {
    "id": "zwKVyxdECe7u"
   },
   "source": [
    "#### drinks.csv là tập tin cung cấp dữ liệu về tình hình tiêu thụ rượu bia ở các quốc gia theo từng châu lục\n",
    "\n",
    "country: tên quốc gia tiêu thụ<br/>\n",
    "beer_servings: số lượng bia tiêu thụ<br/>\n",
    "spirit_servings: số lượng rượu mạnh (>= 40<sup>0</sup>)<br/>\n",
    "wine_servings: số lượng rượu vang<br/>\n",
    "total_litres_of_pure_alcohol: tổng số lít rượu nguyên chất<br/>\n",
    "continent: châu lục"
   ]
  },
  {
   "cell_type": "markdown",
   "metadata": {
    "id": "ieQGqljSCe7x"
   },
   "source": [
    "#### Thực hiện các yêu cầu sau, và đối chiếu với kết quả cho trước:"
   ]
  },
  {
   "cell_type": "code",
   "execution_count": 1,
   "metadata": {
    "id": "DH4L90lcCe7y"
   },
   "outputs": [],
   "source": [
    "import pandas as pd"
   ]
  },
  {
   "cell_type": "code",
   "execution_count": 2,
   "metadata": {
    "id": "W_1WtCH4Ce7z"
   },
   "outputs": [
    {
     "name": "stdout",
     "output_type": "stream",
     "text": [
      "<class 'pandas.core.frame.DataFrame'>\n",
      "(193, 6)\n",
      "Index(['country', 'beer_servings', 'spirit_servings', 'wine_servings',\n",
      "       'total_litres_of_pure_alcohol', 'continent'],\n",
      "      dtype='object')\n",
      "       country  beer_servings  spirit_servings  wine_servings  \\\n",
      "0  Afghanistan              0                0              0   \n",
      "1      Albania             89              132             54   \n",
      "2      Algeria             25                0             14   \n",
      "3      Andorra            245              138            312   \n",
      "4       Angola            217               57             45   \n",
      "\n",
      "   total_litres_of_pure_alcohol continent  \n",
      "0                           0.0        AS  \n",
      "1                           4.9        EU  \n",
      "2                           0.7        AF  \n",
      "3                          12.4        EU  \n",
      "4                           5.9        AF  \n"
     ]
    }
   ],
   "source": [
    "# Câu 1: Đọc dữ liệu từ tập tin drinks.csv với index_col là cột đầu tiên của dữ liệu, và lưu vào biến drink. \n",
    "drink = pd.read_csv('drinks.csv', index_col=0)\n",
    "# Cho biết kiểu dữ liệu (type) của drink\n",
    "\n",
    "print(type(drink))\n",
    "\n",
    "# Cho biết ra kích thước (shape) của drink \n",
    "print(drink.shape)\n",
    "\n",
    "# Hiển thị tên các cột (columns) của drink\n",
    "print(drink.columns)\n",
    "\n",
    "# Xem 5 dòng dữ liệu đầu tiên (head) của drink\n",
    "print(drink.head(5))\n"
   ]
  },
  {
   "cell_type": "code",
   "execution_count": 3,
   "metadata": {},
   "outputs": [
    {
     "name": "stdout",
     "output_type": "stream",
     "text": [
      "continent\n",
      "AF    53\n",
      "AS    44\n",
      "EU    45\n",
      "OC    16\n",
      "SA    12\n",
      "dtype: int64\n"
     ]
    }
   ],
   "source": [
    "# Câu 2: Xác định số lượng giao dịch theo từng châu lục (continent) bằng Groupby\n",
    "transaction_by_continent = drink.groupby('continent').size()\n",
    "print(transaction_by_continent)"
   ]
  },
  {
   "cell_type": "code",
   "execution_count": 4,
   "metadata": {},
   "outputs": [
    {
     "name": "stdout",
     "output_type": "stream",
     "text": [
      "Số lượng thuộc tính có giá trị NULL:  1\n",
      "Số lượng giá trị NULL tương ứng với từng thuộc tính:\n",
      "continent    23\n",
      "dtype: int64\n"
     ]
    }
   ],
   "source": [
    "# Câu 3: \n",
    "# - Xác định bao nhiêu thuộc tính có giá trị NULL và số lượng giá trị NULL tương ứng với từng thuộc tính \n",
    "null_counts = drink.isnull().sum()\n",
    "num_null_attributes = null_counts[null_counts > 0].count()\n",
    "\n",
    "print(\"Số lượng thuộc tính có giá trị NULL: \", num_null_attributes)\n",
    "\n",
    "# - Nếu có giá trị NULL liệt kê chi tiết từng giao dịch của mỗi thuộc tính\n",
    "print(\"Số lượng giá trị NULL tương ứng với từng thuộc tính:\")\n",
    "print(null_counts[null_counts > 0])"
   ]
  },
  {
   "cell_type": "code",
   "execution_count": 5,
   "metadata": {
    "id": "KMbFn83pCe77"
   },
   "outputs": [
    {
     "name": "stdout",
     "output_type": "stream",
     "text": [
      "continent\n",
      "AF     61.471698\n",
      "AS     37.045455\n",
      "EU    193.777778\n",
      "OC     89.687500\n",
      "SA    175.083333\n",
      "Name: beer_servings, dtype: float64\n"
     ]
    }
   ],
   "source": [
    "# Câu 4: Cho biết số lượng bia tiêu thụ trung bình ở mỗi châu lục\n",
    "trungbinh_bia_chauluc = drink.groupby('continent')['beer_servings'].mean()\n",
    "print(trungbinh_bia_chauluc)"
   ]
  },
  {
   "cell_type": "code",
   "execution_count": 6,
   "metadata": {},
   "outputs": [
    {
     "name": "stdout",
     "output_type": "stream",
     "text": [
      "continent\n",
      "EU    8720\n",
      "AF    3258\n",
      "SA    2101\n",
      "AS    1630\n",
      "OC    1435\n",
      "Name: beer_servings, dtype: int64\n"
     ]
    }
   ],
   "source": [
    "# Câu 5: Lập danh sách số lượng bia tiêu thụ giảm dần theo châu lục\n",
    "bia_giam_dan = drink.groupby('continent')['beer_servings'].sum()\n",
    "sorted_beer_consumption = bia_giam_dan.sort_values(ascending=False)\n",
    "print(sorted_beer_consumption)\n"
   ]
  },
  {
   "cell_type": "code",
   "execution_count": 7,
   "metadata": {
    "id": "nxfp6wpSCe78"
   },
   "outputs": [
    {
     "name": "stdout",
     "output_type": "stream",
     "text": [
      "  continent  count        mean        std  min   25%    50%     75%    max\n",
      "0        AF   53.0   16.264151  38.846419  0.0   1.0    2.0   13.00  233.0\n",
      "1        AS   44.0    9.068182  21.667034  0.0   0.0    1.0    8.00  123.0\n",
      "2        EU   45.0  142.222222  97.421738  0.0  59.0  128.0  195.00  370.0\n",
      "3        OC   16.0   35.625000  64.555790  0.0   1.0    8.5   23.25  212.0\n",
      "4        SA   12.0   62.416667  88.620189  1.0   3.0   12.0   98.50  221.0\n"
     ]
    }
   ],
   "source": [
    "# Câu 6: Cho biết thông tin thống kê tổng quát về số lượng rượu vang được tiêu thụ ở mỗi châu lục \n",
    "wine_stats_by_continent = drink.groupby('continent')['wine_servings'].describe().reset_index()\n",
    "print(wine_stats_by_continent)"
   ]
  },
  {
   "cell_type": "code",
   "execution_count": 8,
   "metadata": {},
   "outputs": [
    {
     "name": "stdout",
     "output_type": "stream",
     "text": [
      "       beer_servings  spirit_servings\n",
      "count     193.000000       193.000000\n",
      "mean      106.160622        80.994819\n",
      "std       101.143103        88.284312\n",
      "min         0.000000         0.000000\n",
      "25%        20.000000         4.000000\n",
      "50%        76.000000        56.000000\n",
      "75%       188.000000       128.000000\n",
      "max       376.000000       438.000000\n"
     ]
    }
   ],
   "source": [
    "# Câu 7: Cho biết thông tin thống kê tổng quát về số lượng bia và rượu mạnh. Chú ý bố trí trong cùng một bảng dữ liệu.\n",
    "thong_ke_tq = drink[['beer_servings', 'spirit_servings']].describe()\n",
    "print(thong_ke_tq)\n"
   ]
  },
  {
   "cell_type": "code",
   "execution_count": 9,
   "metadata": {
    "id": "PiBWhQ5cCe8F"
   },
   "outputs": [
    {
     "name": "stdout",
     "output_type": "stream",
     "text": [
      "Giá trị trung vị của các loại bia tiêu thụ ở mỗi châu lục:\n",
      "continent\n",
      "AF     32.0\n",
      "AS     17.5\n",
      "EU    219.0\n",
      "OC     52.5\n",
      "SA    162.5\n",
      "Name: beer_servings, dtype: float64\n",
      "\n",
      "\n",
      "Giá trị trung vị của các loại rượu tiêu thụ ở mỗi châu lục:\n",
      "continent\n",
      "AF      3.0\n",
      "AS     16.0\n",
      "EU    122.0\n",
      "OC     37.0\n",
      "SA    108.5\n",
      "Name: spirit_servings, dtype: float64\n"
     ]
    }
   ],
   "source": [
    "# Câu 8: Cho biết giá trị trung vị (median) của các loại bia và rượu tiêu thụ ở mỗi châu lục\n",
    "beer_median_by_continent = drink.groupby('continent')['beer_servings'].median()\n",
    "spirit_median_by_continent = drink.groupby('continent')['spirit_servings'].median()\n",
    "\n",
    "print(\"Giá trị trung vị của các loại bia tiêu thụ ở mỗi châu lục:\")\n",
    "print(beer_median_by_continent)\n",
    "print(\"\\n\")\n",
    "print(\"Giá trị trung vị của các loại rượu tiêu thụ ở mỗi châu lục:\")\n",
    "print(spirit_median_by_continent)\n"
   ]
  },
  {
   "cell_type": "code",
   "execution_count": 10,
   "metadata": {},
   "outputs": [
    {
     "name": "stdout",
     "output_type": "stream",
     "text": [
      "                 mean  median  max\n",
      "continent                         \n",
      "AF          61.471698    32.0  376\n",
      "AS          37.045455    17.5  247\n",
      "EU         193.777778   219.0  361\n",
      "OC          89.687500    52.5  306\n",
      "SA         175.083333   162.5  333\n"
     ]
    }
   ],
   "source": [
    "# Câu 9: Cho biết giá trị trung bình,trung vị,lớn nhất về số lượng bia tiêu thụ ở mỗi châu lục\n",
    "beer_stats_by_continent = drink.groupby('continent')['beer_servings'].agg(['mean', 'median', 'max'])\n",
    "print(beer_stats_by_continent)\n"
   ]
  },
  {
   "cell_type": "code",
   "execution_count": 11,
   "metadata": {
    "id": "0axFmbSSCe8J"
   },
   "outputs": [
    {
     "name": "stdout",
     "output_type": "stream",
     "text": [
      "            country  beer_servings  spirit_servings  wine_servings  \\\n",
      "129           Palau            306               63             23   \n",
      "81          Ireland            313              118            165   \n",
      "188       Venezuela            333              100              3   \n",
      "98        Lithuania            343              244             56   \n",
      "135          Poland            343              215             56   \n",
      "65          Germany            346              117            175   \n",
      "62            Gabon            347               98             59   \n",
      "45   Czech Republic            361              170            134   \n",
      "117         Namibia            376                3              1   \n",
      "\n",
      "     total_litres_of_pure_alcohol continent  \n",
      "129                           6.9        OC  \n",
      "81                           11.4        EU  \n",
      "188                           7.7        SA  \n",
      "98                           12.9        EU  \n",
      "135                          10.9        EU  \n",
      "65                           11.3        EU  \n",
      "62                            8.9        AF  \n",
      "45                           11.8        EU  \n",
      "117                           6.8        AF  \n"
     ]
    }
   ],
   "source": [
    "# Câu 10: Sắp xếp dữ liệu tăng dần theo số lượng bia tiêu thụ lớn hơn 300\n",
    "beer_greater_than_300 = drink[drink['beer_servings'] > 300]\n",
    "sorted_beer_greater_than_300 = beer_greater_than_300.sort_values('beer_servings')\n",
    "print(sorted_beer_greater_than_300)\n"
   ]
  },
  {
   "cell_type": "code",
   "execution_count": 12,
   "metadata": {},
   "outputs": [
    {
     "name": "stdout",
     "output_type": "stream",
     "text": [
      "continent\n",
      "AF    [Algeria, Angola, Benin, Botswana, Burkina Fas...\n",
      "AS    [Afghanistan, Bahrain, Bangladesh, Bhutan, Bru...\n",
      "EU    [Albania, Andorra, Armenia, Austria, Azerbaija...\n",
      "OC    [Australia, Cook Islands, Fiji, Kiribati, Mars...\n",
      "SA    [Argentina, Bolivia, Brazil, Chile, Colombia, ...\n",
      "Name: country, dtype: object\n"
     ]
    }
   ],
   "source": [
    "# Câu 11: Liệt kê danh sách quốc gia theo châu lục\n",
    "country_list_by_continent = drink.groupby('continent')['country'].apply(list)\n",
    "print(country_list_by_continent)\n"
   ]
  },
  {
   "cell_type": "code",
   "execution_count": 13,
   "metadata": {
    "id": "lznMB5EfCe8L"
   },
   "outputs": [
    {
     "name": "stdout",
     "output_type": "stream",
     "text": [
      "            country  beer_servings\n",
      "117         Namibia            376\n",
      "45   Czech Republic            361\n",
      "62            Gabon            347\n",
      "65          Germany            346\n",
      "98        Lithuania            343\n"
     ]
    }
   ],
   "source": [
    "# Câu 12: Cho biết 5 quốc gia có lượng tiêu thụ bia lớn nhất\n",
    "top_countries = drink.nlargest(5, 'beer_servings')\n",
    "\n",
    "print(top_countries[['country', 'beer_servings']])\n"
   ]
  },
  {
   "cell_type": "markdown",
   "metadata": {},
   "source": [
    "## Assignment 2 - Pivot table"
   ]
  },
  {
   "cell_type": "markdown",
   "metadata": {},
   "source": [
    "### About Dataset - sup.csv\n",
    "### Context\n",
    "#### The growth of supermarkets in most populated cities are increasing and market competitions are also high. The dataset is one of the historical sales of supermarket company which has recorded in 3 different branches for 3 months data. \n",
    "\n",
    "#### Attribute information\n",
    "- Invoice id: Computer generated sales slip invoice identification number\n",
    "- Branch: Branch of supercenter (3 branches are available identified by A, B and C).\n",
    "- City: Location of supercenters\n",
    "- Customer type: Type of customers, recorded by Members for customers using member card and Normal for without member card.\n",
    "- Gender: Gender type of customer\n",
    "- Product line: General item categorization groups - Electronic accessories, Fashion accessories, Food and beverages, Health and beauty, Home and lifestyle, Sports and travel\n",
    "- Unit price: Price of each product in $\n",
    "- Quantity: Number of products purchased by customer\n",
    "- Sales: Unit price * Quantity\n",
    "- Tax: 5% tax fee for customer buying\n",
    "- Total: Total price including tax\n",
    "- Date: Date of purchase (Record available from January 2019 to March 2019)\n",
    "- Time: Purchase time (10am to 9pm)\n",
    "- Payment: Payment used by customer for purchase (3 methods are available – Cash, Credit card and Ewallet)\n",
    "- COGS: Cost of goods sold\n",
    "- Gross margin percentage: Gross margin percentage\n",
    "- Gross income: Gross income\n",
    "- Rating: Customer stratification rating on their overall shopping experience (On a scale of 1 to 10)\n"
   ]
  },
  {
   "cell_type": "code",
   "execution_count": 14,
   "metadata": {},
   "outputs": [],
   "source": [
    "import numpy as np\n",
    "import pandas as pd"
   ]
  },
  {
   "cell_type": "code",
   "execution_count": 15,
   "metadata": {},
   "outputs": [
    {
     "data": {
      "text/html": [
       "<div>\n",
       "<style scoped>\n",
       "    .dataframe tbody tr th:only-of-type {\n",
       "        vertical-align: middle;\n",
       "    }\n",
       "\n",
       "    .dataframe tbody tr th {\n",
       "        vertical-align: top;\n",
       "    }\n",
       "\n",
       "    .dataframe thead th {\n",
       "        text-align: right;\n",
       "    }\n",
       "</style>\n",
       "<table border=\"1\" class=\"dataframe\">\n",
       "  <thead>\n",
       "    <tr style=\"text-align: right;\">\n",
       "      <th></th>\n",
       "      <th>Quantity</th>\n",
       "    </tr>\n",
       "    <tr>\n",
       "      <th>Product line</th>\n",
       "      <th></th>\n",
       "    </tr>\n",
       "  </thead>\n",
       "  <tbody>\n",
       "    <tr>\n",
       "      <th>Electronic accessories</th>\n",
       "      <td>971</td>\n",
       "    </tr>\n",
       "    <tr>\n",
       "      <th>Fashion accessories</th>\n",
       "      <td>902</td>\n",
       "    </tr>\n",
       "    <tr>\n",
       "      <th>Food and beverages</th>\n",
       "      <td>952</td>\n",
       "    </tr>\n",
       "    <tr>\n",
       "      <th>Health and beauty</th>\n",
       "      <td>854</td>\n",
       "    </tr>\n",
       "    <tr>\n",
       "      <th>Home and lifestyle</th>\n",
       "      <td>911</td>\n",
       "    </tr>\n",
       "    <tr>\n",
       "      <th>Sports and travel</th>\n",
       "      <td>920</td>\n",
       "    </tr>\n",
       "  </tbody>\n",
       "</table>\n",
       "</div>"
      ],
      "text/plain": [
       "                        Quantity\n",
       "Product line                    \n",
       "Electronic accessories       971\n",
       "Fashion accessories          902\n",
       "Food and beverages           952\n",
       "Health and beauty            854\n",
       "Home and lifestyle           911\n",
       "Sports and travel            920"
      ]
     },
     "execution_count": 15,
     "metadata": {},
     "output_type": "execute_result"
    }
   ],
   "source": [
    "# Read file sup.csv\n",
    "# Đọc tập tin sup.csv\n",
    "data = pd.read_csv('sup.csv')\n",
    "# Câu 1: Xác định số lượng tiêu thụ theo sản phẩm (Product line)\n",
    "# product_line_counts = data['Product line'].value_counts()\n",
    "# print(product_line_counts)\n",
    "pivot1 = pd.pivot_table(data,values='Quantity',index=data['Product line'],aggfunc=sum)\n",
    "pivot1\n",
    "\n",
    "# pivot2 = pd.crosstab(data['Product line'],data['Quantity'])\n",
    "# pivot2"
   ]
  },
  {
   "cell_type": "code",
   "execution_count": 20,
   "metadata": {},
   "outputs": [
    {
     "name": "stdout",
     "output_type": "stream",
     "text": [
      "Product line  Electronic accessories  Fashion accessories  Food and beverages  \\\n",
      "City                                                                            \n",
      "Mandalay                    16239.47             15631.73            14490.37   \n",
      "Naypyitaw                   18065.69             20533.40            22635.10   \n",
      "Yangon                      17444.87             15554.77            16345.81   \n",
      "\n",
      "Product line  Health and beauty  Home and lifestyle  Sports and travel  \n",
      "City                                                                    \n",
      "Mandalay               19029.20            16713.49           19036.38  \n",
      "Naypyitaw              15824.12            13233.86           15011.36  \n",
      "Yangon                 11997.86            21349.71           18450.19  \n"
     ]
    }
   ],
   "source": [
    "# Câu 2: Xác định doanh số bán theo thành phố cho từng loại sản phẩm\n",
    "# sales_by_city_product = data.groupby(['City', 'Product line']).size().reset_index(name='Sales')\n",
    "# print(sales_by_city_product)\n",
    "\n",
    "pivot2 = pd.pivot_table(data, values='Sales', index='City', columns='Product line', aggfunc=sum)\n",
    "print(pivot2)"
   ]
  },
  {
   "cell_type": "code",
   "execution_count": 17,
   "metadata": {},
   "outputs": [
    {
     "name": "stdout",
     "output_type": "stream",
     "text": [
      "   Month       Sales\n",
      "0      1  116291.868\n",
      "1      2   97219.374\n",
      "2      3  109455.507\n"
     ]
    }
   ],
   "source": [
    "# Câu 3: Xác định doanh số bán theo tháng và chỉ liệt kê các doanh số bán >=305\n",
    "# Chuyển đổi cột 'Date' thành kiểu dữ liệu datetime\n",
    "data['Date'] = pd.to_datetime(data['Date'])\n",
    "\n",
    "# Tạo cột 'Month' từ cột 'Date' để lấy thông tin về tháng\n",
    "data['Month'] = data['Date'].dt.month\n",
    "\n",
    "# Xác định doanh số bán theo tháng và chỉ liệt kê các doanh số bán >=305\n",
    "sales_by_month = data.groupby('Month')['Total'].sum().reset_index(name='Sales')\n",
    "sales_by_month = sales_by_month[sales_by_month['Sales'] >= 305]\n",
    "print(sales_by_month)"
   ]
  },
  {
   "cell_type": "code",
   "execution_count": 18,
   "metadata": {},
   "outputs": [
    {
     "name": "stdout",
     "output_type": "stream",
     "text": [
      "Hình thức thanh toán phổ biến nhất ở thành phố Yangon là: Ewallet\n"
     ]
    }
   ],
   "source": [
    "# Câu 4:Tìm hình thức thanh toán phổ biến nhất ở thành phố Yangon\n",
    "# Lọc dữ liệu chỉ cho thành phố Yangon\n",
    "yangon_data = data[data['City'] == 'Yangon']\n",
    "\n",
    "# Đếm số lượng giao dịch cho từng hình thức thanh toán\n",
    "payment_counts = yangon_data['Payment'].value_counts()\n",
    "\n",
    "# Lấy hình thức thanh toán phổ biến nhất\n",
    "most_common_payment = payment_counts.idxmax()\n",
    "\n",
    "print(\"Hình thức thanh toán phổ biến nhất ở thành phố Yangon là:\", most_common_payment)"
   ]
  },
  {
   "cell_type": "code",
   "execution_count": 19,
   "metadata": {},
   "outputs": [
    {
     "name": "stdout",
     "output_type": "stream",
     "text": [
      "Naypyitaw    124\n",
      "Mandalay     110\n",
      "Yangon       110\n",
      "Name: City, dtype: int64\n"
     ]
    }
   ],
   "source": [
    "# Câu 5: Xác định số lượng giao dịch tiền mặt ở mỗi thành phố.\n",
    "cash_transactions_by_city = data[data['Payment'] == 'Cash']['City'].value_counts()\n",
    "print(cash_transactions_by_city)"
   ]
  }
 ],
 "metadata": {
  "colab": {
   "name": "HV_Chapter5_Exercise1_GroupBy.ipynb",
   "provenance": []
  },
  "kernelspec": {
   "display_name": "Python 3 (ipykernel)",
   "language": "python",
   "name": "python3"
  },
  "language_info": {
   "codemirror_mode": {
    "name": "ipython",
    "version": 3
   },
   "file_extension": ".py",
   "mimetype": "text/x-python",
   "name": "python",
   "nbconvert_exporter": "python",
   "pygments_lexer": "ipython3",
   "version": "3.11.4"
  }
 },
 "nbformat": 4,
 "nbformat_minor": 1
}
