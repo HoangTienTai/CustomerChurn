{
 "cells": [
  {
   "cell_type": "markdown",
   "metadata": {},
   "source": [
    "# Chapter 6: DecisionTreeClassifier"
   ]
  },
  {
   "cell_type": "code",
   "execution_count": null,
   "metadata": {},
   "outputs": [],
   "source": [
    "from sklearn.tree import DecisionTreeClassifier\n",
    "from IPython.display import Image  \n",
    "from sklearn import tree\n",
    "import pydotplus\n",
    "\n",
    "import pandas as pd\n",
    "import numpy as np"
   ]
  },
  {
   "cell_type": "code",
   "execution_count": null,
   "metadata": {},
   "outputs": [],
   "source": [
    "X = np.array([[\"Red\", \"Sports\", \"Domestic\"],\n",
    "              [\"Red\", \"Sports\", \"Domestic\"], \n",
    "              [\"Red\", \"Sports\", \"Domestic\"], \n",
    "              [\"Yellow\", \"Sports\", \"Domestic\"], \n",
    "              [\"Yellow\", \"Sports\", \"Imported\"],\n",
    "              [\"Yellow\", \"SUV\", \"Imported\"], \n",
    "              [\"Yellow\", \"SUV\", \"Imported\"], \n",
    "              [\"Yellow\", \"SUV\", \"Domestic\"],\n",
    "              [\"Red\", \"SUV\", \"Imported\"], \n",
    "              [\"Red\", \"Sports\", \"Imported\"]])\n",
    "Y = np.array([\"Yes\", \"No\", \"Yes\", \"No\", \"Yes\", \"No\", \"Yes\", \"No\", \"No\", \"Yes\"])"
   ]
  },
  {
   "cell_type": "code",
   "execution_count": null,
   "metadata": {},
   "outputs": [],
   "source": [
    "X = pd.DataFrame(X, columns = ['color', 'type', 'origin'])\n",
    "X_now = pd.get_dummies(X)\n",
    "X_now"
   ]
  },
  {
   "cell_type": "code",
   "execution_count": null,
   "metadata": {},
   "outputs": [],
   "source": [
    "Y = pd.DataFrame(Y, columns = ['stolen'])\n",
    "Y_now = pd.get_dummies(Y, drop_first=True)\n",
    "Y_now"
   ]
  },
  {
   "cell_type": "code",
   "execution_count": null,
   "metadata": {},
   "outputs": [],
   "source": [
    "# https://scikit-learn.org/stable/modules/generated/sklearn.tree.DecisionTreeClassifier.html\n",
    "# co the thay the bang criterion='entropy' tuy bai toan\n",
    "model_tree = DecisionTreeClassifier() \n",
    "model_tree.fit(X_now, Y_now)"
   ]
  },
  {
   "cell_type": "code",
   "execution_count": null,
   "metadata": {},
   "outputs": [],
   "source": [
    "# Make new prediction\n",
    "import numpy as np\n",
    "X_new = np.array([[0, 1, 0, 1,1,0]\n",
    "                  ])"
   ]
  },
  {
   "cell_type": "code",
   "execution_count": null,
   "metadata": {},
   "outputs": [],
   "source": [
    "yhat_new = model_tree.predict(X_new)\n",
    "yhat_new"
   ]
  },
  {
   "cell_type": "markdown",
   "metadata": {},
   "source": [
    "### Note:\n",
    "- Gini is intended for continuous attributes and Entropy is for attributes that occur in classes. \n",
    "- Gini is to minimize misclassification\n",
    "- Entropy is for exploratory analysis\n",
    "- Entropy is a little slower to compute"
   ]
  },
  {
   "cell_type": "code",
   "execution_count": null,
   "metadata": {},
   "outputs": [],
   "source": [
    "dot_data = tree.export_graphviz(model_tree,out_file=None,feature_names=X_now.columns)\n",
    "graph = pydotplus.graph_from_dot_data(dot_data)\n",
    "Image(graph.create_png())"
   ]
  }
 ],
 "metadata": {
  "kernelspec": {
   "display_name": "Python 3 (ipykernel)",
   "language": "python",
   "name": "python3"
  },
  "language_info": {
   "codemirror_mode": {
    "name": "ipython",
    "version": 3
   },
   "file_extension": ".py",
   "mimetype": "text/x-python",
   "name": "python",
   "nbconvert_exporter": "python",
   "pygments_lexer": "ipython3",
   "version": "3.11.4"
  }
 },
 "nbformat": 4,
 "nbformat_minor": 2
}
