{
 "cells": [
  {
   "cell_type": "markdown",
   "metadata": {},
   "source": [
    "# Bài thực hành 3: Series và Data Frame"
   ]
  },
  {
   "cell_type": "markdown",
   "metadata": {},
   "source": [
    "## Assignment 1: Series"
   ]
  },
  {
   "cell_type": "code",
   "execution_count": 35,
   "metadata": {},
   "outputs": [
    {
     "name": "stdout",
     "output_type": "stream",
     "text": [
      "0     1\n",
      "1     6\n",
      "2     8\n",
      "3     2\n",
      "4     9\n",
      "5     5\n",
      "6     9\n",
      "7     9\n",
      "8     7\n",
      "9     2\n",
      "10    7\n",
      "11    7\n",
      "12    6\n",
      "13    7\n",
      "14    2\n",
      "15    9\n",
      "16    7\n",
      "17    7\n",
      "18    9\n",
      "19    6\n",
      "20    1\n",
      "21    3\n",
      "22    4\n",
      "23    2\n",
      "24    4\n",
      "25    1\n",
      "26    7\n",
      "27    3\n",
      "28    9\n",
      "29    1\n",
      "30    3\n",
      "31    5\n",
      "32    7\n",
      "33    6\n",
      "34    1\n",
      "dtype: int32\n",
      "kích thước (35,)\n",
      "0    1\n",
      "1    6\n",
      "2    8\n",
      "3    2\n",
      "4    9\n",
      "dtype: int32\n",
      "30    3\n",
      "31    5\n",
      "32    7\n",
      "33    6\n",
      "34    1\n",
      "dtype: int32\n"
     ]
    }
   ],
   "source": [
    "# Câu 1.1: Tạo series ser1 có 35 phần tử số nguyên ngẫu nhiên có giá trị trong khoảng từ 1 đến 9. \n",
    "import numpy as np\n",
    "import pandas as pd\n",
    "ser = np.random.randint(1, 10, size=35)\n",
    "ser1 = pd.Series(ser)\n",
    "# print(ser6)\n",
    "print(ser1)\n",
    "# Cho biết kích thước (shape) của ser6\n",
    "print('kích thước', ser1.shape)\n",
    "# Xem 5 dòng dữ liệu đầu tiên (head) và 5 dòng dữ liệu cuối cùng (tail) có trong ser6\n",
    "print(ser1.head(5))\n",
    "print(ser1.tail(5))"
   ]
  },
  {
   "cell_type": "code",
   "execution_count": 36,
   "metadata": {},
   "outputs": [
    {
     "name": "stdout",
     "output_type": "stream",
     "text": [
      "0    1\n",
      "1    6\n",
      "2    8\n",
      "3    2\n",
      "4    9\n",
      "dtype: int32\n",
      "30    3\n",
      "31    5\n",
      "32    7\n",
      "33    6\n",
      "34    1\n",
      "dtype: int32\n"
     ]
    }
   ],
   "source": [
    "# Xem 5 dòng dữ liệu đầu tiên (head) và 5 dòng dữ liệu cuối cùng (tail) có trong ser6\n",
    "print(ser1.head(5))\n",
    "print(ser1.tail(5))"
   ]
  },
  {
   "cell_type": "code",
   "execution_count": 37,
   "metadata": {},
   "outputs": [
    {
     "name": "stdout",
     "output_type": "stream",
     "text": [
      "Danh sách các giá trị của series ser1\n",
      " [1, 6, 8, 2, 9, 5, 9, 9, 7, 2, 7, 7, 6, 7, 2, 9, 7, 7, 9, 6, 1, 3, 4, 2, 4, 1, 7, 3, 9, 1, 3, 5, 7, 6, 1]\n"
     ]
    }
   ],
   "source": [
    "# Câu 1.2: In danh sách các giá trị của series ser1 \n",
    "print('Danh sách các giá trị của series ser1\\n',ser1.tolist())\n"
   ]
  },
  {
   "cell_type": "code",
   "execution_count": 38,
   "metadata": {},
   "outputs": [
    {
     "name": "stdout",
     "output_type": "stream",
     "text": [
      "<class 'pandas.core.series.Series'>\n",
      "RangeIndex: 35 entries, 0 to 34\n",
      "Series name: None\n",
      "Non-Null Count  Dtype\n",
      "--------------  -----\n",
      "35 non-null     int32\n",
      "dtypes: int32(1)\n",
      "memory usage: 272.0 bytes\n",
      "None\n"
     ]
    }
   ],
   "source": [
    "# Câu 1.3: Cho biết thông tin thống kê chung của Series ser1\n",
    "print(ser1.info())"
   ]
  },
  {
   "cell_type": "code",
   "execution_count": 39,
   "metadata": {},
   "outputs": [
    {
     "name": "stdout",
     "output_type": "stream",
     "text": [
      "0    7\n",
      "dtype: int32\n"
     ]
    }
   ],
   "source": [
    "# Câu 1.4: Cho biết phần tử có tần suất xuất hiện nhiều nhất trong Series ser1\n",
    "print(ser1.mode())"
   ]
  },
  {
   "cell_type": "code",
   "execution_count": 40,
   "metadata": {},
   "outputs": [
    {
     "name": "stdout",
     "output_type": "stream",
     "text": [
      "1     6\n",
      "4     9\n",
      "6     9\n",
      "7     9\n",
      "12    6\n",
      "15    9\n",
      "18    9\n",
      "19    6\n",
      "21    3\n",
      "27    3\n",
      "28    9\n",
      "30    3\n",
      "33    6\n",
      "dtype: int32\n"
     ]
    }
   ],
   "source": [
    "# Câu 1.5:  Liệt kê các giá trị vừa chia hết cho 3 ở Series ser 1 \n",
    "print(ser1[ser1 % 3 == 0])"
   ]
  },
  {
   "cell_type": "markdown",
   "metadata": {},
   "source": [
    "## Assignment 2: Pandas"
   ]
  },
  {
   "cell_type": "markdown",
   "metadata": {},
   "source": [
    "Câu 2.1: Cho bảng dữ liệu như sau:\n",
    "<img src=\"data.png\" width=\"200px\">"
   ]
  },
  {
   "cell_type": "code",
   "execution_count": 41,
   "metadata": {},
   "outputs": [
    {
     "name": "stdout",
     "output_type": "stream",
     "text": [
      "        name  score  attempts qualify\n",
      "a  Anastasia    6.0         1     yes\n",
      "b       Dima    9.0         3      no\n",
      "c  Katherine    7.0         2     yes\n",
      "d      James   10.0         3      no\n",
      "e      Emily    6.0         2      no\n",
      "f    Michael    4.0         3     yes\n"
     ]
    }
   ],
   "source": [
    "# Trả lời câu 2.1:\n",
    "# Tạo DataFrame với tên df theo bảng dữ liệu ở câu 1 bằng cách dựa vào Dictionary và list labels.\n",
    "import pandas as pd\n",
    "# Tạo dictionary\n",
    "data = {\n",
    "    'name': ['Anastasia', 'Dima', 'Katherine', 'James', 'Emily', 'Michael'],\n",
    "    'score': [6.0, 9.0, 7.0, 10.0, 6.0, 4.0],\n",
    "    'attempts': [1, 3, 2, 3, 2, 3],\n",
    "    'qualify': ['yes', 'no', 'yes', 'no', 'no', 'yes']\n",
    "}\n",
    "\n",
    "# Tạo list labels\n",
    "lst_labels = ['a', 'b', 'c', 'd', 'e', 'f']\n",
    "\n",
    "# Tạo DataFrame\n",
    "df = pd.DataFrame(data, index=lst_labels)\n",
    "print(df)\n",
    "# Cho list labels như sau:\n",
    "lst_labels = ['a', 'b', 'c', 'd', 'e', 'f']"
   ]
  },
  {
   "cell_type": "code",
   "execution_count": 42,
   "metadata": {},
   "outputs": [
    {
     "name": "stdout",
     "output_type": "stream",
     "text": [
      "name         object\n",
      "score       float64\n",
      "attempts      int64\n",
      "qualify      object\n",
      "dtype: object\n"
     ]
    }
   ],
   "source": [
    "# Xem kiểu dữ liệu của tất cả thuộc tính ở dataframe df\n",
    "print(df.dtypes)"
   ]
  },
  {
   "cell_type": "code",
   "execution_count": 43,
   "metadata": {},
   "outputs": [
    {
     "name": "stdout",
     "output_type": "stream",
     "text": [
      "name      object\n",
      "score    float64\n",
      "dtype: object\n",
      "(6, 2)\n",
      "        name  score\n",
      "a  Anastasia    6.0\n",
      "b       Dima    9.0\n",
      "c  Katherine    7.0\n",
      "d      James   10.0\n",
      "e      Emily    6.0\n"
     ]
    }
   ],
   "source": [
    "# Câu 2.2: Tạo dataframe df1 từ df, chỉ chứa 2 cột là name và score\n",
    "# Tạo df1 từ df\n",
    "df1 = df[['name', 'score']]\n",
    "\n",
    "# Xem kiểu dữ liệu của df1\n",
    "print(df1.dtypes)\n",
    "\n",
    "# Xem kích thước của df1\n",
    "print(df1.shape)\n",
    "\n",
    "# Hiển thị các dòng dữ liệu đầu tiên của df1\n",
    "print(df1.head())"
   ]
  },
  {
   "cell_type": "code",
   "execution_count": 44,
   "metadata": {},
   "outputs": [
    {
     "name": "stdout",
     "output_type": "stream",
     "text": [
      "          score  attempts\n",
      "count   6.00000  6.000000\n",
      "mean    7.00000  2.333333\n",
      "std     2.19089  0.816497\n",
      "min     4.00000  1.000000\n",
      "25%     6.00000  2.000000\n",
      "50%     6.50000  2.500000\n",
      "75%     8.50000  3.000000\n",
      "max    10.00000  3.000000\n"
     ]
    }
   ],
   "source": [
    "# Câu 2.3: Hiển thị thông tin thống kê chung của tất cả các thuộc tính của dataframe df\n",
    "print(df.describe())"
   ]
  },
  {
   "cell_type": "code",
   "execution_count": 45,
   "metadata": {},
   "outputs": [
    {
     "name": "stdout",
     "output_type": "stream",
     "text": [
      "      name  score\n",
      "b     Dima    9.0\n",
      "d    James   10.0\n",
      "f  Michael    4.0\n"
     ]
    }
   ],
   "source": [
    "# Câu 2.4: Tạo dataframe df2 từ df, chỉ chứa 2 cột là name và score, và chỉ có các dòng 1, 3, 5\n",
    "# Tạo df2 từ df\n",
    "df2 = df[['name', 'score']].iloc[[1, 3, 5]]\n",
    "\n",
    "# In nội dung của dataframe df4\n",
    "print(df2)"
   ]
  },
  {
   "cell_type": "code",
   "execution_count": 46,
   "metadata": {},
   "outputs": [
    {
     "name": "stdout",
     "output_type": "stream",
     "text": [
      "Empty DataFrame\n",
      "Columns: [name, score, attempts, qualify]\n",
      "Index: []\n"
     ]
    }
   ],
   "source": [
    "# Câu 2.5: Từ dataframe df, in các dòng có dữ liệu score bị null\n",
    "df_null_scores = df[df['score'].isnull()]\n",
    "print(df_null_scores)"
   ]
  },
  {
   "cell_type": "code",
   "execution_count": 47,
   "metadata": {},
   "outputs": [
    {
     "name": "stdout",
     "output_type": "stream",
     "text": [
      "        name  score  attempts qualify\n",
      "a  Anastasia    6.0         1     yes\n",
      "b       Dima    9.0         3      no\n",
      "c  Katherine    7.0         2     yes\n",
      "e      Emily    6.0         2      no\n"
     ]
    }
   ],
   "source": [
    "# Câu 2.6: Từ dataframe df, in các dòng có score > 5 và <=9\n",
    "df_filter_score = df[(df['score'] > 5) & (df['score'] <= 9)]\n",
    "print(df_filter_score)"
   ]
  },
  {
   "cell_type": "code",
   "execution_count": 48,
   "metadata": {},
   "outputs": [
    {
     "name": "stdout",
     "output_type": "stream",
     "text": [
      "        name  score  attempts qualify\n",
      "a  Anastasia    6.0         1     yes\n",
      "b       Dima    9.0         3      no\n",
      "c  Katherine    7.0         2     yes\n",
      "d      James   10.0         3      no\n",
      "e      Emily    9.0         2      no\n",
      "f    Michael    4.0         3     yes\n"
     ]
    }
   ],
   "source": [
    "# Câu 2.7: Cập nhật điểm (score) ở Dataframe df ở dòng 'e' thành 9\n",
    "df.loc['e', 'score'] = 9\n",
    "print(df)"
   ]
  },
  {
   "cell_type": "code",
   "execution_count": 49,
   "metadata": {},
   "outputs": [
    {
     "name": "stdout",
     "output_type": "stream",
     "text": [
      "Điểm có tần suất xuất hiện nhiều nhất:  9.0\n",
      "Các dòng có điểm là tần suất xuất hiện nhiều nhất:\n",
      "    name  score  attempts qualify\n",
      "b   Dima    9.0         3      no\n",
      "e  Emily    9.0         2      no\n"
     ]
    }
   ],
   "source": [
    "# Câu 2.8: Cho biết điểm (score) nào có tần suất xuất hiện nhiều nhất trong df, và in ra những dòng có điểm là tần suất xuất hiện nhiều nhất \n",
    "score_counts = df['score'].value_counts()\n",
    "max_score = score_counts.idxmax()\n",
    "print(\"Điểm có tần suất xuất hiện nhiều nhất: \", max_score)\n",
    "df_most_frequent = df[df['score'] == max_score]\n",
    "print(\"Các dòng có điểm là tần suất xuất hiện nhiều nhất:\")\n",
    "print(df_most_frequent)"
   ]
  },
  {
   "cell_type": "code",
   "execution_count": 50,
   "metadata": {},
   "outputs": [
    {
     "name": "stdout",
     "output_type": "stream",
     "text": [
      "      name  score\n",
      "b     Dima    9.0\n",
      "d    James   10.0\n",
      "f  Michael    4.0\n"
     ]
    }
   ],
   "source": [
    "# Câu 2.9: Thêm dòng l có nội dung như sau: ['Janny', 4, 2, 'yes'] vào df. \n",
    "df.loc['l'] = ['Janny', 4, 2, 'yes']\n",
    "# Hiển thị 5 dòng cuối cùng (tail) của df2.\n",
    "df2_tail = df2.tail(5)\n",
    "print(df2_tail)\n"
   ]
  },
  {
   "cell_type": "code",
   "execution_count": 53,
   "metadata": {},
   "outputs": [
    {
     "name": "stdout",
     "output_type": "stream",
     "text": [
      "        name  score  attempts qualify\n",
      "f    Michael    4.0         3     yes\n",
      "l      Janny    4.0         2     yes\n",
      "a  Anastasia    6.0         1     yes\n",
      "c  Katherine    7.0         2     yes\n",
      "b       Dima    9.0         3      no\n",
      "e      Emily    9.0         2      no\n",
      "d      James   10.0         3      no\n"
     ]
    }
   ],
   "source": [
    "# Câu 2.10: Sắp xếp df tăng dần theo điểm (score)\n",
    "df_sorted = df.sort_values('score')\n",
    "print(df_sorted)"
   ]
  },
  {
   "cell_type": "code",
   "execution_count": 54,
   "metadata": {},
   "outputs": [
    {
     "name": "stdout",
     "output_type": "stream",
     "text": [
      "        name  score  attempts qualify    results\n",
      "a  Anastasia    6.0         1     yes        Đạt\n",
      "b       Dima    9.0         3      no        Đạt\n",
      "c  Katherine    7.0         2     yes        Đạt\n",
      "d      James   10.0         3      no        Đạt\n",
      "e      Emily    9.0         2      no        Đạt\n",
      "f    Michael    4.0         3     yes  Không đạt\n",
      "l      Janny    4.0         2     yes  Không đạt\n"
     ]
    }
   ],
   "source": [
    "# Câu 2.11: Dựa vào dữ liệu của cột'score' của df,thêm cột results với giá trị như sau: nếu SV có điểm >=5 thì \"Đạt\" và \n",
    "# nếu SV có điểm <5 thì \"Không đạt\"\n",
    "df['results'] = df['score'].apply(lambda x: 'Đạt' if x >= 5 else 'Không đạt')\n",
    "# In nội dung của dataframe df\n",
    "print(df)"
   ]
  }
 ],
 "metadata": {
  "kernelspec": {
   "display_name": "Python 3 (ipykernel)",
   "language": "python",
   "name": "python3"
  },
  "language_info": {
   "codemirror_mode": {
    "name": "ipython",
    "version": 3
   },
   "file_extension": ".py",
   "mimetype": "text/x-python",
   "name": "python",
   "nbconvert_exporter": "python",
   "pygments_lexer": "ipython3",
   "version": "3.11.4"
  }
 },
 "nbformat": 4,
 "nbformat_minor": 2
}
