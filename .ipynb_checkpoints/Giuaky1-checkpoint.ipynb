{
 "cells": [
  {
   "cell_type": "markdown",
   "metadata": {
    "id": "Wp8VkTKxDDvX"
   },
   "source": [
    "# Topic Predicting Bank Customer Churn\n",
    "## Customer Churn with Logistic Regression"
   ]
  },
  {
   "cell_type": "markdown",
   "metadata": {
    "id": "cqz_Xwv_DDva"
   },
   "source": [
    "#### Tổng quan về bộ dữ liệu\n",
    "- Tập dữ liệu chứa thông tin toàn diện về nhân khẩu học của khách hàng, đó là Độ tuổi, Vị trí và Giới tính. Các biến có trong dữ liệu bao gồm, Điểm tín dụng (điểm thể hiện bản tóm tắt lịch sử tín dụng của khách hàng ngân hàng và cho biết khả năng hoàn trả số tiền đã vay), Thời hạn (điều này cho thấy khách hàng đã làm việc với ngân hàng được bao lâu), Số dư (số tiền một khách hàng có trong tài khoản của họ), NumOfProducts (số lượng sản phẩm mà khách hàng ngân hàng đã mua qua ngân hàng), HasCrCard (biểu thị xem khách hàng có thẻ tín dụng hay không), IsActiveMember (cho chúng tôi biết liệu khách hàng có đang hoạt động hay không), EstimatedSalary (thể hiện mức lương ước tính của khách hàng ngân hàng), Bị bỏ rơi (cho biết khách hàng có bị rời bỏ hay không), Khiếu nại (cho chúng tôi biết nếu khách hàng đã khiếu nại), Điểm hài lòng (cho biết mức độ hài lòng của khách hàng với ngân hàng) dịch vụ), Loại thẻ (biểu thị loại thẻ mà khách hàng ngân hàng nắm giữ), Điểm kiếm được (Là số điểm tích lũy của khách hàng dựa trên hoạt động hoặc cách sử dụng ngân hàng của họ). Dữ liệu này có thể giúp làm sáng tỏ các yếu tố thúc đẩy việc rời bỏ khách hàng của ngân hàng và đưa ra các phương pháp tiếp cận thực tế để dự đoán hành vi rời bỏ.\n",
    "\n",
    "- Tập dữ liệu được sử dụng trong phân tích dự án này được lưu trữ trong tệp CSV, được lấy từ Kaggle và thuộc sở hữu của Dhoni (Tác giả) và Radheshyam Kollipara (Cộng tác viên). Dựa trên tính toán khả năng sử dụng của Kaggle, dữ liệu hoàn chỉnh, đáng tin cậy và được cấp phép. Dữ liệu đã được cập nhật hai tháng trước và có khả năng sử dụng 100%."
   ]
  },
  {
   "cell_type": "markdown",
   "metadata": {
    "id": "DWoIL2E-DDvb"
   },
   "source": [
    "- Là phụ trách bộ phận chăm sóc khách hàng bạn nhận thấy việc phải xây dựng một mô hình\n",
    "Machine Learning để dự đoán việc khách hàng sẽ ra đi hay ở lại. Công việc này vô cùng quan\n",
    "trọng vì giữ chân được khách hàng càng lâu doanh nghiệp của bạn sẽ càng tiết kiệm được\n",
    "chi phí và tăng doanh thu."
   ]
  },
  {
   "cell_type": "markdown",
   "metadata": {
    "id": "4q5EyCQ3DDvc"
   },
   "source": [
    "# Table of Contents\n",
    "[1. Data Preparation](#1data-preparation)\n",
    "\n",
    "[2. Explore Data](#2-explore-data)\n",
    "\n",
    "[3. Explore Variables](#3-explore-variables)\n",
    "\n",
    "[3.1 Xác định các thuộc tính của biến](#31-xác-định-các-thuộc-tính-của-biến)\n",
    "\n",
    "[3.2 Univariate Analysis](#32-univariate-analysis)\n",
    "\n",
    "[3.3 Bivariate Analysis and ANOVA](#33-bivariate-analysis-and-anova)\n",
    "\n",
    "[4. Correlation Analysis](#4-correlation-analysis)\n",
    "\n",
    "[5. Data Pre-processing](#5-data-pre-processing)\n",
    "\n",
    "[5.1 Detecting and Handling the Outlier](#51-detecting-and-handling-the-outlier)\n",
    "\n",
    "[5.2 Normalization Data](#52-normalization-data)\n",
    "\n",
    "[5.3 Categorical Data Encoding](#53-categorical-data-encoding)\n",
    "\n",
    "[6. Logistic Regression with Customer Churn](#6-logistic-regression-with-customer-churn)\n",
    "\n",
    "[6.1 Original Data](#61-original-data)\n",
    "\n",
    "[6.2 Resampling Data](#62-resampling-data)\n",
    "\n",
    "[7. Final for Customer Churn](#7-final-for-customer-churn)\n",
    "\n",
    "[8. Conclusion](#8-conclusion)"
   ]
  },
  {
   "cell_type": "markdown",
   "metadata": {
    "id": "n_bK3b9VDDvc"
   },
   "source": [
    "## 1.Data preparation"
   ]
  },
  {
   "cell_type": "markdown",
   "metadata": {
    "id": "HtdnEyYSDDvc"
   },
   "source": [
    "### Import library and Load Data From CSV File"
   ]
  },
  {
   "cell_type": "code",
   "execution_count": 411,
   "metadata": {
    "id": "2UM9jkAFDDvd"
   },
   "outputs": [],
   "source": [
    "# Import các thư viện\n",
    "import numpy as np\n",
    "import pandas as pd\n",
    "import matplotlib.pyplot as plt\n",
    "import seaborn as sns"
   ]
  },
  {
   "cell_type": "code",
   "execution_count": 412,
   "metadata": {
    "id": "fpglM5ERDDve"
   },
   "outputs": [],
   "source": [
    "# Đọc dữ liệu, kiểm tra dữ liệu\n",
    "df = pd.read_csv('Customer-Churn-Records.csv')"
   ]
  },
  {
   "cell_type": "markdown",
   "metadata": {
    "id": "2UYUNdpoDDve"
   },
   "source": [
    "## 2. Explore Data"
   ]
  },
  {
   "cell_type": "code",
   "execution_count": 413,
   "metadata": {
    "id": "_qe0MNKiDDvf",
    "outputId": "9b72b06b-1882-47ba-d18a-b06c55042451"
   },
   "outputs": [
    {
     "data": {
      "text/plain": [
       "(10000, 18)"
      ]
     },
     "execution_count": 413,
     "metadata": {},
     "output_type": "execute_result"
    }
   ],
   "source": [
    "# Kích thước của DataFrame, bao gồm số lượng hàng và cột.\n",
    "df.shape\n",
    "# Bộ dữ liệu có 10.000 dòng và 18 cột"
   ]
  },
  {
   "cell_type": "code",
   "execution_count": 414,
   "metadata": {
    "id": "fIvUAx7WDDvf",
    "outputId": "4151d578-74f8-4f26-b5f8-098b995e8e94"
   },
   "outputs": [
    {
     "name": "stdout",
     "output_type": "stream",
     "text": [
      "<class 'pandas.core.frame.DataFrame'>\n",
      "RangeIndex: 10000 entries, 0 to 9999\n",
      "Data columns (total 18 columns):\n",
      " #   Column              Non-Null Count  Dtype  \n",
      "---  ------              --------------  -----  \n",
      " 0   RowNumber           10000 non-null  int64  \n",
      " 1   CustomerId          10000 non-null  int64  \n",
      " 2   Surname             10000 non-null  object \n",
      " 3   CreditScore         10000 non-null  int64  \n",
      " 4   Geography           10000 non-null  object \n",
      " 5   Gender              10000 non-null  object \n",
      " 6   Age                 10000 non-null  int64  \n",
      " 7   Tenure              10000 non-null  int64  \n",
      " 8   Balance             10000 non-null  float64\n",
      " 9   NumOfProducts       10000 non-null  int64  \n",
      " 10  HasCrCard           10000 non-null  int64  \n",
      " 11  IsActiveMember      10000 non-null  int64  \n",
      " 12  EstimatedSalary     10000 non-null  float64\n",
      " 13  Exited              10000 non-null  int64  \n",
      " 14  Complain            10000 non-null  int64  \n",
      " 15  Satisfaction Score  10000 non-null  int64  \n",
      " 16  Card Type           10000 non-null  object \n",
      " 17  Point Earned        10000 non-null  int64  \n",
      "dtypes: float64(2), int64(12), object(4)\n",
      "memory usage: 1.4+ MB\n"
     ]
    }
   ],
   "source": [
    "# Tổng quan về dataset\n",
    "df.info()"
   ]
  },
  {
   "cell_type": "code",
   "execution_count": 415,
   "metadata": {
    "id": "G6mieAZvDDvg"
   },
   "outputs": [],
   "source": [
    "# Đổi tên cột 'Geography' thành 'Country' và cột 'Exited' thành 'Churned'\n",
    "\n",
    "df.rename(columns={\"Geography\":\"Country\", \"Exited\":\"Churned\"}, inplace=True)\n",
    "\n",
    "# Chuyển đổi kiểu dữ liệu của cột 'CustomerId' từ kiểu số thành kiểu chuỗi\n",
    "\n",
    "df[\"CustomerId\"]=df[\"CustomerId\"].astype(str)"
   ]
  },
  {
   "cell_type": "code",
   "execution_count": 416,
   "metadata": {
    "id": "JgvCKuWCDDvg",
    "outputId": "613d84ca-4e83-44e4-e235-c5130f7e5ea0"
   },
   "outputs": [
    {
     "data": {
      "text/plain": [
       "RowNumber             0\n",
       "CustomerId            0\n",
       "Surname               0\n",
       "CreditScore           0\n",
       "Country               0\n",
       "Gender                0\n",
       "Age                   0\n",
       "Tenure                0\n",
       "Balance               0\n",
       "NumOfProducts         0\n",
       "HasCrCard             0\n",
       "IsActiveMember        0\n",
       "EstimatedSalary       0\n",
       "Churned               0\n",
       "Complain              0\n",
       "Satisfaction Score    0\n",
       "Card Type             0\n",
       "Point Earned          0\n",
       "dtype: int64"
      ]
     },
     "execution_count": 416,
     "metadata": {},
     "output_type": "execute_result"
    }
   ],
   "source": [
    "# Kiểm tra dữ liệu có bị null hay không.\n",
    "df.isnull().sum()"
   ]
  },
  {
   "cell_type": "code",
   "execution_count": 417,
   "metadata": {
    "id": "iSoJIeVSDDvg",
    "outputId": "a94b39d3-40df-4e1c-ee88-d4d7016a6111"
   },
   "outputs": [
    {
     "data": {
      "text/plain": [
       "0"
      ]
     },
     "execution_count": 417,
     "metadata": {},
     "output_type": "execute_result"
    }
   ],
   "source": [
    "# Kiểm tra các dòng bị trùng lặp\n",
    "df.duplicated().sum()"
   ]
  },
  {
   "cell_type": "code",
   "execution_count": 418,
   "metadata": {
    "id": "flccZiArDDvh",
    "outputId": "8e37eff9-adc2-4625-d3cd-dd1479069ffd"
   },
   "outputs": [
    {
     "data": {
      "text/html": [
       "<div>\n",
       "<style scoped>\n",
       "    .dataframe tbody tr th:only-of-type {\n",
       "        vertical-align: middle;\n",
       "    }\n",
       "\n",
       "    .dataframe tbody tr th {\n",
       "        vertical-align: top;\n",
       "    }\n",
       "\n",
       "    .dataframe thead th {\n",
       "        text-align: right;\n",
       "    }\n",
       "</style>\n",
       "<table border=\"1\" class=\"dataframe\">\n",
       "  <thead>\n",
       "    <tr style=\"text-align: right;\">\n",
       "      <th></th>\n",
       "      <th>RowNumber</th>\n",
       "      <th>CustomerId</th>\n",
       "      <th>Surname</th>\n",
       "      <th>CreditScore</th>\n",
       "      <th>Country</th>\n",
       "      <th>Gender</th>\n",
       "      <th>Age</th>\n",
       "      <th>Tenure</th>\n",
       "      <th>Balance</th>\n",
       "      <th>NumOfProducts</th>\n",
       "      <th>HasCrCard</th>\n",
       "      <th>IsActiveMember</th>\n",
       "      <th>EstimatedSalary</th>\n",
       "      <th>Churned</th>\n",
       "      <th>Complain</th>\n",
       "      <th>Satisfaction Score</th>\n",
       "      <th>Card Type</th>\n",
       "      <th>Point Earned</th>\n",
       "    </tr>\n",
       "  </thead>\n",
       "  <tbody>\n",
       "    <tr>\n",
       "      <th>0</th>\n",
       "      <td>1</td>\n",
       "      <td>15634602</td>\n",
       "      <td>Hargrave</td>\n",
       "      <td>619</td>\n",
       "      <td>France</td>\n",
       "      <td>Female</td>\n",
       "      <td>42</td>\n",
       "      <td>2</td>\n",
       "      <td>0.00</td>\n",
       "      <td>1</td>\n",
       "      <td>1</td>\n",
       "      <td>1</td>\n",
       "      <td>101348.88</td>\n",
       "      <td>1</td>\n",
       "      <td>1</td>\n",
       "      <td>2</td>\n",
       "      <td>DIAMOND</td>\n",
       "      <td>464</td>\n",
       "    </tr>\n",
       "    <tr>\n",
       "      <th>1</th>\n",
       "      <td>2</td>\n",
       "      <td>15647311</td>\n",
       "      <td>Hill</td>\n",
       "      <td>608</td>\n",
       "      <td>Spain</td>\n",
       "      <td>Female</td>\n",
       "      <td>41</td>\n",
       "      <td>1</td>\n",
       "      <td>83807.86</td>\n",
       "      <td>1</td>\n",
       "      <td>0</td>\n",
       "      <td>1</td>\n",
       "      <td>112542.58</td>\n",
       "      <td>0</td>\n",
       "      <td>1</td>\n",
       "      <td>3</td>\n",
       "      <td>DIAMOND</td>\n",
       "      <td>456</td>\n",
       "    </tr>\n",
       "    <tr>\n",
       "      <th>2</th>\n",
       "      <td>3</td>\n",
       "      <td>15619304</td>\n",
       "      <td>Onio</td>\n",
       "      <td>502</td>\n",
       "      <td>France</td>\n",
       "      <td>Female</td>\n",
       "      <td>42</td>\n",
       "      <td>8</td>\n",
       "      <td>159660.80</td>\n",
       "      <td>3</td>\n",
       "      <td>1</td>\n",
       "      <td>0</td>\n",
       "      <td>113931.57</td>\n",
       "      <td>1</td>\n",
       "      <td>1</td>\n",
       "      <td>3</td>\n",
       "      <td>DIAMOND</td>\n",
       "      <td>377</td>\n",
       "    </tr>\n",
       "    <tr>\n",
       "      <th>3</th>\n",
       "      <td>4</td>\n",
       "      <td>15701354</td>\n",
       "      <td>Boni</td>\n",
       "      <td>699</td>\n",
       "      <td>France</td>\n",
       "      <td>Female</td>\n",
       "      <td>39</td>\n",
       "      <td>1</td>\n",
       "      <td>0.00</td>\n",
       "      <td>2</td>\n",
       "      <td>0</td>\n",
       "      <td>0</td>\n",
       "      <td>93826.63</td>\n",
       "      <td>0</td>\n",
       "      <td>0</td>\n",
       "      <td>5</td>\n",
       "      <td>GOLD</td>\n",
       "      <td>350</td>\n",
       "    </tr>\n",
       "    <tr>\n",
       "      <th>4</th>\n",
       "      <td>5</td>\n",
       "      <td>15737888</td>\n",
       "      <td>Mitchell</td>\n",
       "      <td>850</td>\n",
       "      <td>Spain</td>\n",
       "      <td>Female</td>\n",
       "      <td>43</td>\n",
       "      <td>2</td>\n",
       "      <td>125510.82</td>\n",
       "      <td>1</td>\n",
       "      <td>1</td>\n",
       "      <td>1</td>\n",
       "      <td>79084.10</td>\n",
       "      <td>0</td>\n",
       "      <td>0</td>\n",
       "      <td>5</td>\n",
       "      <td>GOLD</td>\n",
       "      <td>425</td>\n",
       "    </tr>\n",
       "  </tbody>\n",
       "</table>\n",
       "</div>"
      ],
      "text/plain": [
       "   RowNumber CustomerId   Surname  CreditScore Country  Gender  Age  Tenure  \\\n",
       "0          1   15634602  Hargrave          619  France  Female   42       2   \n",
       "1          2   15647311      Hill          608   Spain  Female   41       1   \n",
       "2          3   15619304      Onio          502  France  Female   42       8   \n",
       "3          4   15701354      Boni          699  France  Female   39       1   \n",
       "4          5   15737888  Mitchell          850   Spain  Female   43       2   \n",
       "\n",
       "     Balance  NumOfProducts  HasCrCard  IsActiveMember  EstimatedSalary  \\\n",
       "0       0.00              1          1               1        101348.88   \n",
       "1   83807.86              1          0               1        112542.58   \n",
       "2  159660.80              3          1               0        113931.57   \n",
       "3       0.00              2          0               0         93826.63   \n",
       "4  125510.82              1          1               1         79084.10   \n",
       "\n",
       "   Churned  Complain  Satisfaction Score Card Type  Point Earned  \n",
       "0        1         1                   2   DIAMOND           464  \n",
       "1        0         1                   3   DIAMOND           456  \n",
       "2        1         1                   3   DIAMOND           377  \n",
       "3        0         0                   5      GOLD           350  \n",
       "4        0         0                   5      GOLD           425  "
      ]
     },
     "execution_count": 418,
     "metadata": {},
     "output_type": "execute_result"
    }
   ],
   "source": [
    "# Đọc 5 dòng đầu tiên\n",
    "df.head()"
   ]
  },
  {
   "cell_type": "code",
   "execution_count": 419,
   "metadata": {
    "id": "tubvGVqJDDvh",
    "outputId": "12692fd9-93da-4f72-9a01-9dbd9df85b46"
   },
   "outputs": [
    {
     "data": {
      "text/html": [
       "<div>\n",
       "<style scoped>\n",
       "    .dataframe tbody tr th:only-of-type {\n",
       "        vertical-align: middle;\n",
       "    }\n",
       "\n",
       "    .dataframe tbody tr th {\n",
       "        vertical-align: top;\n",
       "    }\n",
       "\n",
       "    .dataframe thead th {\n",
       "        text-align: right;\n",
       "    }\n",
       "</style>\n",
       "<table border=\"1\" class=\"dataframe\">\n",
       "  <thead>\n",
       "    <tr style=\"text-align: right;\">\n",
       "      <th></th>\n",
       "      <th>RowNumber</th>\n",
       "      <th>CustomerId</th>\n",
       "      <th>Surname</th>\n",
       "      <th>CreditScore</th>\n",
       "      <th>Country</th>\n",
       "      <th>Gender</th>\n",
       "      <th>Age</th>\n",
       "      <th>Tenure</th>\n",
       "      <th>Balance</th>\n",
       "      <th>NumOfProducts</th>\n",
       "      <th>HasCrCard</th>\n",
       "      <th>IsActiveMember</th>\n",
       "      <th>EstimatedSalary</th>\n",
       "      <th>Churned</th>\n",
       "      <th>Complain</th>\n",
       "      <th>Satisfaction Score</th>\n",
       "      <th>Card Type</th>\n",
       "      <th>Point Earned</th>\n",
       "    </tr>\n",
       "  </thead>\n",
       "  <tbody>\n",
       "    <tr>\n",
       "      <th>9995</th>\n",
       "      <td>9996</td>\n",
       "      <td>15606229</td>\n",
       "      <td>Obijiaku</td>\n",
       "      <td>771</td>\n",
       "      <td>France</td>\n",
       "      <td>Male</td>\n",
       "      <td>39</td>\n",
       "      <td>5</td>\n",
       "      <td>0.00</td>\n",
       "      <td>2</td>\n",
       "      <td>1</td>\n",
       "      <td>0</td>\n",
       "      <td>96270.64</td>\n",
       "      <td>0</td>\n",
       "      <td>0</td>\n",
       "      <td>1</td>\n",
       "      <td>DIAMOND</td>\n",
       "      <td>300</td>\n",
       "    </tr>\n",
       "    <tr>\n",
       "      <th>9996</th>\n",
       "      <td>9997</td>\n",
       "      <td>15569892</td>\n",
       "      <td>Johnstone</td>\n",
       "      <td>516</td>\n",
       "      <td>France</td>\n",
       "      <td>Male</td>\n",
       "      <td>35</td>\n",
       "      <td>10</td>\n",
       "      <td>57369.61</td>\n",
       "      <td>1</td>\n",
       "      <td>1</td>\n",
       "      <td>1</td>\n",
       "      <td>101699.77</td>\n",
       "      <td>0</td>\n",
       "      <td>0</td>\n",
       "      <td>5</td>\n",
       "      <td>PLATINUM</td>\n",
       "      <td>771</td>\n",
       "    </tr>\n",
       "    <tr>\n",
       "      <th>9997</th>\n",
       "      <td>9998</td>\n",
       "      <td>15584532</td>\n",
       "      <td>Liu</td>\n",
       "      <td>709</td>\n",
       "      <td>France</td>\n",
       "      <td>Female</td>\n",
       "      <td>36</td>\n",
       "      <td>7</td>\n",
       "      <td>0.00</td>\n",
       "      <td>1</td>\n",
       "      <td>0</td>\n",
       "      <td>1</td>\n",
       "      <td>42085.58</td>\n",
       "      <td>1</td>\n",
       "      <td>1</td>\n",
       "      <td>3</td>\n",
       "      <td>SILVER</td>\n",
       "      <td>564</td>\n",
       "    </tr>\n",
       "    <tr>\n",
       "      <th>9998</th>\n",
       "      <td>9999</td>\n",
       "      <td>15682355</td>\n",
       "      <td>Sabbatini</td>\n",
       "      <td>772</td>\n",
       "      <td>Germany</td>\n",
       "      <td>Male</td>\n",
       "      <td>42</td>\n",
       "      <td>3</td>\n",
       "      <td>75075.31</td>\n",
       "      <td>2</td>\n",
       "      <td>1</td>\n",
       "      <td>0</td>\n",
       "      <td>92888.52</td>\n",
       "      <td>1</td>\n",
       "      <td>1</td>\n",
       "      <td>2</td>\n",
       "      <td>GOLD</td>\n",
       "      <td>339</td>\n",
       "    </tr>\n",
       "    <tr>\n",
       "      <th>9999</th>\n",
       "      <td>10000</td>\n",
       "      <td>15628319</td>\n",
       "      <td>Walker</td>\n",
       "      <td>792</td>\n",
       "      <td>France</td>\n",
       "      <td>Female</td>\n",
       "      <td>28</td>\n",
       "      <td>4</td>\n",
       "      <td>130142.79</td>\n",
       "      <td>1</td>\n",
       "      <td>1</td>\n",
       "      <td>0</td>\n",
       "      <td>38190.78</td>\n",
       "      <td>0</td>\n",
       "      <td>0</td>\n",
       "      <td>3</td>\n",
       "      <td>DIAMOND</td>\n",
       "      <td>911</td>\n",
       "    </tr>\n",
       "  </tbody>\n",
       "</table>\n",
       "</div>"
      ],
      "text/plain": [
       "      RowNumber CustomerId    Surname  CreditScore  Country  Gender  Age  \\\n",
       "9995       9996   15606229   Obijiaku          771   France    Male   39   \n",
       "9996       9997   15569892  Johnstone          516   France    Male   35   \n",
       "9997       9998   15584532        Liu          709   France  Female   36   \n",
       "9998       9999   15682355  Sabbatini          772  Germany    Male   42   \n",
       "9999      10000   15628319     Walker          792   France  Female   28   \n",
       "\n",
       "      Tenure    Balance  NumOfProducts  HasCrCard  IsActiveMember  \\\n",
       "9995       5       0.00              2          1               0   \n",
       "9996      10   57369.61              1          1               1   \n",
       "9997       7       0.00              1          0               1   \n",
       "9998       3   75075.31              2          1               0   \n",
       "9999       4  130142.79              1          1               0   \n",
       "\n",
       "      EstimatedSalary  Churned  Complain  Satisfaction Score Card Type  \\\n",
       "9995         96270.64        0         0                   1   DIAMOND   \n",
       "9996        101699.77        0         0                   5  PLATINUM   \n",
       "9997         42085.58        1         1                   3    SILVER   \n",
       "9998         92888.52        1         1                   2      GOLD   \n",
       "9999         38190.78        0         0                   3   DIAMOND   \n",
       "\n",
       "      Point Earned  \n",
       "9995           300  \n",
       "9996           771  \n",
       "9997           564  \n",
       "9998           339  \n",
       "9999           911  "
      ]
     },
     "execution_count": 419,
     "metadata": {},
     "output_type": "execute_result"
    }
   ],
   "source": [
    "# Đọc 5 dòng cuối\n",
    "df.tail()"
   ]
  },
  {
   "cell_type": "code",
   "execution_count": 420,
   "metadata": {
    "id": "VVH_7vBPDDvh",
    "outputId": "f2eacf2b-3ee0-4b98-c8a2-df34b5936e26"
   },
   "outputs": [
    {
     "data": {
      "text/html": [
       "<div>\n",
       "<style scoped>\n",
       "    .dataframe tbody tr th:only-of-type {\n",
       "        vertical-align: middle;\n",
       "    }\n",
       "\n",
       "    .dataframe tbody tr th {\n",
       "        vertical-align: top;\n",
       "    }\n",
       "\n",
       "    .dataframe thead th {\n",
       "        text-align: right;\n",
       "    }\n",
       "</style>\n",
       "<table border=\"1\" class=\"dataframe\">\n",
       "  <thead>\n",
       "    <tr style=\"text-align: right;\">\n",
       "      <th></th>\n",
       "      <th>RowNumber</th>\n",
       "      <th>CreditScore</th>\n",
       "      <th>Age</th>\n",
       "      <th>Tenure</th>\n",
       "      <th>Balance</th>\n",
       "      <th>NumOfProducts</th>\n",
       "      <th>HasCrCard</th>\n",
       "      <th>IsActiveMember</th>\n",
       "      <th>EstimatedSalary</th>\n",
       "      <th>Churned</th>\n",
       "      <th>Complain</th>\n",
       "      <th>Satisfaction Score</th>\n",
       "      <th>Point Earned</th>\n",
       "    </tr>\n",
       "  </thead>\n",
       "  <tbody>\n",
       "    <tr>\n",
       "      <th>count</th>\n",
       "      <td>10000.00000</td>\n",
       "      <td>10000.000000</td>\n",
       "      <td>10000.000000</td>\n",
       "      <td>10000.000000</td>\n",
       "      <td>10000.000000</td>\n",
       "      <td>10000.000000</td>\n",
       "      <td>10000.00000</td>\n",
       "      <td>10000.000000</td>\n",
       "      <td>10000.000000</td>\n",
       "      <td>10000.000000</td>\n",
       "      <td>10000.000000</td>\n",
       "      <td>10000.000000</td>\n",
       "      <td>10000.000000</td>\n",
       "    </tr>\n",
       "    <tr>\n",
       "      <th>mean</th>\n",
       "      <td>5000.50000</td>\n",
       "      <td>650.528800</td>\n",
       "      <td>38.921800</td>\n",
       "      <td>5.012800</td>\n",
       "      <td>76485.889288</td>\n",
       "      <td>1.530200</td>\n",
       "      <td>0.70550</td>\n",
       "      <td>0.515100</td>\n",
       "      <td>100090.239881</td>\n",
       "      <td>0.203800</td>\n",
       "      <td>0.204400</td>\n",
       "      <td>3.013800</td>\n",
       "      <td>606.515100</td>\n",
       "    </tr>\n",
       "    <tr>\n",
       "      <th>std</th>\n",
       "      <td>2886.89568</td>\n",
       "      <td>96.653299</td>\n",
       "      <td>10.487806</td>\n",
       "      <td>2.892174</td>\n",
       "      <td>62397.405202</td>\n",
       "      <td>0.581654</td>\n",
       "      <td>0.45584</td>\n",
       "      <td>0.499797</td>\n",
       "      <td>57510.492818</td>\n",
       "      <td>0.402842</td>\n",
       "      <td>0.403283</td>\n",
       "      <td>1.405919</td>\n",
       "      <td>225.924839</td>\n",
       "    </tr>\n",
       "    <tr>\n",
       "      <th>min</th>\n",
       "      <td>1.00000</td>\n",
       "      <td>350.000000</td>\n",
       "      <td>18.000000</td>\n",
       "      <td>0.000000</td>\n",
       "      <td>0.000000</td>\n",
       "      <td>1.000000</td>\n",
       "      <td>0.00000</td>\n",
       "      <td>0.000000</td>\n",
       "      <td>11.580000</td>\n",
       "      <td>0.000000</td>\n",
       "      <td>0.000000</td>\n",
       "      <td>1.000000</td>\n",
       "      <td>119.000000</td>\n",
       "    </tr>\n",
       "    <tr>\n",
       "      <th>25%</th>\n",
       "      <td>2500.75000</td>\n",
       "      <td>584.000000</td>\n",
       "      <td>32.000000</td>\n",
       "      <td>3.000000</td>\n",
       "      <td>0.000000</td>\n",
       "      <td>1.000000</td>\n",
       "      <td>0.00000</td>\n",
       "      <td>0.000000</td>\n",
       "      <td>51002.110000</td>\n",
       "      <td>0.000000</td>\n",
       "      <td>0.000000</td>\n",
       "      <td>2.000000</td>\n",
       "      <td>410.000000</td>\n",
       "    </tr>\n",
       "    <tr>\n",
       "      <th>50%</th>\n",
       "      <td>5000.50000</td>\n",
       "      <td>652.000000</td>\n",
       "      <td>37.000000</td>\n",
       "      <td>5.000000</td>\n",
       "      <td>97198.540000</td>\n",
       "      <td>1.000000</td>\n",
       "      <td>1.00000</td>\n",
       "      <td>1.000000</td>\n",
       "      <td>100193.915000</td>\n",
       "      <td>0.000000</td>\n",
       "      <td>0.000000</td>\n",
       "      <td>3.000000</td>\n",
       "      <td>605.000000</td>\n",
       "    </tr>\n",
       "    <tr>\n",
       "      <th>75%</th>\n",
       "      <td>7500.25000</td>\n",
       "      <td>718.000000</td>\n",
       "      <td>44.000000</td>\n",
       "      <td>7.000000</td>\n",
       "      <td>127644.240000</td>\n",
       "      <td>2.000000</td>\n",
       "      <td>1.00000</td>\n",
       "      <td>1.000000</td>\n",
       "      <td>149388.247500</td>\n",
       "      <td>0.000000</td>\n",
       "      <td>0.000000</td>\n",
       "      <td>4.000000</td>\n",
       "      <td>801.000000</td>\n",
       "    </tr>\n",
       "    <tr>\n",
       "      <th>max</th>\n",
       "      <td>10000.00000</td>\n",
       "      <td>850.000000</td>\n",
       "      <td>92.000000</td>\n",
       "      <td>10.000000</td>\n",
       "      <td>250898.090000</td>\n",
       "      <td>4.000000</td>\n",
       "      <td>1.00000</td>\n",
       "      <td>1.000000</td>\n",
       "      <td>199992.480000</td>\n",
       "      <td>1.000000</td>\n",
       "      <td>1.000000</td>\n",
       "      <td>5.000000</td>\n",
       "      <td>1000.000000</td>\n",
       "    </tr>\n",
       "  </tbody>\n",
       "</table>\n",
       "</div>"
      ],
      "text/plain": [
       "         RowNumber   CreditScore           Age        Tenure        Balance  \\\n",
       "count  10000.00000  10000.000000  10000.000000  10000.000000   10000.000000   \n",
       "mean    5000.50000    650.528800     38.921800      5.012800   76485.889288   \n",
       "std     2886.89568     96.653299     10.487806      2.892174   62397.405202   \n",
       "min        1.00000    350.000000     18.000000      0.000000       0.000000   \n",
       "25%     2500.75000    584.000000     32.000000      3.000000       0.000000   \n",
       "50%     5000.50000    652.000000     37.000000      5.000000   97198.540000   \n",
       "75%     7500.25000    718.000000     44.000000      7.000000  127644.240000   \n",
       "max    10000.00000    850.000000     92.000000     10.000000  250898.090000   \n",
       "\n",
       "       NumOfProducts    HasCrCard  IsActiveMember  EstimatedSalary  \\\n",
       "count   10000.000000  10000.00000    10000.000000     10000.000000   \n",
       "mean        1.530200      0.70550        0.515100    100090.239881   \n",
       "std         0.581654      0.45584        0.499797     57510.492818   \n",
       "min         1.000000      0.00000        0.000000        11.580000   \n",
       "25%         1.000000      0.00000        0.000000     51002.110000   \n",
       "50%         1.000000      1.00000        1.000000    100193.915000   \n",
       "75%         2.000000      1.00000        1.000000    149388.247500   \n",
       "max         4.000000      1.00000        1.000000    199992.480000   \n",
       "\n",
       "            Churned      Complain  Satisfaction Score  Point Earned  \n",
       "count  10000.000000  10000.000000        10000.000000  10000.000000  \n",
       "mean       0.203800      0.204400            3.013800    606.515100  \n",
       "std        0.402842      0.403283            1.405919    225.924839  \n",
       "min        0.000000      0.000000            1.000000    119.000000  \n",
       "25%        0.000000      0.000000            2.000000    410.000000  \n",
       "50%        0.000000      0.000000            3.000000    605.000000  \n",
       "75%        0.000000      0.000000            4.000000    801.000000  \n",
       "max        1.000000      1.000000            5.000000   1000.000000  "
      ]
     },
     "execution_count": 420,
     "metadata": {},
     "output_type": "execute_result"
    }
   ],
   "source": [
    "# Thống kê mô tả bộ dữ liệu\n",
    "df.describe()"
   ]
  },
  {
   "cell_type": "markdown",
   "metadata": {
    "id": "qUCs6w-aDDvh"
   },
   "source": [
    "- Bộ dữ liệu có 10.000 dòng\n",
    "- CreditScore: Điểm tín dụng nằm trong khoảng 350-850\n",
    "- Age: Độ tuổi trung bình là 39, người trẻ nhất: 18 tuổi, người già nhất: 92 tuổi, 75% số người trong bộ dữ liệu là dưới 44 tuổi.\n",
    "- Tenure: Cho biết số năm mà khách hàng đã ở với ngân hàng bao lâu.\n",
    "- Balance: Số dư trong tài khoản\n",
    "- NumOfProducts: Số sản phẩm mà khách hàng đã mua thông qua ngân hàng\n",
    "- HasCrCard: Có hay không có thẻ tín dụng (0=Không,1=Có)\n",
    "- IsActiveMember: Khách hàng có tư cách thành viên đang hoạt động không (0=Không,1=Có)\n",
    "- EstimatedSalary: Mức lương thu nhập ước tính của khách hàng\n",
    "- Churned: Khách hàng đã rời bỏ sử dụng dịch vụ hay chưa (0=Không,1=Có)\n",
    "- Complain: Khách hàng có hoặc không phàn nàn (0=Không,1=Có)\n",
    "- Satisfaction Score: Cho biết mức độ hài lòng của một khách hàng với dịch vụ ngân hàng.\n",
    "- Point Earned: Số điểm tích lũy bởi một khách hàng"
   ]
  },
  {
   "cell_type": "code",
   "execution_count": 421,
   "metadata": {
    "id": "COlh9gVSDDvh"
   },
   "outputs": [],
   "source": [
    "# Dựa trên thông tin trên ta thấy các cột không dùng trong model là:\n",
    "# RowNumber, CustomerId, Surname"
   ]
  },
  {
   "cell_type": "code",
   "execution_count": 422,
   "metadata": {
    "id": "9FMJ_bTZDDvi",
    "outputId": "87d5f176-294e-47ce-90c5-6bc4ec798431"
   },
   "outputs": [
    {
     "data": {
      "text/html": [
       "<div>\n",
       "<style scoped>\n",
       "    .dataframe tbody tr th:only-of-type {\n",
       "        vertical-align: middle;\n",
       "    }\n",
       "\n",
       "    .dataframe tbody tr th {\n",
       "        vertical-align: top;\n",
       "    }\n",
       "\n",
       "    .dataframe thead th {\n",
       "        text-align: right;\n",
       "    }\n",
       "</style>\n",
       "<table border=\"1\" class=\"dataframe\">\n",
       "  <thead>\n",
       "    <tr style=\"text-align: right;\">\n",
       "      <th></th>\n",
       "      <th>CreditScore</th>\n",
       "      <th>Country</th>\n",
       "      <th>Gender</th>\n",
       "      <th>Age</th>\n",
       "      <th>Tenure</th>\n",
       "      <th>Balance</th>\n",
       "      <th>NumOfProducts</th>\n",
       "      <th>HasCrCard</th>\n",
       "      <th>IsActiveMember</th>\n",
       "      <th>EstimatedSalary</th>\n",
       "      <th>Churned</th>\n",
       "      <th>Complain</th>\n",
       "      <th>Satisfaction Score</th>\n",
       "      <th>Card Type</th>\n",
       "      <th>Point Earned</th>\n",
       "    </tr>\n",
       "  </thead>\n",
       "  <tbody>\n",
       "    <tr>\n",
       "      <th>0</th>\n",
       "      <td>619</td>\n",
       "      <td>France</td>\n",
       "      <td>Female</td>\n",
       "      <td>42</td>\n",
       "      <td>2</td>\n",
       "      <td>0.00</td>\n",
       "      <td>1</td>\n",
       "      <td>1</td>\n",
       "      <td>1</td>\n",
       "      <td>101348.88</td>\n",
       "      <td>1</td>\n",
       "      <td>1</td>\n",
       "      <td>2</td>\n",
       "      <td>DIAMOND</td>\n",
       "      <td>464</td>\n",
       "    </tr>\n",
       "    <tr>\n",
       "      <th>1</th>\n",
       "      <td>608</td>\n",
       "      <td>Spain</td>\n",
       "      <td>Female</td>\n",
       "      <td>41</td>\n",
       "      <td>1</td>\n",
       "      <td>83807.86</td>\n",
       "      <td>1</td>\n",
       "      <td>0</td>\n",
       "      <td>1</td>\n",
       "      <td>112542.58</td>\n",
       "      <td>0</td>\n",
       "      <td>1</td>\n",
       "      <td>3</td>\n",
       "      <td>DIAMOND</td>\n",
       "      <td>456</td>\n",
       "    </tr>\n",
       "    <tr>\n",
       "      <th>2</th>\n",
       "      <td>502</td>\n",
       "      <td>France</td>\n",
       "      <td>Female</td>\n",
       "      <td>42</td>\n",
       "      <td>8</td>\n",
       "      <td>159660.80</td>\n",
       "      <td>3</td>\n",
       "      <td>1</td>\n",
       "      <td>0</td>\n",
       "      <td>113931.57</td>\n",
       "      <td>1</td>\n",
       "      <td>1</td>\n",
       "      <td>3</td>\n",
       "      <td>DIAMOND</td>\n",
       "      <td>377</td>\n",
       "    </tr>\n",
       "    <tr>\n",
       "      <th>3</th>\n",
       "      <td>699</td>\n",
       "      <td>France</td>\n",
       "      <td>Female</td>\n",
       "      <td>39</td>\n",
       "      <td>1</td>\n",
       "      <td>0.00</td>\n",
       "      <td>2</td>\n",
       "      <td>0</td>\n",
       "      <td>0</td>\n",
       "      <td>93826.63</td>\n",
       "      <td>0</td>\n",
       "      <td>0</td>\n",
       "      <td>5</td>\n",
       "      <td>GOLD</td>\n",
       "      <td>350</td>\n",
       "    </tr>\n",
       "    <tr>\n",
       "      <th>4</th>\n",
       "      <td>850</td>\n",
       "      <td>Spain</td>\n",
       "      <td>Female</td>\n",
       "      <td>43</td>\n",
       "      <td>2</td>\n",
       "      <td>125510.82</td>\n",
       "      <td>1</td>\n",
       "      <td>1</td>\n",
       "      <td>1</td>\n",
       "      <td>79084.10</td>\n",
       "      <td>0</td>\n",
       "      <td>0</td>\n",
       "      <td>5</td>\n",
       "      <td>GOLD</td>\n",
       "      <td>425</td>\n",
       "    </tr>\n",
       "  </tbody>\n",
       "</table>\n",
       "</div>"
      ],
      "text/plain": [
       "   CreditScore Country  Gender  Age  Tenure    Balance  NumOfProducts  \\\n",
       "0          619  France  Female   42       2       0.00              1   \n",
       "1          608   Spain  Female   41       1   83807.86              1   \n",
       "2          502  France  Female   42       8  159660.80              3   \n",
       "3          699  France  Female   39       1       0.00              2   \n",
       "4          850   Spain  Female   43       2  125510.82              1   \n",
       "\n",
       "   HasCrCard  IsActiveMember  EstimatedSalary  Churned  Complain  \\\n",
       "0          1               1        101348.88        1         1   \n",
       "1          0               1        112542.58        0         1   \n",
       "2          1               0        113931.57        1         1   \n",
       "3          0               0         93826.63        0         0   \n",
       "4          1               1         79084.10        0         0   \n",
       "\n",
       "   Satisfaction Score Card Type  Point Earned  \n",
       "0                   2   DIAMOND           464  \n",
       "1                   3   DIAMOND           456  \n",
       "2                   3   DIAMOND           377  \n",
       "3                   5      GOLD           350  \n",
       "4                   5      GOLD           425  "
      ]
     },
     "execution_count": 422,
     "metadata": {},
     "output_type": "execute_result"
    }
   ],
   "source": [
    "df.drop(columns=['RowNumber','CustomerId','Surname'], inplace=True)\n",
    "df.head()"
   ]
  },
  {
   "cell_type": "markdown",
   "metadata": {
    "id": "oWUyXmSADDvi"
   },
   "source": [
    "## 3. Explore Variables"
   ]
  },
  {
   "cell_type": "markdown",
   "metadata": {
    "id": "EW6ytXSRDDvi"
   },
   "source": [
    "### 3.1 Xác định các thuộc tính của biến"
   ]
  },
  {
   "cell_type": "code",
   "execution_count": 423,
   "metadata": {
    "id": "F6dWy0XhDDvi",
    "outputId": "75088d28-849e-410c-a007-35a3468265d4"
   },
   "outputs": [
    {
     "data": {
      "text/plain": [
       "Index(['Country', 'Gender', 'Card Type'], dtype='object')"
      ]
     },
     "execution_count": 423,
     "metadata": {},
     "output_type": "execute_result"
    }
   ],
   "source": [
    "# Xác định cột chứa biến phân loại\n",
    "df.select_dtypes(include='object').columns"
   ]
  },
  {
   "cell_type": "markdown",
   "metadata": {
    "id": "1rPjTZH6DDvi"
   },
   "source": [
    "- Biến Category có 3 cột: 'Country', 'Gender', 'Card Type'"
   ]
  },
  {
   "cell_type": "code",
   "execution_count": 424,
   "metadata": {
    "id": "SQmyknQXDDvi",
    "outputId": "13f507da-eebc-4cca-c96d-563bb2218bf9"
   },
   "outputs": [
    {
     "data": {
      "text/plain": [
       "array(['France', 'Spain', 'Germany'], dtype=object)"
      ]
     },
     "execution_count": 424,
     "metadata": {},
     "output_type": "execute_result"
    }
   ],
   "source": [
    "df['Country'].unique()"
   ]
  },
  {
   "cell_type": "code",
   "execution_count": 425,
   "metadata": {
    "id": "OTRUNBZjDDvj",
    "outputId": "b4bec691-77f2-47a2-f576-22123adf1a61"
   },
   "outputs": [
    {
     "data": {
      "text/plain": [
       "Index(['CreditScore', 'Age', 'Tenure', 'Balance', 'NumOfProducts', 'HasCrCard',\n",
       "       'IsActiveMember', 'EstimatedSalary', 'Churned', 'Complain',\n",
       "       'Satisfaction Score', 'Point Earned'],\n",
       "      dtype='object')"
      ]
     },
     "execution_count": 425,
     "metadata": {},
     "output_type": "execute_result"
    }
   ],
   "source": [
    "# Xác định cột chứa biến số\n",
    "df.select_dtypes(exclude='object').columns"
   ]
  },
  {
   "cell_type": "markdown",
   "metadata": {
    "id": "_ptwtsgaDDvj"
   },
   "source": [
    "### 3.2 Univariate Analysis"
   ]
  },
  {
   "cell_type": "markdown",
   "metadata": {
    "id": "tfS3DFlhDDvj"
   },
   "source": [
    "#### Gender"
   ]
  },
  {
   "cell_type": "code",
   "execution_count": 426,
   "metadata": {
    "id": "e1R7QBf1DDvj",
    "outputId": "74e080bf-f927-45e6-c7ad-34383160cfa2"
   },
   "outputs": [
    {
     "data": {
      "image/png": "[encoded data removed]",
      "text/plain": [
       "<Figure size 640x480 with 1 Axes>"
      ]
     },
     "metadata": {},
     "output_type": "display_data"
    }
   ],
   "source": [
    "df[\"Gender\"].value_counts().plot(kind=\"bar\",color = ['lightblue','orange'])\n",
    "plt.xlabel(\"Gender\")\n",
    "plt.ylabel(\"Frequency\")\n",
    "plt.title(\"Biểu đồ cột phân phối khách hàng theo giới tính\")\n",
    "plt.show()"
   ]
  },
  {
   "cell_type": "markdown",
   "metadata": {
    "id": "Lu8wfHpLDDvj"
   },
   "source": [
    "- Số lượng khách hàng có giới tính nam nhiều hơn số lượng khách hàng có giới tính nữ"
   ]
  },
  {
   "cell_type": "markdown",
   "metadata": {
    "id": "1yGJFI5ODDvk"
   },
   "source": [
    "#### Age"
   ]
  },
  {
   "cell_type": "code",
   "execution_count": 427,
   "metadata": {
    "id": "eU8zXKXjDDvk",
    "outputId": "f861d090-ce7a-4105-af6c-f0bbe418ed45"
   },
   "outputs": [
    {
     "data": {
      "image/png": "[encoded data removed]",
      "text/plain": [
       "<Figure size 1000x600 with 1 Axes>"
      ]
     },
     "metadata": {},
     "output_type": "display_data"
    }
   ],
   "source": [
    "# Biểu đồ phân phối khách hàng theo nhóm tuổi\n",
    "plt.figure(figsize=(10,6))\n",
    "sns.histplot(data=df,x='Age',bins=25,color='b')\n",
    "plt.title('Biểu đồ phân phối khách hàng theo nhóm tuổi')\n",
    "plt.show()"
   ]
  },
  {
   "cell_type": "markdown",
   "metadata": {
    "id": "uV6CyFdbDDvk"
   },
   "source": [
    "- Đồ thị phân phối lệch phải\n",
    "- Phần lớn khách hàng của ngân hàng ở độ tuổi 30-45. Tệp khách hàng của ngân hàng thuộc nhóm khách hàng trẻ."
   ]
  },
  {
   "cell_type": "code",
   "execution_count": 428,
   "metadata": {
    "id": "Pyhi8AdRDDvk",
    "outputId": "193950c1-1d28-464d-a669-59ef213c3bf3"
   },
   "outputs": [
    {
     "data": {
      "text/html": [
       "<div>\n",
       "<style scoped>\n",
       "    .dataframe tbody tr th:only-of-type {\n",
       "        vertical-align: middle;\n",
       "    }\n",
       "\n",
       "    .dataframe tbody tr th {\n",
       "        vertical-align: top;\n",
       "    }\n",
       "\n",
       "    .dataframe thead th {\n",
       "        text-align: right;\n",
       "    }\n",
       "</style>\n",
       "<table border=\"1\" class=\"dataframe\">\n",
       "  <thead>\n",
       "    <tr style=\"text-align: right;\">\n",
       "      <th></th>\n",
       "      <th>Age</th>\n",
       "      <th>Count_inchurned</th>\n",
       "      <th>Count_churned</th>\n",
       "      <th>Ratio</th>\n",
       "    </tr>\n",
       "  </thead>\n",
       "  <tbody>\n",
       "    <tr>\n",
       "      <th>0</th>\n",
       "      <td>18</td>\n",
       "      <td>20</td>\n",
       "      <td>2.0</td>\n",
       "      <td>9.090909</td>\n",
       "    </tr>\n",
       "    <tr>\n",
       "      <th>1</th>\n",
       "      <td>19</td>\n",
       "      <td>26</td>\n",
       "      <td>1.0</td>\n",
       "      <td>3.703704</td>\n",
       "    </tr>\n",
       "    <tr>\n",
       "      <th>2</th>\n",
       "      <td>20</td>\n",
       "      <td>38</td>\n",
       "      <td>2.0</td>\n",
       "      <td>5.000000</td>\n",
       "    </tr>\n",
       "    <tr>\n",
       "      <th>3</th>\n",
       "      <td>21</td>\n",
       "      <td>50</td>\n",
       "      <td>3.0</td>\n",
       "      <td>5.660377</td>\n",
       "    </tr>\n",
       "    <tr>\n",
       "      <th>4</th>\n",
       "      <td>22</td>\n",
       "      <td>72</td>\n",
       "      <td>12.0</td>\n",
       "      <td>14.285714</td>\n",
       "    </tr>\n",
       "    <tr>\n",
       "      <th>...</th>\n",
       "      <td>...</td>\n",
       "      <td>...</td>\n",
       "      <td>...</td>\n",
       "      <td>...</td>\n",
       "    </tr>\n",
       "    <tr>\n",
       "      <th>65</th>\n",
       "      <td>83</td>\n",
       "      <td>1</td>\n",
       "      <td>0.0</td>\n",
       "      <td>0.000000</td>\n",
       "    </tr>\n",
       "    <tr>\n",
       "      <th>66</th>\n",
       "      <td>84</td>\n",
       "      <td>1</td>\n",
       "      <td>1.0</td>\n",
       "      <td>50.000000</td>\n",
       "    </tr>\n",
       "    <tr>\n",
       "      <th>67</th>\n",
       "      <td>85</td>\n",
       "      <td>1</td>\n",
       "      <td>0.0</td>\n",
       "      <td>0.000000</td>\n",
       "    </tr>\n",
       "    <tr>\n",
       "      <th>68</th>\n",
       "      <td>88</td>\n",
       "      <td>1</td>\n",
       "      <td>0.0</td>\n",
       "      <td>0.000000</td>\n",
       "    </tr>\n",
       "    <tr>\n",
       "      <th>69</th>\n",
       "      <td>92</td>\n",
       "      <td>2</td>\n",
       "      <td>0.0</td>\n",
       "      <td>0.000000</td>\n",
       "    </tr>\n",
       "  </tbody>\n",
       "</table>\n",
       "<p>70 rows × 4 columns</p>\n",
       "</div>"
      ],
      "text/plain": [
       "    Age  Count_inchurned  Count_churned      Ratio\n",
       "0    18               20            2.0   9.090909\n",
       "1    19               26            1.0   3.703704\n",
       "2    20               38            2.0   5.000000\n",
       "3    21               50            3.0   5.660377\n",
       "4    22               72           12.0  14.285714\n",
       "..  ...              ...            ...        ...\n",
       "65   83                1            0.0   0.000000\n",
       "66   84                1            1.0  50.000000\n",
       "67   85                1            0.0   0.000000\n",
       "68   88                1            0.0   0.000000\n",
       "69   92                2            0.0   0.000000\n",
       "\n",
       "[70 rows x 4 columns]"
      ]
     },
     "execution_count": 428,
     "metadata": {},
     "output_type": "execute_result"
    }
   ],
   "source": [
    "age_df = df.groupby(by=['Age','Churned']).agg('count')\n",
    "age_df.reset_index(drop=False,inplace=True)\n",
    "age_df_inchurned = age_df[age_df['Churned'] == 0][['Age','CreditScore']]\n",
    "age_df_inchurned = age_df_inchurned.rename(columns={'CreditScore':'Count_inchurned'})\n",
    "\n",
    "age_df_churned = age_df[age_df['Churned'] == 1][['Age','CreditScore']]\n",
    "age_df_churned = age_df_churned.rename(columns={'CreditScore':'Count_churned'})\n",
    "\n",
    "age_vs_churned = pd.merge(age_df_inchurned,age_df_churned,how='outer',left_on='Age',right_on='Age')\n",
    "age_vs_churned['Ratio'] = age_vs_churned.fillna(0,inplace=True)\n",
    "\n",
    "age_vs_churned['Ratio'] = age_vs_churned['Count_churned']/(age_vs_churned['Count_churned']+age_vs_churned['Count_inchurned'])*100\n",
    "age_vs_churned"
   ]
  },
  {
   "cell_type": "code",
   "execution_count": 429,
   "metadata": {
    "id": "dDIpUP4_DDvk",
    "outputId": "78573519-8600-4a22-bd29-b815848648a8"
   },
   "outputs": [
    {
     "data": {
      "image/png": "[encoded data removed]",
      "text/plain": [
       "<Figure size 1500x600 with 1 Axes>"
      ]
     },
     "metadata": {},
     "output_type": "display_data"
    }
   ],
   "source": [
    "fig, ax = plt.subplots(figsize =(15,6))\n",
    "sns.barplot(data=age_vs_churned,x='Age',y='Ratio')\n",
    "plt.title('Biểu đồ cột thể hiện tỉ lệ rời bỏ theo nhóm tuổi',fontsize=16)\n",
    "plt.show()"
   ]
  },
  {
   "cell_type": "markdown",
   "metadata": {
    "id": "-4t8EAlNDDvk"
   },
   "source": [
    "- Tỉ lệ người rời bỏ cao nhất rơi vào tuổi 56, khoảng tuổi có tỉ lệ rời bỏ cao nhất là 45-65.\n",
    "- Khác biệt ở độ tuổi 84, độ tuổi có sự tăng vọt tỉ lệ rời bỏ cao."
   ]
  },
  {
   "cell_type": "markdown",
   "metadata": {
    "id": "DFJz-eh3DDvl"
   },
   "source": [
    "#### Tenure"
   ]
  },
  {
   "cell_type": "code",
   "execution_count": 430,
   "metadata": {
    "id": "qH1J8spSDDvl",
    "outputId": "fba4a6ab-dc71-41f6-a374-45414722bbca"
   },
   "outputs": [
    {
     "data": {
      "text/html": [
       "<div>\n",
       "<style scoped>\n",
       "    .dataframe tbody tr th:only-of-type {\n",
       "        vertical-align: middle;\n",
       "    }\n",
       "\n",
       "    .dataframe tbody tr th {\n",
       "        vertical-align: top;\n",
       "    }\n",
       "\n",
       "    .dataframe thead th {\n",
       "        text-align: right;\n",
       "    }\n",
       "</style>\n",
       "<table border=\"1\" class=\"dataframe\">\n",
       "  <thead>\n",
       "    <tr style=\"text-align: right;\">\n",
       "      <th></th>\n",
       "      <th>Tenure</th>\n",
       "      <th>Count_exit</th>\n",
       "      <th>Count_inexit</th>\n",
       "      <th>Ratio</th>\n",
       "    </tr>\n",
       "  </thead>\n",
       "  <tbody>\n",
       "    <tr>\n",
       "      <th>0</th>\n",
       "      <td>0</td>\n",
       "      <td>95</td>\n",
       "      <td>318</td>\n",
       "      <td>23.002421</td>\n",
       "    </tr>\n",
       "    <tr>\n",
       "      <th>1</th>\n",
       "      <td>1</td>\n",
       "      <td>232</td>\n",
       "      <td>803</td>\n",
       "      <td>22.415459</td>\n",
       "    </tr>\n",
       "    <tr>\n",
       "      <th>2</th>\n",
       "      <td>2</td>\n",
       "      <td>201</td>\n",
       "      <td>847</td>\n",
       "      <td>19.179389</td>\n",
       "    </tr>\n",
       "    <tr>\n",
       "      <th>3</th>\n",
       "      <td>3</td>\n",
       "      <td>213</td>\n",
       "      <td>796</td>\n",
       "      <td>21.110010</td>\n",
       "    </tr>\n",
       "    <tr>\n",
       "      <th>4</th>\n",
       "      <td>4</td>\n",
       "      <td>203</td>\n",
       "      <td>786</td>\n",
       "      <td>20.525784</td>\n",
       "    </tr>\n",
       "    <tr>\n",
       "      <th>5</th>\n",
       "      <td>5</td>\n",
       "      <td>209</td>\n",
       "      <td>803</td>\n",
       "      <td>20.652174</td>\n",
       "    </tr>\n",
       "    <tr>\n",
       "      <th>6</th>\n",
       "      <td>6</td>\n",
       "      <td>196</td>\n",
       "      <td>771</td>\n",
       "      <td>20.268873</td>\n",
       "    </tr>\n",
       "    <tr>\n",
       "      <th>7</th>\n",
       "      <td>7</td>\n",
       "      <td>177</td>\n",
       "      <td>851</td>\n",
       "      <td>17.217899</td>\n",
       "    </tr>\n",
       "    <tr>\n",
       "      <th>8</th>\n",
       "      <td>8</td>\n",
       "      <td>197</td>\n",
       "      <td>828</td>\n",
       "      <td>19.219512</td>\n",
       "    </tr>\n",
       "    <tr>\n",
       "      <th>9</th>\n",
       "      <td>9</td>\n",
       "      <td>214</td>\n",
       "      <td>770</td>\n",
       "      <td>21.747967</td>\n",
       "    </tr>\n",
       "    <tr>\n",
       "      <th>10</th>\n",
       "      <td>10</td>\n",
       "      <td>101</td>\n",
       "      <td>389</td>\n",
       "      <td>20.612245</td>\n",
       "    </tr>\n",
       "  </tbody>\n",
       "</table>\n",
       "</div>"
      ],
      "text/plain": [
       "    Tenure  Count_exit  Count_inexit      Ratio\n",
       "0        0          95           318  23.002421\n",
       "1        1         232           803  22.415459\n",
       "2        2         201           847  19.179389\n",
       "3        3         213           796  21.110010\n",
       "4        4         203           786  20.525784\n",
       "5        5         209           803  20.652174\n",
       "6        6         196           771  20.268873\n",
       "7        7         177           851  17.217899\n",
       "8        8         197           828  19.219512\n",
       "9        9         214           770  21.747967\n",
       "10      10         101           389  20.612245"
      ]
     },
     "execution_count": 430,
     "metadata": {},
     "output_type": "execute_result"
    }
   ],
   "source": [
    "df_ten_exit = df[df['Churned'] == 1].groupby('Tenure').agg('count')\n",
    "df_ten_exit.reset_index(drop=False,inplace=True)\n",
    "df_ten_exit = df_ten_exit[['Tenure','CreditScore']]\n",
    "df_ten_exit = df_ten_exit.rename(columns={'CreditScore':'Count'})\n",
    "\n",
    "df_ten_inexit = df[df['Churned'] == 0].groupby('Tenure').agg('count')\n",
    "df_ten_inexit.reset_index(drop=False,inplace=True)\n",
    "df_ten_inexit = df_ten_inexit[['Tenure','CreditScore']]\n",
    "df_ten_inexit = df_ten_inexit.rename(columns={'CreditScore':'Count'})\n",
    "\n",
    "df_ten = pd.merge(df_ten_exit,df_ten_inexit,how='outer',on='Tenure',suffixes=('_exit','_inexit'))\n",
    "\n",
    "df_ten['Ratio'] = df_ten['Count_exit']/(df_ten['Count_exit'] + df_ten['Count_inexit'])*100\n",
    "df_ten"
   ]
  },
  {
   "cell_type": "code",
   "execution_count": 431,
   "metadata": {
    "id": "zc-3LRC5DDvl",
    "outputId": "f2b7ebcc-bd28-4272-aee2-c3bf4c0800b9"
   },
   "outputs": [
    {
     "data": {
      "image/png": "[encoded data removed]",
      "text/plain": [
       "<Figure size 1000x600 with 2 Axes>"
      ]
     },
     "metadata": {},
     "output_type": "display_data"
    }
   ],
   "source": [
    "fig, ax = plt.subplots(figsize=(10,6))\n",
    "ax.bar(x=df_ten['Tenure'],height= df_ten['Count_inexit'], label = 'Count_Inexit', color ='Orange')\n",
    "ax.bar(x=df_ten['Tenure'],height= df_ten['Count_exit'], label = 'Count_exit', color ='red')\n",
    "ax2= ax.twinx()\n",
    "ax2.plot(df_ten['Tenure'],df_ten['Ratio'])\n",
    "plt.show()"
   ]
  },
  {
   "cell_type": "markdown",
   "metadata": {
    "id": "dyZabLrODDvp"
   },
   "source": [
    "- Nhận xét, từ 1-9 năm khách hàng sử dụng dịch vụ chiếm số lượng nhiều nhất. Ta nhận thấy rằng xu hướng tỉ lể rời bỏ giảm dần trong khoảng thời gian khách hàng sử dụng dịch vụ từ năm 1 đến năm thứ 7. Về cơ bản thì churned rate qua từng năm xấp xỉ 17-20%.\n",
    "- Chú ý: Tại Tenure = 7, khách hàng có thâm niên sử dụng 7 năm dịch vụ thì Churned Ratio thấp xuống đáng kể ?"
   ]
  },
  {
   "cell_type": "markdown",
   "metadata": {
    "id": "yItIrScmDDvp"
   },
   "source": [
    "#### Estimated Salary"
   ]
  },
  {
   "cell_type": "code",
   "execution_count": 432,
   "metadata": {
    "id": "5a47MzN_DDvp",
    "outputId": "e8a53a6a-14fe-418c-c8ed-f039a78a200b"
   },
   "outputs": [
    {
     "data": {
      "text/html": [
       "<div>\n",
       "<style scoped>\n",
       "    .dataframe tbody tr th:only-of-type {\n",
       "        vertical-align: middle;\n",
       "    }\n",
       "\n",
       "    .dataframe tbody tr th {\n",
       "        vertical-align: top;\n",
       "    }\n",
       "\n",
       "    .dataframe thead th {\n",
       "        text-align: right;\n",
       "    }\n",
       "</style>\n",
       "<table border=\"1\" class=\"dataframe\">\n",
       "  <thead>\n",
       "    <tr style=\"text-align: right;\">\n",
       "      <th></th>\n",
       "      <th>EstimatedSalary</th>\n",
       "    </tr>\n",
       "    <tr>\n",
       "      <th>Churned</th>\n",
       "      <th></th>\n",
       "    </tr>\n",
       "  </thead>\n",
       "  <tbody>\n",
       "    <tr>\n",
       "      <th>0</th>\n",
       "      <td>99816.071486</td>\n",
       "    </tr>\n",
       "    <tr>\n",
       "      <th>1</th>\n",
       "      <td>102948.986093</td>\n",
       "    </tr>\n",
       "  </tbody>\n",
       "</table>\n",
       "</div>"
      ],
      "text/plain": [
       "         EstimatedSalary\n",
       "Churned                 \n",
       "0           99816.071486\n",
       "1          102948.986093"
      ]
     },
     "execution_count": 432,
     "metadata": {},
     "output_type": "execute_result"
    }
   ],
   "source": [
    "# Lấy ra 2 cột dữ liệu 'Churned','EstimatedSalary' và các cột dữ liệu có điều kiện là cột giới tính là nữ.\n",
    "df_sal_churned_fe = df[df['Gender'] == 'Female'][['Churned','EstimatedSalary']]\n",
    "\n",
    "# Tính toán mức lương/thu nhập trung bình nhóm theo mức độ rời bỏ có hoặc không theo giới tính nữ\n",
    "df_sal_churned_fe.groupby('Churned').mean()"
   ]
  },
  {
   "cell_type": "code",
   "execution_count": 433,
   "metadata": {
    "id": "r0xynjoUDDvq",
    "outputId": "deae7cff-56ab-45c7-fc6e-57ed973f9bb4"
   },
   "outputs": [
    {
     "data": {
      "text/html": [
       "<div>\n",
       "<style scoped>\n",
       "    .dataframe tbody tr th:only-of-type {\n",
       "        vertical-align: middle;\n",
       "    }\n",
       "\n",
       "    .dataframe tbody tr th {\n",
       "        vertical-align: top;\n",
       "    }\n",
       "\n",
       "    .dataframe thead th {\n",
       "        text-align: right;\n",
       "    }\n",
       "</style>\n",
       "<table border=\"1\" class=\"dataframe\">\n",
       "  <thead>\n",
       "    <tr style=\"text-align: right;\">\n",
       "      <th></th>\n",
       "      <th>EstimatedSalary</th>\n",
       "    </tr>\n",
       "    <tr>\n",
       "      <th>Churned</th>\n",
       "      <th></th>\n",
       "    </tr>\n",
       "  </thead>\n",
       "  <tbody>\n",
       "    <tr>\n",
       "      <th>0</th>\n",
       "      <td>99660.223205</td>\n",
       "    </tr>\n",
       "    <tr>\n",
       "      <th>1</th>\n",
       "      <td>99686.650656</td>\n",
       "    </tr>\n",
       "  </tbody>\n",
       "</table>\n",
       "</div>"
      ],
      "text/plain": [
       "         EstimatedSalary\n",
       "Churned                 \n",
       "0           99660.223205\n",
       "1           99686.650656"
      ]
     },
     "execution_count": 433,
     "metadata": {},
     "output_type": "execute_result"
    }
   ],
   "source": [
    "df_sal_churned_ma = df[df['Gender'] == 'Male'][['Churned','EstimatedSalary']]\n",
    "df_sal_churned_ma.groupby('Churned').mean()"
   ]
  },
  {
   "cell_type": "markdown",
   "metadata": {
    "id": "Xyog_Ud2DDvq"
   },
   "source": [
    "- Nhận xét, nhìn chung mức lương ước tính trung bình của nam và nữ tương đối xấp xỉ nhau."
   ]
  },
  {
   "cell_type": "markdown",
   "metadata": {
    "id": "YGO-2OwUDDvq"
   },
   "source": [
    "#### Country"
   ]
  },
  {
   "cell_type": "code",
   "execution_count": 434,
   "metadata": {
    "id": "p0ydYE2CDDvq",
    "outputId": "2ed7c411-346e-4ad8-d52b-f4d30b7776ad"
   },
   "outputs": [
    {
     "data": {
      "image/png": "[encoded data removed]",
      "text/plain": [
       "<Figure size 1000x600 with 1 Axes>"
      ]
     },
     "metadata": {},
     "output_type": "display_data"
    }
   ],
   "source": [
    "# Biểu đồ cột thể hiện sự phan bố khách hàng theo từng quốc gia\n",
    "df_geo = df.groupby('Country').agg('count')\n",
    "df_geo.reset_index(inplace = True, drop= False)\n",
    "df_geo = df_geo[['Country','CreditScore']]\n",
    "df_geo.rename(columns={'CreditScore':'Count'},inplace = True)\n",
    "df_geo\n",
    "\n",
    "# Vẽ biểu đồ cột thể hiện sự phân bố khách hàng theo từng quốc gia\n",
    "plt.figure(figsize=(10.,6))\n",
    "sns.barplot(data=df_geo,x='Country',y='Count')\n",
    "plt.ylabel('Tổng số khách hàng')\n",
    "plt.xlabel('Quốc gia')\n",
    "plt.title('Biểu đồ cột thể hiện sự phân bố khách hàng theo từng quốc gia')\n",
    "plt.show()"
   ]
  },
  {
   "cell_type": "markdown",
   "metadata": {
    "id": "gIegkstjDDvq"
   },
   "source": [
    "- Nhận xét, trên biểu đồ ta có thể thấy rằng hầu hết khách hàng của ngân hàng đa quốc gia đều đến từ Pháp. Số lượng khách hàng đến từ Đức cao hơn một chút so với khách hàng đến từ Tây Ban Nha."
   ]
  },
  {
   "cell_type": "code",
   "execution_count": 435,
   "metadata": {
    "id": "EJk7tYbGDDvq",
    "outputId": "828a6bb7-4326-4899-e3e2-32ff052209ea"
   },
   "outputs": [
    {
     "data": {
      "text/html": [
       "<div>\n",
       "<style scoped>\n",
       "    .dataframe tbody tr th:only-of-type {\n",
       "        vertical-align: middle;\n",
       "    }\n",
       "\n",
       "    .dataframe tbody tr th {\n",
       "        vertical-align: top;\n",
       "    }\n",
       "\n",
       "    .dataframe thead th {\n",
       "        text-align: right;\n",
       "    }\n",
       "</style>\n",
       "<table border=\"1\" class=\"dataframe\">\n",
       "  <thead>\n",
       "    <tr style=\"text-align: right;\">\n",
       "      <th></th>\n",
       "      <th>Country</th>\n",
       "      <th>Count</th>\n",
       "      <th>Count_Churned</th>\n",
       "      <th>Ratio</th>\n",
       "    </tr>\n",
       "  </thead>\n",
       "  <tbody>\n",
       "    <tr>\n",
       "      <th>0</th>\n",
       "      <td>France</td>\n",
       "      <td>5014</td>\n",
       "      <td>811</td>\n",
       "      <td>16.174711</td>\n",
       "    </tr>\n",
       "    <tr>\n",
       "      <th>1</th>\n",
       "      <td>Germany</td>\n",
       "      <td>2509</td>\n",
       "      <td>814</td>\n",
       "      <td>32.443204</td>\n",
       "    </tr>\n",
       "    <tr>\n",
       "      <th>2</th>\n",
       "      <td>Spain</td>\n",
       "      <td>2477</td>\n",
       "      <td>413</td>\n",
       "      <td>16.673395</td>\n",
       "    </tr>\n",
       "  </tbody>\n",
       "</table>\n",
       "</div>"
      ],
      "text/plain": [
       "   Country  Count  Count_Churned      Ratio\n",
       "0   France   5014            811  16.174711\n",
       "1  Germany   2509            814  32.443204\n",
       "2    Spain   2477            413  16.673395"
      ]
     },
     "execution_count": 435,
     "metadata": {},
     "output_type": "execute_result"
    }
   ],
   "source": [
    "df_geo_churned = df[df['Churned'] == 1].groupby('Country').agg('count')\n",
    "df_geo_churned.reset_index(drop=False,inplace=True)\n",
    "df_geo_churned = df_geo_churned[['Country','CreditScore']]\n",
    "df_geo_churend = df_geo_churned.rename(columns={'CreditScore':'Count'},inplace = True)\n",
    "df_geo_churned\n",
    "df_geo['Count_Churned'] = df_geo_churned['Count']\n",
    "df_geo['Ratio'] = df_geo['Count_Churned']/df_geo['Count']*100\n",
    "df_geo"
   ]
  },
  {
   "cell_type": "markdown",
   "metadata": {
    "id": "Me0vcxhiDDvr"
   },
   "source": [
    "- Nhìn biểu đồ, ta có thể nhìn thấy rằng tỉ lệ rời bỏ của khách hàng có quốc tịch Đức chiếm tỉ lệ cao nhất là 32.44%.\n",
    "- Mặc dù quốc gia Pháp có tỉ lệ khách hàng tham gia cao nhưng tỉ lệ rời bỏ vẫn thấp."
   ]
  },
  {
   "cell_type": "markdown",
   "metadata": {
    "id": "jYCdyF-NDDvr"
   },
   "source": [
    "#### Balance"
   ]
  },
  {
   "cell_type": "code",
   "execution_count": 436,
   "metadata": {
    "id": "1AwFsMK5DDvr",
    "outputId": "ef458b58-9053-4218-8e4f-0c7f601d08d2"
   },
   "outputs": [
    {
     "data": {
      "image/png": "[encoded data removed]",
      "text/plain": [
       "<Figure size 1000x600 with 1 Axes>"
      ]
     },
     "metadata": {},
     "output_type": "display_data"
    }
   ],
   "source": [
    "plt.figure(figsize=(10,6))\n",
    "sns.histplot(df['Balance'])\n",
    "plt.title('Biểu đồ phân phối thể hiện số dư tài khoản của khách hàng')\n",
    "plt.show()"
   ]
  },
  {
   "cell_type": "markdown",
   "metadata": {
    "id": "9B5Pnx0sDDvr"
   },
   "source": [
    "- Số lượng người có số dư tài khoản bằng 0 rất lớn, đây có thể là lí do góp phần làm cho tỉ lệ rời bỏ tăng lên."
   ]
  },
  {
   "cell_type": "code",
   "execution_count": 437,
   "metadata": {
    "id": "HBRwSoZfDDvr",
    "outputId": "94fdbe11-f486-456b-d35a-f546ffd14a86"
   },
   "outputs": [
    {
     "data": {
      "text/plain": [
       "count     10000.000000\n",
       "mean      76485.889288\n",
       "std       62397.405202\n",
       "min           0.000000\n",
       "25%           0.000000\n",
       "50%       97198.540000\n",
       "75%      127644.240000\n",
       "max      250898.090000\n",
       "Name: Balance, dtype: float64"
      ]
     },
     "execution_count": 437,
     "metadata": {},
     "output_type": "execute_result"
    }
   ],
   "source": [
    "# Thống kê mô tả cột 'Balance'\n",
    "df['Balance'].describe()"
   ]
  },
  {
   "cell_type": "markdown",
   "metadata": {
    "id": "fH5GXIPdDDvr"
   },
   "source": [
    "#### Binning Value"
   ]
  },
  {
   "cell_type": "code",
   "execution_count": 438,
   "metadata": {
    "id": "Q8kf9Ek2DDvs",
    "outputId": "3bd7a4f3-bd42-4d14-86e8-a9dae4509b03"
   },
   "outputs": [
    {
     "name": "stderr",
     "output_type": "stream",
     "text": [
      "C:\\Users\\Administrator\\AppData\\Local\\Temp\\ipykernel_5556\\3271109664.py:4: SettingWithCopyWarning: \n",
      "A value is trying to be set on a copy of a slice from a DataFrame.\n",
      "Try using .loc[row_indexer,col_indexer] = value instead\n",
      "\n",
      "See the caveats in the documentation: https://pandas.pydata.org/pandas-docs/stable/user_guide/indexing.html#returning-a-view-versus-a-copy\n",
      "  df1['Equal_Bin'] = pd.cut(df1['Balance'], bins=5,labels = my_labels)\n"
     ]
    },
    {
     "data": {
      "text/plain": [
       "Equal_Bin\n",
       "Medium       3828\n",
       "Very low     3692\n",
       "Low          1533\n",
       "High          915\n",
       "Very High      32\n",
       "Name: count, dtype: int64"
      ]
     },
     "execution_count": 438,
     "metadata": {},
     "output_type": "execute_result"
    }
   ],
   "source": [
    "df1 = df[['Balance']]\n",
    "my_bins = [0,14088.484086000004,76485.889288,97198.540000,127644.240000,250898.090000]\n",
    "my_labels = ['Very low','Low','Medium','High','Very High']\n",
    "df1['Equal_Bin'] = pd.cut(df1['Balance'], bins=5,labels = my_labels)\n",
    "df1['Equal_Bin'].value_counts()"
   ]
  },
  {
   "cell_type": "markdown",
   "metadata": {
    "id": "uBx6id_dDDvs"
   },
   "source": [
    "- Chia khoảng thành 5, ta nhận xét rằng là Số dư tài khoản mức thấp và mức quá thấp chiếm đa số\n",
    "- Có thể là lí do khách hàng ngưng sử dụng sản phẩm/ dịch vụ"
   ]
  },
  {
   "cell_type": "markdown",
   "metadata": {
    "id": "ipweUqXxDDvs"
   },
   "source": [
    "#### Has Credit Card"
   ]
  },
  {
   "cell_type": "code",
   "execution_count": 439,
   "metadata": {
    "id": "Yg-yITfNDDvs",
    "outputId": "c5988112-a0d4-40a0-abac-a5e276a5b4d5"
   },
   "outputs": [
    {
     "data": {
      "text/html": [
       "<div>\n",
       "<style scoped>\n",
       "    .dataframe tbody tr th:only-of-type {\n",
       "        vertical-align: middle;\n",
       "    }\n",
       "\n",
       "    .dataframe tbody tr th {\n",
       "        vertical-align: top;\n",
       "    }\n",
       "\n",
       "    .dataframe thead th {\n",
       "        text-align: right;\n",
       "    }\n",
       "</style>\n",
       "<table border=\"1\" class=\"dataframe\">\n",
       "  <thead>\n",
       "    <tr style=\"text-align: right;\">\n",
       "      <th></th>\n",
       "      <th>HasCrCard</th>\n",
       "      <th>count_inexit</th>\n",
       "      <th>count_exit</th>\n",
       "      <th>Ratio</th>\n",
       "    </tr>\n",
       "  </thead>\n",
       "  <tbody>\n",
       "    <tr>\n",
       "      <th>0</th>\n",
       "      <td>0</td>\n",
       "      <td>2332</td>\n",
       "      <td>613</td>\n",
       "      <td>20.814941</td>\n",
       "    </tr>\n",
       "    <tr>\n",
       "      <th>1</th>\n",
       "      <td>1</td>\n",
       "      <td>5630</td>\n",
       "      <td>1425</td>\n",
       "      <td>20.198441</td>\n",
       "    </tr>\n",
       "  </tbody>\n",
       "</table>\n",
       "</div>"
      ],
      "text/plain": [
       "   HasCrCard  count_inexit  count_exit      Ratio\n",
       "0          0          2332         613  20.814941\n",
       "1          1          5630        1425  20.198441"
      ]
     },
     "execution_count": 439,
     "metadata": {},
     "output_type": "execute_result"
    }
   ],
   "source": [
    "df_credit_card = df.groupby(by=['Churned','HasCrCard']).agg('count')\n",
    "df_credit_card.reset_index(inplace=True,drop=False)\n",
    "df_credit_card = df_credit_card[['Churned','HasCrCard','CreditScore']]\n",
    "df_credit_card.rename(columns={'CreditScore':'count'},inplace=True)\n",
    "\n",
    "# CHọn lọc cột dữ liệu khách hàng có rời bỏ và không rời bỏ\n",
    "df_CrCard_inexit = df_credit_card[df_credit_card['Churned'] == 0 ]\n",
    "df_CrCard_exit = df_credit_card[df_credit_card['Churned'] == 1]\n",
    "\n",
    "df_credit_card = pd.merge(left=df_CrCard_inexit,right=df_CrCard_exit,on='HasCrCard',how='inner')\n",
    "df_credit_card.drop(columns=['Churned_x','Churned_y'],inplace= True)\n",
    "df_credit_card.rename(columns={'count_x':'count_inexit','count_y':'count_exit'},inplace=True)\n",
    "\n",
    "# Tính Ratio tỉ lệ % rời bỏ\n",
    "df_credit_card['Ratio'] = df_credit_card['count_exit']/(df_credit_card['count_exit']+df_credit_card['count_inexit'])*100\n",
    "df_credit_card\n"
   ]
  },
  {
   "cell_type": "markdown",
   "metadata": {
    "id": "31hQgauwDDvs"
   },
   "source": [
    "- Nhận xét, tỉ lệ rời bỏ của khách hàng khi không có hoặc có thẻ tín dụng là tương đối giống nhau.\n",
    "- Có hay không có thể không ảnh hưởng lớn đến việc khách hàng có rời bỏ sản phẩm/dịch vụ.\n",
    "- Chú ý, biến 'HasCrCard' được xem xét không được chọn làm đầu vào để chạy thuật toán LogisticRegression"
   ]
  },
  {
   "cell_type": "markdown",
   "metadata": {
    "id": "Y9JbP88SDDvs"
   },
   "source": [
    "#### CreditScore"
   ]
  },
  {
   "cell_type": "code",
   "execution_count": 440,
   "metadata": {
    "id": "xWCpzSVSDDvt",
    "outputId": "e3966d9d-c502-49ad-ba94-87b612867b37"
   },
   "outputs": [
    {
     "data": {
      "image/png": "[encoded data removed]",
      "text/plain": [
       "<Figure size 640x480 with 1 Axes>"
      ]
     },
     "metadata": {},
     "output_type": "display_data"
    }
   ],
   "source": [
    "sns.histplot(df['CreditScore'])\n",
    "plt.show()"
   ]
  },
  {
   "cell_type": "code",
   "execution_count": 441,
   "metadata": {
    "id": "9q-6MrQWDDvt",
    "outputId": "c8af64d3-bc7e-4677-d003-e9414e050174"
   },
   "outputs": [
    {
     "data": {
      "text/plain": [
       "(-0.07160660820092675, -0.42572568480291295)"
      ]
     },
     "execution_count": 441,
     "metadata": {},
     "output_type": "execute_result"
    }
   ],
   "source": [
    "df['CreditScore'].skew(), df['CreditScore'].kurtosis()"
   ]
  },
  {
   "cell_type": "markdown",
   "metadata": {
    "id": "cuqwExOoDDvt"
   },
   "source": [
    "- Nhận xét, điểm tín dụng của khách hàng phân bố gần chuẩn, độ lệch hiển thị giá trị âm -0.07 gần xấp xỉ 0 nói lên độ lệch biểu dồ phân phối lệch trái, độ nhọn hiển thị giá trị âm -0.4 nói lên biểu đồ khá tập trung vào phần trung tâm. Biểu đồ gần như là phân phối xấp xỉ chuẩn."
   ]
  },
  {
   "cell_type": "code",
   "execution_count": 442,
   "metadata": {
    "id": "Y6eWaJbyDDvt",
    "outputId": "d96bf9e3-8f4b-4c41-d7c6-66727cd53476"
   },
   "outputs": [
    {
     "data": {
      "image/png": "[encoded data removed]",
      "text/plain": [
       "<Figure size 640x480 with 1 Axes>"
      ]
     },
     "metadata": {},
     "output_type": "display_data"
    }
   ],
   "source": [
    "sns.boxplot(data=df,x='Churned',y='CreditScore')\n",
    "plt.show()"
   ]
  },
  {
   "cell_type": "markdown",
   "metadata": {
    "id": "QRiXBuBsDDvt"
   },
   "source": [
    "- Dựa vào biểu đồ trên, ta có thể thấy với mức điểm số khá tương đồng khi khách hàng có hay không rời bỏ.\n",
    "- Xem xét, biến CreditScore không được chọn làm biến đầu vào để chạy thuật toán."
   ]
  },
  {
   "cell_type": "markdown",
   "metadata": {
    "id": "Gmw8DZvJDDvu"
   },
   "source": [
    "#### Is Active Member"
   ]
  },
  {
   "cell_type": "code",
   "execution_count": 443,
   "metadata": {
    "id": "lk4X1nDaDDvu",
    "outputId": "395c2cd6-42f6-40d4-ce1e-c4b981a29afc"
   },
   "outputs": [
    {
     "data": {
      "image/png": "[encoded data removed]",
      "text/plain": [
       "<Figure size 640x480 with 1 Axes>"
      ]
     },
     "metadata": {},
     "output_type": "display_data"
    }
   ],
   "source": [
    "sns.countplot(data=df,x='IsActiveMember',hue='Churned')\n",
    "plt.show()"
   ]
  },
  {
   "cell_type": "markdown",
   "metadata": {
    "id": "OUizl4_2DDvu"
   },
   "source": [
    "#### Number of Products"
   ]
  },
  {
   "cell_type": "code",
   "execution_count": 444,
   "metadata": {
    "id": "rTHfWRlADDvu",
    "outputId": "e3e0ab67-e7f6-4fc5-b07f-a68bd3971e68"
   },
   "outputs": [
    {
     "data": {
      "text/html": [
       "<div>\n",
       "<style scoped>\n",
       "    .dataframe tbody tr th:only-of-type {\n",
       "        vertical-align: middle;\n",
       "    }\n",
       "\n",
       "    .dataframe tbody tr th {\n",
       "        vertical-align: top;\n",
       "    }\n",
       "\n",
       "    .dataframe thead th {\n",
       "        text-align: right;\n",
       "    }\n",
       "</style>\n",
       "<table border=\"1\" class=\"dataframe\">\n",
       "  <thead>\n",
       "    <tr style=\"text-align: right;\">\n",
       "      <th></th>\n",
       "      <th>Churned</th>\n",
       "      <th>NumOfProducts</th>\n",
       "      <th>count</th>\n",
       "    </tr>\n",
       "  </thead>\n",
       "  <tbody>\n",
       "    <tr>\n",
       "      <th>0</th>\n",
       "      <td>0</td>\n",
       "      <td>1</td>\n",
       "      <td>3675</td>\n",
       "    </tr>\n",
       "    <tr>\n",
       "      <th>1</th>\n",
       "      <td>0</td>\n",
       "      <td>2</td>\n",
       "      <td>4241</td>\n",
       "    </tr>\n",
       "    <tr>\n",
       "      <th>2</th>\n",
       "      <td>0</td>\n",
       "      <td>3</td>\n",
       "      <td>46</td>\n",
       "    </tr>\n",
       "    <tr>\n",
       "      <th>3</th>\n",
       "      <td>1</td>\n",
       "      <td>1</td>\n",
       "      <td>1409</td>\n",
       "    </tr>\n",
       "    <tr>\n",
       "      <th>4</th>\n",
       "      <td>1</td>\n",
       "      <td>2</td>\n",
       "      <td>349</td>\n",
       "    </tr>\n",
       "    <tr>\n",
       "      <th>5</th>\n",
       "      <td>1</td>\n",
       "      <td>3</td>\n",
       "      <td>220</td>\n",
       "    </tr>\n",
       "    <tr>\n",
       "      <th>6</th>\n",
       "      <td>1</td>\n",
       "      <td>4</td>\n",
       "      <td>60</td>\n",
       "    </tr>\n",
       "  </tbody>\n",
       "</table>\n",
       "</div>"
      ],
      "text/plain": [
       "   Churned  NumOfProducts  count\n",
       "0        0              1   3675\n",
       "1        0              2   4241\n",
       "2        0              3     46\n",
       "3        1              1   1409\n",
       "4        1              2    349\n",
       "5        1              3    220\n",
       "6        1              4     60"
      ]
     },
     "execution_count": 444,
     "metadata": {},
     "output_type": "execute_result"
    }
   ],
   "source": [
    "df_products = df.groupby(by=['Churned','NumOfProducts']).agg('count')\n",
    "df_products.reset_index(inplace=True,drop=False)\n",
    "df_products = df_products[['Churned','NumOfProducts','CreditScore']]\n",
    "df_products.rename(columns={'CreditScore':'count'},inplace = True)\n",
    "df_products"
   ]
  },
  {
   "cell_type": "markdown",
   "metadata": {
    "id": "ii0yUlVjDDvu"
   },
   "source": [
    "- Nhận xét, với lớp không rời bỏ (lớp 0) với số lượt mua lớn, mua bé hơn 3 sản phẩm thì tỉ lệ ở lại nhiều."
   ]
  },
  {
   "cell_type": "code",
   "execution_count": 445,
   "metadata": {
    "id": "A7Fgl11cDDvu",
    "outputId": "019c3a7d-9373-41bc-d7f1-d6a54f344641"
   },
   "outputs": [
    {
     "data": {
      "image/png": "[encoded data removed]",
      "text/plain": [
       "<Figure size 640x480 with 1 Axes>"
      ]
     },
     "metadata": {},
     "output_type": "display_data"
    }
   ],
   "source": [
    "# Vẽ biểu đồ cột\n",
    "sns.barplot(data=df_products,x='NumOfProducts',y='count',hue='Churned')\n",
    "plt.show()"
   ]
  },
  {
   "cell_type": "markdown",
   "metadata": {
    "id": "Cru5wlHXDDvv"
   },
   "source": [
    "- Nhận xét, nhìn biểu đồ ta nhận thấy được với số lượng sản phẩm mua là 1 và 3 thì lớp rời bỏ (lớp 1) rất cao."
   ]
  },
  {
   "cell_type": "markdown",
   "metadata": {
    "id": "iW57W_aYDDvv"
   },
   "source": [
    "####"
   ]
  },
  {
   "cell_type": "markdown",
   "metadata": {
    "id": "mbSdT1kYDDvv"
   },
   "source": [
    "### 3.3 Bivariate Analysis and ANOVA"
   ]
  },
  {
   "cell_type": "markdown",
   "metadata": {
    "id": "S9CrDtlKDDvv"
   },
   "source": [
    "##### Phân tích hai biến Churned và Country"
   ]
  },
  {
   "cell_type": "code",
   "execution_count": 446,
   "metadata": {
    "id": "y2d6ckp5DDvv",
    "outputId": "59de8b4b-489f-43a6-f95a-a8c9e3310dd0"
   },
   "outputs": [
    {
     "data": {
      "text/html": [
       "<div>\n",
       "<style scoped>\n",
       "    .dataframe tbody tr th:only-of-type {\n",
       "        vertical-align: middle;\n",
       "    }\n",
       "\n",
       "    .dataframe tbody tr th {\n",
       "        vertical-align: top;\n",
       "    }\n",
       "\n",
       "    .dataframe thead th {\n",
       "        text-align: right;\n",
       "    }\n",
       "</style>\n",
       "<table border=\"1\" class=\"dataframe\">\n",
       "  <thead>\n",
       "    <tr style=\"text-align: right;\">\n",
       "      <th>Country</th>\n",
       "      <th>France</th>\n",
       "      <th>Germany</th>\n",
       "      <th>Spain</th>\n",
       "    </tr>\n",
       "    <tr>\n",
       "      <th>Churned</th>\n",
       "      <th></th>\n",
       "      <th></th>\n",
       "      <th></th>\n",
       "    </tr>\n",
       "  </thead>\n",
       "  <tbody>\n",
       "    <tr>\n",
       "      <th>0</th>\n",
       "      <td>4203</td>\n",
       "      <td>1695</td>\n",
       "      <td>2064</td>\n",
       "    </tr>\n",
       "    <tr>\n",
       "      <th>1</th>\n",
       "      <td>811</td>\n",
       "      <td>814</td>\n",
       "      <td>413</td>\n",
       "    </tr>\n",
       "  </tbody>\n",
       "</table>\n",
       "</div>"
      ],
      "text/plain": [
       "Country  France  Germany  Spain\n",
       "Churned                        \n",
       "0          4203     1695   2064\n",
       "1           811      814    413"
      ]
     },
     "execution_count": 446,
     "metadata": {},
     "output_type": "execute_result"
    }
   ],
   "source": [
    "table1 = pd.crosstab(df['Churned'],df['Country'])\n",
    "table1"
   ]
  },
  {
   "cell_type": "code",
   "execution_count": 447,
   "metadata": {
    "id": "vIIlm1xRDDvv",
    "outputId": "bda74052-8d06-4452-d59f-e329cdf8c5cb"
   },
   "outputs": [
    {
     "data": {
      "text/plain": [
       "<Axes: xlabel='Churned'>"
      ]
     },
     "execution_count": 447,
     "metadata": {},
     "output_type": "execute_result"
    },
    {
     "data": {
      "image/png": "[encoded data removed]",
      "text/plain": [
       "<Figure size 640x480 with 1 Axes>"
      ]
     },
     "metadata": {},
     "output_type": "display_data"
    }
   ],
   "source": [
    "table1.plot(kind='bar')"
   ]
  },
  {
   "cell_type": "markdown",
   "metadata": {
    "id": "a6iYKpnIDDvw"
   },
   "source": [
    "- Churned luôn giữ một mức độ khá thấp.\n",
    "- Liệu có sự liên quan giữa 'Churned' và 'Country' hay không ?"
   ]
  },
  {
   "cell_type": "code",
   "execution_count": 448,
   "metadata": {
    "id": "2FP7o_jMDDvw"
   },
   "outputs": [],
   "source": [
    "# Import thư viện chi-square\n",
    "from scipy.stats import chi2_contingency\n",
    "from scipy.stats import chi2"
   ]
  },
  {
   "cell_type": "code",
   "execution_count": 449,
   "metadata": {
    "id": "NkihqbYODDvw"
   },
   "outputs": [],
   "source": [
    "# Ho : Cột 'Churned' và 'Country' là hai biến độc lập\n",
    "# H1 : Cột 'Churned' và 'Country' hai biến là không phải hai biến độc lập"
   ]
  },
  {
   "cell_type": "code",
   "execution_count": 450,
   "metadata": {
    "id": "JHmtQVH0DDvw"
   },
   "outputs": [],
   "source": [
    "stats, p, dof, expected = chi2_contingency(table1)"
   ]
  },
  {
   "cell_type": "code",
   "execution_count": 451,
   "metadata": {
    "id": "DRHs7H1oDDvw",
    "outputId": "8d8dbba7-6827-40e7-b98a-b3de0683ceb1"
   },
   "outputs": [
    {
     "name": "stdout",
     "output_type": "stream",
     "text": [
      "Dependent (Rejct H0)\n"
     ]
    }
   ],
   "source": [
    "# Dùng Statistic để so sánh => Tính Critical Value\n",
    "prob = 0.95\n",
    "critical = chi2.ppf(prob,dof)\n",
    "\n",
    "if abs(stats) >= critical:\n",
    "    print('Dependent (Rejct H0)')\n",
    "else:\n",
    "    print('Independent (Fail to Rejct H0)')"
   ]
  },
  {
   "cell_type": "markdown",
   "metadata": {
    "id": "G1Z2KPciDDvw"
   },
   "source": [
    "- Nhận xét, vậy biến 'Country' và 'Churned' là hai biến độc lập. Suy ra, không dùng biến 'HasCrCard' dùng làm đầu vào để chạy thuật toán LogisticRegression"
   ]
  },
  {
   "cell_type": "markdown",
   "metadata": {
    "id": "pXT6aLdQDDvw"
   },
   "source": [
    "##### Phân tích hai biến Churned và HasCrCard"
   ]
  },
  {
   "cell_type": "code",
   "execution_count": 452,
   "metadata": {
    "id": "YuTrdJ4YDDvx",
    "outputId": "4265427e-a986-48e2-93e1-75bf72406c46"
   },
   "outputs": [
    {
     "data": {
      "text/html": [
       "<div>\n",
       "<style scoped>\n",
       "    .dataframe tbody tr th:only-of-type {\n",
       "        vertical-align: middle;\n",
       "    }\n",
       "\n",
       "    .dataframe tbody tr th {\n",
       "        vertical-align: top;\n",
       "    }\n",
       "\n",
       "    .dataframe thead th {\n",
       "        text-align: right;\n",
       "    }\n",
       "</style>\n",
       "<table border=\"1\" class=\"dataframe\">\n",
       "  <thead>\n",
       "    <tr style=\"text-align: right;\">\n",
       "      <th>HasCrCard</th>\n",
       "      <th>0</th>\n",
       "      <th>1</th>\n",
       "    </tr>\n",
       "    <tr>\n",
       "      <th>Churned</th>\n",
       "      <th></th>\n",
       "      <th></th>\n",
       "    </tr>\n",
       "  </thead>\n",
       "  <tbody>\n",
       "    <tr>\n",
       "      <th>0</th>\n",
       "      <td>2332</td>\n",
       "      <td>5630</td>\n",
       "    </tr>\n",
       "    <tr>\n",
       "      <th>1</th>\n",
       "      <td>613</td>\n",
       "      <td>1425</td>\n",
       "    </tr>\n",
       "  </tbody>\n",
       "</table>\n",
       "</div>"
      ],
      "text/plain": [
       "HasCrCard     0     1\n",
       "Churned              \n",
       "0          2332  5630\n",
       "1           613  1425"
      ]
     },
     "execution_count": 452,
     "metadata": {},
     "output_type": "execute_result"
    }
   ],
   "source": [
    "table2 = pd.crosstab(df['Churned'],df['HasCrCard'])\n",
    "table2"
   ]
  },
  {
   "cell_type": "code",
   "execution_count": 453,
   "metadata": {
    "id": "djjP4VomDDvx",
    "outputId": "5d480836-ef3e-4624-81d5-d65974f488c0"
   },
   "outputs": [
    {
     "data": {
      "text/plain": [
       "<Axes: xlabel='Churned'>"
      ]
     },
     "execution_count": 453,
     "metadata": {},
     "output_type": "execute_result"
    },
    {
     "data": {
      "image/png": "[encoded data removed]",
      "text/plain": [
       "<Figure size 640x480 with 1 Axes>"
      ]
     },
     "metadata": {},
     "output_type": "display_data"
    }
   ],
   "source": [
    "table2.plot(kind ='bar', stacked = True)"
   ]
  },
  {
   "cell_type": "markdown",
   "metadata": {
    "id": "PaEGnLHiDDvx"
   },
   "source": [
    "- Ta thấy được rằng là với đa số những khách hàng có thẻ tín dụng thì khả năng rời bỏ thấp hơn. Có 5630 khách hàng có thẻ tín dụng và 2332 khách hàng không có thẻ tín dụng, khả năng không rời bỏ dịch vụ.\n",
    "- Chú ý liệu có sự liên quan giữa 'Churned' và 'HasCrCard' hay không ?"
   ]
  },
  {
   "cell_type": "code",
   "execution_count": 454,
   "metadata": {
    "id": "__oKYAuTDDvx"
   },
   "outputs": [],
   "source": [
    "# Ho : Cột 'Churned' và 'HasCrCard' là hai biến độc lập\n",
    "# H1 : Cột 'Churned' và 'HasCrCard' hai biến là không phải hai biến độc lập"
   ]
  },
  {
   "cell_type": "code",
   "execution_count": 455,
   "metadata": {
    "id": "sliFqOE0DDvx"
   },
   "outputs": [],
   "source": [
    "stat, p, dof, expected = chi2_contingency(table2)"
   ]
  },
  {
   "cell_type": "code",
   "execution_count": 456,
   "metadata": {
    "id": "wc1AnpeeDDvx",
    "outputId": "52c6b0b6-d540-4894-f6b4-98782bd9075d"
   },
   "outputs": [
    {
     "name": "stdout",
     "output_type": "stream",
     "text": [
      "degres of freedom (dof) bậc tự do: 1\n"
     ]
    }
   ],
   "source": [
    "print('degres of freedom (dof) bậc tự do:', dof)"
   ]
  },
  {
   "cell_type": "code",
   "execution_count": 457,
   "metadata": {
    "id": "gvJyijXVDDvy",
    "outputId": "fe1a5718-889c-462d-9f5c-715af2c11972"
   },
   "outputs": [
    {
     "data": {
      "text/plain": [
       "3.841458820694124"
      ]
     },
     "execution_count": 457,
     "metadata": {},
     "output_type": "execute_result"
    }
   ],
   "source": [
    "# Sử dụng Statistic để so sánh => Tính Critical Value\n",
    "prob = 0.95\n",
    "critical = chi2.ppf(prob,dof)\n",
    "critical"
   ]
  },
  {
   "cell_type": "code",
   "execution_count": 458,
   "metadata": {
    "id": "SiCBqL0_DDvy",
    "outputId": "84a30885-5ccd-4b51-b170-5092f9e9e077"
   },
   "outputs": [
    {
     "name": "stdout",
     "output_type": "stream",
     "text": [
      "Independent (Fail to Rejct H0)\n"
     ]
    }
   ],
   "source": [
    "if abs(stat) >= critical:\n",
    "    print('Dependent (Rejct H0)')\n",
    "else:\n",
    "    print('Independent (Fail to Rejct H0)')"
   ]
  },
  {
   "cell_type": "code",
   "execution_count": 459,
   "metadata": {
    "id": "RtO_fkZWDDvy",
    "outputId": "d5b091f3-c810-4093-9f76-2064ac7996bc"
   },
   "outputs": [
    {
     "name": "stdout",
     "output_type": "stream",
     "text": [
      "Indenpendent (Fail to Reject H0)\n"
     ]
    }
   ],
   "source": [
    "# Sử dụng p-value để so sánh => Tính alpha\n",
    "alpha = 1 - prob\n",
    "if p <= alpha:\n",
    "    print('Denpendent (Reject H0)')\n",
    "else:\n",
    "    print('Indenpendent (Fail to Reject H0)')"
   ]
  },
  {
   "cell_type": "markdown",
   "metadata": {
    "id": "acrAD4d9DDvy"
   },
   "source": [
    "- Nhận xét, vậy biến 'HasCrCard' và 'Churned' là hai biến độc lập. Suy ra, không dùng biến 'HasCrCard' dùng làm đầu vào để chạy thuật toán LogisticRegression"
   ]
  },
  {
   "cell_type": "markdown",
   "metadata": {
    "id": "toJxmMw-DDvy"
   },
   "source": [
    "##### Phân tích hai biến Churned và Gender"
   ]
  },
  {
   "cell_type": "code",
   "execution_count": 460,
   "metadata": {
    "id": "Iy3PzcyVDDvy",
    "outputId": "0e60e10c-fe34-4ea7-9453-9d9fcc8d67fe"
   },
   "outputs": [
    {
     "data": {
      "text/html": [
       "<div>\n",
       "<style scoped>\n",
       "    .dataframe tbody tr th:only-of-type {\n",
       "        vertical-align: middle;\n",
       "    }\n",
       "\n",
       "    .dataframe tbody tr th {\n",
       "        vertical-align: top;\n",
       "    }\n",
       "\n",
       "    .dataframe thead th {\n",
       "        text-align: right;\n",
       "    }\n",
       "</style>\n",
       "<table border=\"1\" class=\"dataframe\">\n",
       "  <thead>\n",
       "    <tr style=\"text-align: right;\">\n",
       "      <th>Gender</th>\n",
       "      <th>Female</th>\n",
       "      <th>Male</th>\n",
       "    </tr>\n",
       "    <tr>\n",
       "      <th>Churned</th>\n",
       "      <th></th>\n",
       "      <th></th>\n",
       "    </tr>\n",
       "  </thead>\n",
       "  <tbody>\n",
       "    <tr>\n",
       "      <th>0</th>\n",
       "      <td>3404</td>\n",
       "      <td>4558</td>\n",
       "    </tr>\n",
       "    <tr>\n",
       "      <th>1</th>\n",
       "      <td>1139</td>\n",
       "      <td>899</td>\n",
       "    </tr>\n",
       "  </tbody>\n",
       "</table>\n",
       "</div>"
      ],
      "text/plain": [
       "Gender   Female  Male\n",
       "Churned              \n",
       "0          3404  4558\n",
       "1          1139   899"
      ]
     },
     "execution_count": 460,
     "metadata": {},
     "output_type": "execute_result"
    }
   ],
   "source": [
    "table3 = pd.crosstab(df['Churned'],df['Gender'])\n",
    "table3"
   ]
  },
  {
   "cell_type": "code",
   "execution_count": 461,
   "metadata": {
    "id": "wjnOs4O3DDvy",
    "outputId": "9876b08d-e98c-45d3-d21e-ca8766f898a9"
   },
   "outputs": [
    {
     "data": {
      "text/plain": [
       "<Axes: xlabel='Churned'>"
      ]
     },
     "execution_count": 461,
     "metadata": {},
     "output_type": "execute_result"
    },
    {
     "data": {
      "image/png": "[encoded data removed]",
      "text/plain": [
       "<Figure size 640x480 with 1 Axes>"
      ]
     },
     "metadata": {},
     "output_type": "display_data"
    }
   ],
   "source": [
    "table3.plot(kind ='bar', stacked = True)"
   ]
  },
  {
   "cell_type": "markdown",
   "metadata": {
    "id": "_bsGRC15DDvz"
   },
   "source": [
    "- Tỉ lệ nam và nữ với sự rời bỏ có sự tương đồng nhau, không thay đổi đáng kể.\n",
    "- Chú ý liệu có sự liên quan giữa 'Churned' và 'Gender' hay không ?"
   ]
  },
  {
   "cell_type": "code",
   "execution_count": 462,
   "metadata": {
    "id": "fX_TVS9SDDvz"
   },
   "outputs": [],
   "source": [
    "# Ho : Cột 'Churned' và 'Gender' là hai biến độc lập\n",
    "# H1 : Cột 'Churned' và 'Gender' hai biến là không phải hai biến độc lập"
   ]
  },
  {
   "cell_type": "code",
   "execution_count": 463,
   "metadata": {
    "id": "AlVKtmPzDDvz"
   },
   "outputs": [],
   "source": [
    "stat, p, dof, expected = chi2_contingency(table3)"
   ]
  },
  {
   "cell_type": "code",
   "execution_count": 464,
   "metadata": {
    "id": "2a0UXEO4DDvz",
    "outputId": "3892c1bc-9aaf-4722-ce80-fcbaa1b25c32"
   },
   "outputs": [
    {
     "data": {
      "text/plain": [
       "3.841458820694124"
      ]
     },
     "execution_count": 464,
     "metadata": {},
     "output_type": "execute_result"
    }
   ],
   "source": [
    "# Sử dụng Statistic để so sánh => Tính Critical Value\n",
    "prob = 0.95\n",
    "critical = chi2.ppf(prob,dof)\n",
    "critical"
   ]
  },
  {
   "cell_type": "code",
   "execution_count": 465,
   "metadata": {
    "id": "Y8yq9kp1DDvz",
    "outputId": "f0a1bce6-2732-4638-b837-f80c3f6a2611"
   },
   "outputs": [
    {
     "name": "stdout",
     "output_type": "stream",
     "text": [
      "Dependent (Rejct H0)\n"
     ]
    }
   ],
   "source": [
    "if abs(stat) >= critical:\n",
    "    print('Dependent (Rejct H0)')\n",
    "else:\n",
    "    print('Independent (Fail to Rejct H0)')"
   ]
  },
  {
   "cell_type": "markdown",
   "metadata": {
    "id": "Cum3KDBPDDvz"
   },
   "source": [
    "- Tương quan khi nhận xét biểu đồ ta không thấy có mối quan hệ, nhưng phân tích chi-square ta nhận thấy được 2 biến có mối quan hệ với nhau.\n",
    "- Biến Gender được dùng để làm biến đầu vào cho thuật toán LogisticRegression"
   ]
  },
  {
   "cell_type": "markdown",
   "metadata": {
    "id": "9idtuT9rDDv0"
   },
   "source": [
    "##### Phân tích hai biến Churned và Card Type"
   ]
  },
  {
   "cell_type": "code",
   "execution_count": 466,
   "metadata": {
    "id": "CAhSBXA0DDv0",
    "outputId": "5ea3e314-9915-45f5-f5a2-795ddcbcfb87"
   },
   "outputs": [
    {
     "data": {
      "text/html": [
       "<div>\n",
       "<style scoped>\n",
       "    .dataframe tbody tr th:only-of-type {\n",
       "        vertical-align: middle;\n",
       "    }\n",
       "\n",
       "    .dataframe tbody tr th {\n",
       "        vertical-align: top;\n",
       "    }\n",
       "\n",
       "    .dataframe thead th {\n",
       "        text-align: right;\n",
       "    }\n",
       "</style>\n",
       "<table border=\"1\" class=\"dataframe\">\n",
       "  <thead>\n",
       "    <tr style=\"text-align: right;\">\n",
       "      <th>Card Type</th>\n",
       "      <th>DIAMOND</th>\n",
       "      <th>GOLD</th>\n",
       "      <th>PLATINUM</th>\n",
       "      <th>SILVER</th>\n",
       "    </tr>\n",
       "    <tr>\n",
       "      <th>Churned</th>\n",
       "      <th></th>\n",
       "      <th></th>\n",
       "      <th></th>\n",
       "      <th></th>\n",
       "    </tr>\n",
       "  </thead>\n",
       "  <tbody>\n",
       "    <tr>\n",
       "      <th>0</th>\n",
       "      <td>1961</td>\n",
       "      <td>2020</td>\n",
       "      <td>1987</td>\n",
       "      <td>1994</td>\n",
       "    </tr>\n",
       "    <tr>\n",
       "      <th>1</th>\n",
       "      <td>546</td>\n",
       "      <td>482</td>\n",
       "      <td>508</td>\n",
       "      <td>502</td>\n",
       "    </tr>\n",
       "  </tbody>\n",
       "</table>\n",
       "</div>"
      ],
      "text/plain": [
       "Card Type  DIAMOND  GOLD  PLATINUM  SILVER\n",
       "Churned                                   \n",
       "0             1961  2020      1987    1994\n",
       "1              546   482       508     502"
      ]
     },
     "execution_count": 466,
     "metadata": {},
     "output_type": "execute_result"
    }
   ],
   "source": [
    "table4 = pd.crosstab(df['Churned'],df['Card Type'])\n",
    "table4"
   ]
  },
  {
   "cell_type": "code",
   "execution_count": 467,
   "metadata": {
    "id": "8O8v6AKpDDv0",
    "outputId": "8b1e6365-8d31-455e-cfef-8bc898c96371"
   },
   "outputs": [
    {
     "data": {
      "text/plain": [
       "<Axes: xlabel='Churned'>"
      ]
     },
     "execution_count": 467,
     "metadata": {},
     "output_type": "execute_result"
    },
    {
     "data": {
      "image/png": "[encoded data removed]",
      "text/plain": [
       "<Figure size 640x480 with 1 Axes>"
      ]
     },
     "metadata": {},
     "output_type": "display_data"
    }
   ],
   "source": [
    "table4.plot.bar(stacked=True)"
   ]
  },
  {
   "cell_type": "markdown",
   "metadata": {
    "id": "cIvXRC-uDDv0"
   },
   "source": [
    "- Tỉ lệ đồng đều đối với mỗi loại Card Type. Nhìn vào biểu đồ chưa biết được là có mối quan hệ giữa hai biến hay là không ?\n",
    "- Chú ý liệu có sự liên quan giữa 'Churned' và 'Card Type' hay không ?"
   ]
  },
  {
   "cell_type": "code",
   "execution_count": 468,
   "metadata": {
    "id": "UbhQsonNDDv0"
   },
   "outputs": [],
   "source": [
    "# Ho : Cột 'Churned' và 'Card Type' là hai biến độc lập\n",
    "# H1 : Cột 'Churned' và 'Card Type' hai biến là không phải hai biến độc lập"
   ]
  },
  {
   "cell_type": "code",
   "execution_count": 469,
   "metadata": {
    "id": "_1nAL1PTDDv0"
   },
   "outputs": [],
   "source": [
    "stat, p, dof, expected = chi2_contingency(table4)"
   ]
  },
  {
   "cell_type": "code",
   "execution_count": 470,
   "metadata": {
    "id": "uaLJ3U8oDDv1",
    "outputId": "24c1a856-4251-4290-8378-ce499e0ea6c6"
   },
   "outputs": [
    {
     "data": {
      "text/plain": [
       "7.814727903251179"
      ]
     },
     "execution_count": 470,
     "metadata": {},
     "output_type": "execute_result"
    }
   ],
   "source": [
    "# Sử dụng Statistic để so sánh => Tính Critical Value\n",
    "prob = 0.95\n",
    "critical = chi2.ppf(prob,dof)\n",
    "critical"
   ]
  },
  {
   "cell_type": "code",
   "execution_count": 471,
   "metadata": {
    "id": "Q3o8V7kcDDv1",
    "outputId": "796b0a3c-c95e-4d43-bd11-32d8b6dacc67"
   },
   "outputs": [
    {
     "name": "stdout",
     "output_type": "stream",
     "text": [
      "Independent (Fail to Rejct H0)\n"
     ]
    }
   ],
   "source": [
    "if abs(stat) >= critical:\n",
    "    print('Dependent (Rejct H0)')\n",
    "else:\n",
    "    print('Independent (Fail to Rejct H0)')"
   ]
  },
  {
   "cell_type": "markdown",
   "metadata": {
    "id": "SMkIdRQ0DDv1"
   },
   "source": [
    "- Nhận xét, vậy biến 'Card Type' và 'Churned' là hai biến độc lập. Suy ra, không dùng biến 'Card Type' dùng làm đầu vào để chạy thuật toán LogisticRegression"
   ]
  },
  {
   "cell_type": "markdown",
   "metadata": {
    "id": "L5-vYRWfDDv1"
   },
   "source": [
    "##### Phân tích hai biến Churned và Satisfaction Score"
   ]
  },
  {
   "cell_type": "code",
   "execution_count": 472,
   "metadata": {
    "id": "IWIZaxSpDDv1",
    "outputId": "7049be3b-e3c1-4d13-ac09-2bebaa0f7ab9"
   },
   "outputs": [
    {
     "data": {
      "text/html": [
       "<div>\n",
       "<style scoped>\n",
       "    .dataframe tbody tr th:only-of-type {\n",
       "        vertical-align: middle;\n",
       "    }\n",
       "\n",
       "    .dataframe tbody tr th {\n",
       "        vertical-align: top;\n",
       "    }\n",
       "\n",
       "    .dataframe thead th {\n",
       "        text-align: right;\n",
       "    }\n",
       "</style>\n",
       "<table border=\"1\" class=\"dataframe\">\n",
       "  <thead>\n",
       "    <tr style=\"text-align: right;\">\n",
       "      <th>Satisfaction Score</th>\n",
       "      <th>1</th>\n",
       "      <th>2</th>\n",
       "      <th>3</th>\n",
       "      <th>4</th>\n",
       "      <th>5</th>\n",
       "    </tr>\n",
       "    <tr>\n",
       "      <th>Churned</th>\n",
       "      <th></th>\n",
       "      <th></th>\n",
       "      <th></th>\n",
       "      <th></th>\n",
       "      <th></th>\n",
       "    </tr>\n",
       "  </thead>\n",
       "  <tbody>\n",
       "    <tr>\n",
       "      <th>0</th>\n",
       "      <td>1545</td>\n",
       "      <td>1575</td>\n",
       "      <td>1641</td>\n",
       "      <td>1594</td>\n",
       "      <td>1607</td>\n",
       "    </tr>\n",
       "    <tr>\n",
       "      <th>1</th>\n",
       "      <td>387</td>\n",
       "      <td>439</td>\n",
       "      <td>401</td>\n",
       "      <td>414</td>\n",
       "      <td>397</td>\n",
       "    </tr>\n",
       "  </tbody>\n",
       "</table>\n",
       "</div>"
      ],
      "text/plain": [
       "Satisfaction Score     1     2     3     4     5\n",
       "Churned                                         \n",
       "0                   1545  1575  1641  1594  1607\n",
       "1                    387   439   401   414   397"
      ]
     },
     "execution_count": 472,
     "metadata": {},
     "output_type": "execute_result"
    }
   ],
   "source": [
    "table5 = pd.crosstab(df['Churned'],df['Satisfaction Score'])\n",
    "table5"
   ]
  },
  {
   "cell_type": "code",
   "execution_count": 473,
   "metadata": {
    "id": "1fUU-JdUDDv1",
    "outputId": "cb92c5d1-1699-46f1-d275-75e6f0f37d91"
   },
   "outputs": [
    {
     "data": {
      "text/plain": [
       "<Axes: xlabel='Churned'>"
      ]
     },
     "execution_count": 473,
     "metadata": {},
     "output_type": "execute_result"
    },
    {
     "data": {
      "image/png": "[encoded data removed]",
      "text/plain": [
       "<Figure size 640x480 with 1 Axes>"
      ]
     },
     "metadata": {},
     "output_type": "display_data"
    }
   ],
   "source": [
    "table5.plot.bar(stacked=True)"
   ]
  },
  {
   "cell_type": "markdown",
   "metadata": {
    "id": "d7mQc4AgDDv2"
   },
   "source": [
    "- Tỉ lệ đồng đều đối với mỗi điểm hài lòng. Nhìn vào biểu đồ chưa biết được là có mối quan hệ giữa hai biến hay là không ?\n",
    "- Chú ý liệu có sự liên quan giữa 'Churned' và 'Satisfaction Score' hay không ?"
   ]
  },
  {
   "cell_type": "code",
   "execution_count": 474,
   "metadata": {
    "id": "6VIMoj9UDDv2"
   },
   "outputs": [],
   "source": [
    "# Ho : Cột 'Churned' và 'Satisfaction Score' là hai biến độc lập\n",
    "# H1 : Cột 'Churned' và 'Satisfaction Score' hai biến là không phải hai biến độc lập"
   ]
  },
  {
   "cell_type": "code",
   "execution_count": 475,
   "metadata": {
    "id": "vd7NYWZBDDv2"
   },
   "outputs": [],
   "source": [
    "stat, p, dof, expected = chi2_contingency(table5)"
   ]
  },
  {
   "cell_type": "code",
   "execution_count": 476,
   "metadata": {
    "id": "CH0827K1DDv2",
    "outputId": "251c3470-a078-47fc-8021-41edb166a338"
   },
   "outputs": [
    {
     "data": {
      "text/plain": [
       "9.487729036781154"
      ]
     },
     "execution_count": 476,
     "metadata": {},
     "output_type": "execute_result"
    }
   ],
   "source": [
    "# Sử dụng Statistic để so sánh => Tính Critical Value\n",
    "prob = 0.95\n",
    "critical = chi2.ppf(prob,dof)\n",
    "critical"
   ]
  },
  {
   "cell_type": "code",
   "execution_count": 477,
   "metadata": {
    "id": "1PAKdqXZDDv2",
    "outputId": "d79b2f26-5e00-43b8-8d14-a06840fa2fbf"
   },
   "outputs": [
    {
     "name": "stdout",
     "output_type": "stream",
     "text": [
      "Independent (Fail to Rejct H0)\n"
     ]
    }
   ],
   "source": [
    "if abs(stat) >= critical:\n",
    "    print('Dependent (Rejct H0)')\n",
    "else:\n",
    "    print('Independent (Fail to Rejct H0)')"
   ]
  },
  {
   "cell_type": "markdown",
   "metadata": {
    "id": "JXx2fkeoDDv2"
   },
   "source": [
    "- Nhận xét, vậy biến 'Satisfaction Score' và 'Churned' là hai biến độc lập. Suy ra, không dùng biến 'Satisfaction Score' dùng làm đầu vào để chạy thuật toán LogisticRegression"
   ]
  },
  {
   "cell_type": "markdown",
   "metadata": {
    "id": "w5HrBer5DDv2"
   },
   "source": [
    "##### Phân tích hai biến Churned và Is Active Member"
   ]
  },
  {
   "cell_type": "code",
   "execution_count": 478,
   "metadata": {
    "id": "KqKLH_sVDDv3",
    "outputId": "94138698-f7df-4d81-e19d-3d5a55963975"
   },
   "outputs": [
    {
     "data": {
      "text/html": [
       "<div>\n",
       "<style scoped>\n",
       "    .dataframe tbody tr th:only-of-type {\n",
       "        vertical-align: middle;\n",
       "    }\n",
       "\n",
       "    .dataframe tbody tr th {\n",
       "        vertical-align: top;\n",
       "    }\n",
       "\n",
       "    .dataframe thead th {\n",
       "        text-align: right;\n",
       "    }\n",
       "</style>\n",
       "<table border=\"1\" class=\"dataframe\">\n",
       "  <thead>\n",
       "    <tr style=\"text-align: right;\">\n",
       "      <th>IsActiveMember</th>\n",
       "      <th>0</th>\n",
       "      <th>1</th>\n",
       "    </tr>\n",
       "    <tr>\n",
       "      <th>Churned</th>\n",
       "      <th></th>\n",
       "      <th></th>\n",
       "    </tr>\n",
       "  </thead>\n",
       "  <tbody>\n",
       "    <tr>\n",
       "      <th>0</th>\n",
       "      <td>3546</td>\n",
       "      <td>4416</td>\n",
       "    </tr>\n",
       "    <tr>\n",
       "      <th>1</th>\n",
       "      <td>1303</td>\n",
       "      <td>735</td>\n",
       "    </tr>\n",
       "  </tbody>\n",
       "</table>\n",
       "</div>"
      ],
      "text/plain": [
       "IsActiveMember     0     1\n",
       "Churned                   \n",
       "0               3546  4416\n",
       "1               1303   735"
      ]
     },
     "execution_count": 478,
     "metadata": {},
     "output_type": "execute_result"
    }
   ],
   "source": [
    "table6 = pd.crosstab(df['Churned'],df['IsActiveMember'])\n",
    "table6"
   ]
  },
  {
   "cell_type": "code",
   "execution_count": 479,
   "metadata": {
    "id": "Jqlno6_9DDv3",
    "outputId": "655260d5-c9e4-4be6-b32c-a0111c23f122"
   },
   "outputs": [
    {
     "data": {
      "text/plain": [
       "<Axes: xlabel='Churned'>"
      ]
     },
     "execution_count": 479,
     "metadata": {},
     "output_type": "execute_result"
    },
    {
     "data": {
      "image/png": "[encoded data removed]",
      "text/plain": [
       "<Figure size 640x480 with 1 Axes>"
      ]
     },
     "metadata": {},
     "output_type": "display_data"
    }
   ],
   "source": [
    "table6.plot.bar()"
   ]
  },
  {
   "cell_type": "code",
   "execution_count": 480,
   "metadata": {
    "id": "vb_onLNzDDv5"
   },
   "outputs": [],
   "source": [
    "# Ho : Cột 'Churned' và 'IsActiveMember' là hai biến độc lập\n",
    "# H1 : Cột 'Churned' và 'IsActiveMember' hai biến là không phải hai biến độc lập"
   ]
  },
  {
   "cell_type": "code",
   "execution_count": 481,
   "metadata": {
    "id": "g_Igm4qHDDv6"
   },
   "outputs": [],
   "source": [
    "stat, p, dof, expected = chi2_contingency(table6)"
   ]
  },
  {
   "cell_type": "code",
   "execution_count": 482,
   "metadata": {
    "id": "fE7VjctfDDv6",
    "outputId": "e1cf442b-4ca2-47b3-e5d5-b0c5d0960189"
   },
   "outputs": [
    {
     "data": {
      "text/plain": [
       "3.841458820694124"
      ]
     },
     "execution_count": 482,
     "metadata": {},
     "output_type": "execute_result"
    }
   ],
   "source": [
    "# Sử dụng Statistic để so sánh => Tính Critical Value\n",
    "prob = 0.95\n",
    "critical = chi2.ppf(prob,dof)\n",
    "critical"
   ]
  },
  {
   "cell_type": "code",
   "execution_count": 483,
   "metadata": {
    "id": "26F_NJfpDDv6",
    "outputId": "d89df70c-29a9-4e05-fa7f-d70ae8b25ae8"
   },
   "outputs": [
    {
     "name": "stdout",
     "output_type": "stream",
     "text": [
      "Dependent (Rejct H0)\n"
     ]
    }
   ],
   "source": [
    "if abs(stat) >= critical:\n",
    "    print('Dependent (Rejct H0)')\n",
    "else:\n",
    "    print('Independent (Fail to Rejct H0)')"
   ]
  },
  {
   "cell_type": "markdown",
   "metadata": {
    "id": "P1mpFXmGDDv6"
   },
   "source": [
    "## 4. Correlation Analysis"
   ]
  },
  {
   "cell_type": "code",
   "execution_count": 484,
   "metadata": {
    "id": "MS8w9z_dDDv6"
   },
   "outputs": [],
   "source": [
    "# Lọc các cột số\n",
    "df_num = df.select_dtypes(include='number')\n",
    "df_num.drop(columns='Churned',inplace=True)"
   ]
  },
  {
   "cell_type": "code",
   "execution_count": 485,
   "metadata": {
    "id": "jKJI6cMuDDv7",
    "outputId": "dbbdea6c-b5f2-4016-a28e-a37e08848cb3"
   },
   "outputs": [
    {
     "data": {
      "image/png": "[encoded data removed]",
      "text/plain": [
       "<Figure size 1000x800 with 2 Axes>"
      ]
     },
     "metadata": {},
     "output_type": "display_data"
    }
   ],
   "source": [
    "# Vẽ Heatmap\n",
    "plt.figure(figsize=(10,8))\n",
    "sns.heatmap(df_num.corr(),annot = True, cmap='coolwarm')\n",
    "plt.title('Heatmap of Correlation Matrix')\n",
    "plt.show()"
   ]
  },
  {
   "cell_type": "markdown",
   "metadata": {
    "id": "fxQR3KJKDDv7"
   },
   "source": [
    "## 5. Data Pre-processing"
   ]
  },
  {
   "cell_type": "markdown",
   "metadata": {
    "id": "maGQBztYDDv7"
   },
   "source": [
    "### 5.1 Detecting and Handling the Outlier"
   ]
  },
  {
   "cell_type": "code",
   "execution_count": 486,
   "metadata": {
    "id": "83FJmbGVDDv7",
    "outputId": "bb061e69-e8c7-44ab-d6c7-2964f58ae723"
   },
   "outputs": [
    {
     "data": {
      "image/png": "[encoded data removed]",
      "text/plain": [
       "<Figure size 640x480 with 1 Axes>"
      ]
     },
     "metadata": {},
     "output_type": "display_data"
    },
    {
     "data": {
      "image/png": "[encoded data removed]",
      "text/plain": [
       "<Figure size 640x480 with 1 Axes>"
      ]
     },
     "metadata": {},
     "output_type": "display_data"
    },
    {
     "data": {
      "image/png": "[encoded data removed]",
      "text/plain": [
       "<Figure size 640x480 with 1 Axes>"
      ]
     },
     "metadata": {},
     "output_type": "display_data"
    },
    {
     "data": {
      "image/png": "[encoded data removed]",
      "text/plain": [
       "<Figure size 640x480 with 1 Axes>"
      ]
     },
     "metadata": {},
     "output_type": "display_data"
    },
    {
     "data": {
      "image/png": "[encoded data removed]",
      "text/plain": [
       "<Figure size 640x480 with 1 Axes>"
      ]
     },
     "metadata": {},
     "output_type": "display_data"
    },
    {
     "data": {
      "image/png": "[encoded data removed]",
      "text/plain": [
       "<Figure size 640x480 with 1 Axes>"
      ]
     },
     "metadata": {},
     "output_type": "display_data"
    },
    {
     "data": {
      "image/png": "[encoded data removed]",
      "text/plain": [
       "<Figure size 640x480 with 1 Axes>"
      ]
     },
     "metadata": {},
     "output_type": "display_data"
    }
   ],
   "source": [
    "df_outlier = ['CreditScore','Age','Tenure','Balance','NumOfProducts','EstimatedSalary','Point Earned']\n",
    "for i in df_outlier:\n",
    "    sns.boxplot(x=df[i])\n",
    "    plt.show()"
   ]
  },
  {
   "cell_type": "markdown",
   "metadata": {
    "id": "vEZijMaYDDv7"
   },
   "source": [
    "- Nhận xét, từ biểu đồ hộp để xác định giá trị ngoại lai (outlier), ta tiến hành loại bỏ giá trị ngoại lai (outlier) ở hai cột là Age và CreditScore"
   ]
  },
  {
   "cell_type": "code",
   "execution_count": 487,
   "metadata": {
    "id": "0lJ5IqBuDDv7",
    "outputId": "071d4d9d-d044-40e6-9ad4-ca72f1771805"
   },
   "outputs": [
    {
     "data": {
      "text/html": [
       "<div>\n",
       "<style scoped>\n",
       "    .dataframe tbody tr th:only-of-type {\n",
       "        vertical-align: middle;\n",
       "    }\n",
       "\n",
       "    .dataframe tbody tr th {\n",
       "        vertical-align: top;\n",
       "    }\n",
       "\n",
       "    .dataframe thead th {\n",
       "        text-align: right;\n",
       "    }\n",
       "</style>\n",
       "<table border=\"1\" class=\"dataframe\">\n",
       "  <thead>\n",
       "    <tr style=\"text-align: right;\">\n",
       "      <th></th>\n",
       "      <th>CreditScore</th>\n",
       "      <th>Country</th>\n",
       "      <th>Gender</th>\n",
       "      <th>Age</th>\n",
       "      <th>Tenure</th>\n",
       "      <th>Balance</th>\n",
       "      <th>NumOfProducts</th>\n",
       "      <th>HasCrCard</th>\n",
       "      <th>IsActiveMember</th>\n",
       "      <th>EstimatedSalary</th>\n",
       "      <th>Churned</th>\n",
       "      <th>Complain</th>\n",
       "      <th>Satisfaction Score</th>\n",
       "      <th>Card Type</th>\n",
       "      <th>Point Earned</th>\n",
       "    </tr>\n",
       "  </thead>\n",
       "  <tbody>\n",
       "    <tr>\n",
       "      <th>0</th>\n",
       "      <td>619</td>\n",
       "      <td>France</td>\n",
       "      <td>Female</td>\n",
       "      <td>42</td>\n",
       "      <td>2</td>\n",
       "      <td>0.00</td>\n",
       "      <td>1</td>\n",
       "      <td>1</td>\n",
       "      <td>1</td>\n",
       "      <td>101348.88</td>\n",
       "      <td>1</td>\n",
       "      <td>1</td>\n",
       "      <td>2</td>\n",
       "      <td>DIAMOND</td>\n",
       "      <td>464</td>\n",
       "    </tr>\n",
       "    <tr>\n",
       "      <th>1</th>\n",
       "      <td>608</td>\n",
       "      <td>Spain</td>\n",
       "      <td>Female</td>\n",
       "      <td>41</td>\n",
       "      <td>1</td>\n",
       "      <td>83807.86</td>\n",
       "      <td>1</td>\n",
       "      <td>0</td>\n",
       "      <td>1</td>\n",
       "      <td>112542.58</td>\n",
       "      <td>0</td>\n",
       "      <td>1</td>\n",
       "      <td>3</td>\n",
       "      <td>DIAMOND</td>\n",
       "      <td>456</td>\n",
       "    </tr>\n",
       "    <tr>\n",
       "      <th>2</th>\n",
       "      <td>502</td>\n",
       "      <td>France</td>\n",
       "      <td>Female</td>\n",
       "      <td>42</td>\n",
       "      <td>8</td>\n",
       "      <td>159660.80</td>\n",
       "      <td>3</td>\n",
       "      <td>1</td>\n",
       "      <td>0</td>\n",
       "      <td>113931.57</td>\n",
       "      <td>1</td>\n",
       "      <td>1</td>\n",
       "      <td>3</td>\n",
       "      <td>DIAMOND</td>\n",
       "      <td>377</td>\n",
       "    </tr>\n",
       "    <tr>\n",
       "      <th>3</th>\n",
       "      <td>699</td>\n",
       "      <td>France</td>\n",
       "      <td>Female</td>\n",
       "      <td>39</td>\n",
       "      <td>1</td>\n",
       "      <td>0.00</td>\n",
       "      <td>2</td>\n",
       "      <td>0</td>\n",
       "      <td>0</td>\n",
       "      <td>93826.63</td>\n",
       "      <td>0</td>\n",
       "      <td>0</td>\n",
       "      <td>5</td>\n",
       "      <td>GOLD</td>\n",
       "      <td>350</td>\n",
       "    </tr>\n",
       "    <tr>\n",
       "      <th>4</th>\n",
       "      <td>850</td>\n",
       "      <td>Spain</td>\n",
       "      <td>Female</td>\n",
       "      <td>43</td>\n",
       "      <td>2</td>\n",
       "      <td>125510.82</td>\n",
       "      <td>1</td>\n",
       "      <td>1</td>\n",
       "      <td>1</td>\n",
       "      <td>79084.10</td>\n",
       "      <td>0</td>\n",
       "      <td>0</td>\n",
       "      <td>5</td>\n",
       "      <td>GOLD</td>\n",
       "      <td>425</td>\n",
       "    </tr>\n",
       "    <tr>\n",
       "      <th>...</th>\n",
       "      <td>...</td>\n",
       "      <td>...</td>\n",
       "      <td>...</td>\n",
       "      <td>...</td>\n",
       "      <td>...</td>\n",
       "      <td>...</td>\n",
       "      <td>...</td>\n",
       "      <td>...</td>\n",
       "      <td>...</td>\n",
       "      <td>...</td>\n",
       "      <td>...</td>\n",
       "      <td>...</td>\n",
       "      <td>...</td>\n",
       "      <td>...</td>\n",
       "      <td>...</td>\n",
       "    </tr>\n",
       "    <tr>\n",
       "      <th>9995</th>\n",
       "      <td>771</td>\n",
       "      <td>France</td>\n",
       "      <td>Male</td>\n",
       "      <td>39</td>\n",
       "      <td>5</td>\n",
       "      <td>0.00</td>\n",
       "      <td>2</td>\n",
       "      <td>1</td>\n",
       "      <td>0</td>\n",
       "      <td>96270.64</td>\n",
       "      <td>0</td>\n",
       "      <td>0</td>\n",
       "      <td>1</td>\n",
       "      <td>DIAMOND</td>\n",
       "      <td>300</td>\n",
       "    </tr>\n",
       "    <tr>\n",
       "      <th>9996</th>\n",
       "      <td>516</td>\n",
       "      <td>France</td>\n",
       "      <td>Male</td>\n",
       "      <td>35</td>\n",
       "      <td>10</td>\n",
       "      <td>57369.61</td>\n",
       "      <td>1</td>\n",
       "      <td>1</td>\n",
       "      <td>1</td>\n",
       "      <td>101699.77</td>\n",
       "      <td>0</td>\n",
       "      <td>0</td>\n",
       "      <td>5</td>\n",
       "      <td>PLATINUM</td>\n",
       "      <td>771</td>\n",
       "    </tr>\n",
       "    <tr>\n",
       "      <th>9997</th>\n",
       "      <td>709</td>\n",
       "      <td>France</td>\n",
       "      <td>Female</td>\n",
       "      <td>36</td>\n",
       "      <td>7</td>\n",
       "      <td>0.00</td>\n",
       "      <td>1</td>\n",
       "      <td>0</td>\n",
       "      <td>1</td>\n",
       "      <td>42085.58</td>\n",
       "      <td>1</td>\n",
       "      <td>1</td>\n",
       "      <td>3</td>\n",
       "      <td>SILVER</td>\n",
       "      <td>564</td>\n",
       "    </tr>\n",
       "    <tr>\n",
       "      <th>9998</th>\n",
       "      <td>772</td>\n",
       "      <td>Germany</td>\n",
       "      <td>Male</td>\n",
       "      <td>42</td>\n",
       "      <td>3</td>\n",
       "      <td>75075.31</td>\n",
       "      <td>2</td>\n",
       "      <td>1</td>\n",
       "      <td>0</td>\n",
       "      <td>92888.52</td>\n",
       "      <td>1</td>\n",
       "      <td>1</td>\n",
       "      <td>2</td>\n",
       "      <td>GOLD</td>\n",
       "      <td>339</td>\n",
       "    </tr>\n",
       "    <tr>\n",
       "      <th>9999</th>\n",
       "      <td>792</td>\n",
       "      <td>France</td>\n",
       "      <td>Female</td>\n",
       "      <td>28</td>\n",
       "      <td>4</td>\n",
       "      <td>130142.79</td>\n",
       "      <td>1</td>\n",
       "      <td>1</td>\n",
       "      <td>0</td>\n",
       "      <td>38190.78</td>\n",
       "      <td>0</td>\n",
       "      <td>0</td>\n",
       "      <td>3</td>\n",
       "      <td>DIAMOND</td>\n",
       "      <td>911</td>\n",
       "    </tr>\n",
       "  </tbody>\n",
       "</table>\n",
       "<p>9574 rows × 15 columns</p>\n",
       "</div>"
      ],
      "text/plain": [
       "      CreditScore  Country  Gender  Age  Tenure    Balance  NumOfProducts  \\\n",
       "0             619   France  Female   42       2       0.00              1   \n",
       "1             608    Spain  Female   41       1   83807.86              1   \n",
       "2             502   France  Female   42       8  159660.80              3   \n",
       "3             699   France  Female   39       1       0.00              2   \n",
       "4             850    Spain  Female   43       2  125510.82              1   \n",
       "...           ...      ...     ...  ...     ...        ...            ...   \n",
       "9995          771   France    Male   39       5       0.00              2   \n",
       "9996          516   France    Male   35      10   57369.61              1   \n",
       "9997          709   France  Female   36       7       0.00              1   \n",
       "9998          772  Germany    Male   42       3   75075.31              2   \n",
       "9999          792   France  Female   28       4  130142.79              1   \n",
       "\n",
       "      HasCrCard  IsActiveMember  EstimatedSalary  Churned  Complain  \\\n",
       "0             1               1        101348.88        1         1   \n",
       "1             0               1        112542.58        0         1   \n",
       "2             1               0        113931.57        1         1   \n",
       "3             0               0         93826.63        0         0   \n",
       "4             1               1         79084.10        0         0   \n",
       "...         ...             ...              ...      ...       ...   \n",
       "9995          1               0         96270.64        0         0   \n",
       "9996          1               1        101699.77        0         0   \n",
       "9997          0               1         42085.58        1         1   \n",
       "9998          1               0         92888.52        1         1   \n",
       "9999          1               0         38190.78        0         0   \n",
       "\n",
       "      Satisfaction Score Card Type  Point Earned  \n",
       "0                      2   DIAMOND           464  \n",
       "1                      3   DIAMOND           456  \n",
       "2                      3   DIAMOND           377  \n",
       "3                      5      GOLD           350  \n",
       "4                      5      GOLD           425  \n",
       "...                  ...       ...           ...  \n",
       "9995                   1   DIAMOND           300  \n",
       "9996                   5  PLATINUM           771  \n",
       "9997                   3    SILVER           564  \n",
       "9998                   2      GOLD           339  \n",
       "9999                   3   DIAMOND           911  \n",
       "\n",
       "[9574 rows x 15 columns]"
      ]
     },
     "execution_count": 487,
     "metadata": {},
     "output_type": "execute_result"
    }
   ],
   "source": [
    "Q1 = df['Age'].quantile(0.25)\n",
    "Q3 = df['Age'].quantile(0.75)\n",
    "IQR = Q3 - Q1\n",
    "lower_bound = Q1 - 1.5 * IQR\n",
    "upper_bound = Q3 + 1.5 * IQR\n",
    "df = df[(df['Age'] > lower_bound) & (df['Age'] < upper_bound)]\n",
    "\n",
    "Q1 = df['CreditScore'].quantile(0.25)\n",
    "Q3 = df['CreditScore'].quantile(0.75)\n",
    "IQR = Q3 - Q1\n",
    "lower_bound = Q1 - 1.5 * IQR\n",
    "upper_bound = Q3 + 1.5 * IQR\n",
    "df = df[(df['CreditScore'] > lower_bound) & (df['CreditScore'] < upper_bound)]\n",
    "df"
   ]
  },
  {
   "cell_type": "code",
   "execution_count": 488,
   "metadata": {
    "id": "ZtrCMxxyDDv8",
    "outputId": "de2cc948-a945-464a-a4a5-1eecae2cbe11"
   },
   "outputs": [
    {
     "data": {
      "image/png": "[encoded data removed]",
      "text/plain": [
       "<Figure size 640x480 with 1 Axes>"
      ]
     },
     "metadata": {},
     "output_type": "display_data"
    },
    {
     "data": {
      "image/png": "[encoded data removed]",
      "text/plain": [
       "<Figure size 640x480 with 1 Axes>"
      ]
     },
     "metadata": {},
     "output_type": "display_data"
    },
    {
     "data": {
      "image/png": "[encoded data removed]",
      "text/plain": [
       "<Figure size 640x480 with 1 Axes>"
      ]
     },
     "metadata": {},
     "output_type": "display_data"
    },
    {
     "data": {
      "image/png": "[encoded data removed]",
      "text/plain": [
       "<Figure size 640x480 with 1 Axes>"
      ]
     },
     "metadata": {},
     "output_type": "display_data"
    },
    {
     "data": {
      "image/png": "[encoded data removed]",
      "text/plain": [
       "<Figure size 640x480 with 1 Axes>"
      ]
     },
     "metadata": {},
     "output_type": "display_data"
    },
    {
     "data": {
      "image/png": "[encoded data removed]",
      "text/plain": [
       "<Figure size 640x480 with 1 Axes>"
      ]
     },
     "metadata": {},
     "output_type": "display_data"
    },
    {
     "data": {
      "image/png": "[encoded data removed]",
      "text/plain": [
       "<Figure size 640x480 with 1 Axes>"
      ]
     },
     "metadata": {},
     "output_type": "display_data"
    }
   ],
   "source": [
    "# Dữ liệu sau khi ta loại bỏ Outlier\n",
    "df_outlier = ['CreditScore','Age','Tenure','Balance','NumOfProducts','EstimatedSalary','Point Earned']\n",
    "for i in df_outlier:\n",
    "    sns.boxplot(x=df[i])\n",
    "    plt.show()"
   ]
  },
  {
   "cell_type": "code",
   "execution_count": 489,
   "metadata": {
    "id": "1KXrMPxkDDv8",
    "outputId": "36c15d9c-7879-403d-cc9c-909a0ddedd3a"
   },
   "outputs": [
    {
     "data": {
      "text/plain": [
       "(9574, 15)"
      ]
     },
     "execution_count": 489,
     "metadata": {},
     "output_type": "execute_result"
    }
   ],
   "source": [
    "df.shape"
   ]
  },
  {
   "cell_type": "markdown",
   "metadata": {
    "id": "gOUzCFsbDDv8"
   },
   "source": [
    "- Dữ liệu gốc ban đầu có 10.000 dòng, sau khi ta phát hiệu và loại bỏ outlier, dữ liệu còn lại 9574 dòng."
   ]
  },
  {
   "cell_type": "code",
   "execution_count": 490,
   "metadata": {
    "id": "HcgNrz8EDDv8",
    "outputId": "403a8c3a-47ff-4092-d689-afe70e2764a8"
   },
   "outputs": [
    {
     "data": {
      "text/html": [
       "<div>\n",
       "<style scoped>\n",
       "    .dataframe tbody tr th:only-of-type {\n",
       "        vertical-align: middle;\n",
       "    }\n",
       "\n",
       "    .dataframe tbody tr th {\n",
       "        vertical-align: top;\n",
       "    }\n",
       "\n",
       "    .dataframe thead th {\n",
       "        text-align: right;\n",
       "    }\n",
       "</style>\n",
       "<table border=\"1\" class=\"dataframe\">\n",
       "  <thead>\n",
       "    <tr style=\"text-align: right;\">\n",
       "      <th></th>\n",
       "      <th>CreditScore</th>\n",
       "      <th>Country</th>\n",
       "      <th>Gender</th>\n",
       "      <th>Age</th>\n",
       "      <th>Tenure</th>\n",
       "      <th>Balance</th>\n",
       "      <th>NumOfProducts</th>\n",
       "      <th>HasCrCard</th>\n",
       "      <th>IsActiveMember</th>\n",
       "      <th>EstimatedSalary</th>\n",
       "      <th>Churned</th>\n",
       "      <th>Complain</th>\n",
       "      <th>Satisfaction Score</th>\n",
       "      <th>Card Type</th>\n",
       "      <th>Point Earned</th>\n",
       "    </tr>\n",
       "  </thead>\n",
       "  <tbody>\n",
       "    <tr>\n",
       "      <th>0</th>\n",
       "      <td>619</td>\n",
       "      <td>France</td>\n",
       "      <td>Female</td>\n",
       "      <td>42</td>\n",
       "      <td>2</td>\n",
       "      <td>0.00</td>\n",
       "      <td>1</td>\n",
       "      <td>1</td>\n",
       "      <td>1</td>\n",
       "      <td>101348.88</td>\n",
       "      <td>1</td>\n",
       "      <td>1</td>\n",
       "      <td>2</td>\n",
       "      <td>DIAMOND</td>\n",
       "      <td>464</td>\n",
       "    </tr>\n",
       "    <tr>\n",
       "      <th>1</th>\n",
       "      <td>608</td>\n",
       "      <td>Spain</td>\n",
       "      <td>Female</td>\n",
       "      <td>41</td>\n",
       "      <td>1</td>\n",
       "      <td>83807.86</td>\n",
       "      <td>1</td>\n",
       "      <td>0</td>\n",
       "      <td>1</td>\n",
       "      <td>112542.58</td>\n",
       "      <td>0</td>\n",
       "      <td>1</td>\n",
       "      <td>3</td>\n",
       "      <td>DIAMOND</td>\n",
       "      <td>456</td>\n",
       "    </tr>\n",
       "    <tr>\n",
       "      <th>2</th>\n",
       "      <td>502</td>\n",
       "      <td>France</td>\n",
       "      <td>Female</td>\n",
       "      <td>42</td>\n",
       "      <td>8</td>\n",
       "      <td>159660.80</td>\n",
       "      <td>3</td>\n",
       "      <td>1</td>\n",
       "      <td>0</td>\n",
       "      <td>113931.57</td>\n",
       "      <td>1</td>\n",
       "      <td>1</td>\n",
       "      <td>3</td>\n",
       "      <td>DIAMOND</td>\n",
       "      <td>377</td>\n",
       "    </tr>\n",
       "    <tr>\n",
       "      <th>3</th>\n",
       "      <td>699</td>\n",
       "      <td>France</td>\n",
       "      <td>Female</td>\n",
       "      <td>39</td>\n",
       "      <td>1</td>\n",
       "      <td>0.00</td>\n",
       "      <td>2</td>\n",
       "      <td>0</td>\n",
       "      <td>0</td>\n",
       "      <td>93826.63</td>\n",
       "      <td>0</td>\n",
       "      <td>0</td>\n",
       "      <td>5</td>\n",
       "      <td>GOLD</td>\n",
       "      <td>350</td>\n",
       "    </tr>\n",
       "    <tr>\n",
       "      <th>4</th>\n",
       "      <td>850</td>\n",
       "      <td>Spain</td>\n",
       "      <td>Female</td>\n",
       "      <td>43</td>\n",
       "      <td>2</td>\n",
       "      <td>125510.82</td>\n",
       "      <td>1</td>\n",
       "      <td>1</td>\n",
       "      <td>1</td>\n",
       "      <td>79084.10</td>\n",
       "      <td>0</td>\n",
       "      <td>0</td>\n",
       "      <td>5</td>\n",
       "      <td>GOLD</td>\n",
       "      <td>425</td>\n",
       "    </tr>\n",
       "  </tbody>\n",
       "</table>\n",
       "</div>"
      ],
      "text/plain": [
       "   CreditScore Country  Gender  Age  Tenure    Balance  NumOfProducts  \\\n",
       "0          619  France  Female   42       2       0.00              1   \n",
       "1          608   Spain  Female   41       1   83807.86              1   \n",
       "2          502  France  Female   42       8  159660.80              3   \n",
       "3          699  France  Female   39       1       0.00              2   \n",
       "4          850   Spain  Female   43       2  125510.82              1   \n",
       "\n",
       "   HasCrCard  IsActiveMember  EstimatedSalary  Churned  Complain  \\\n",
       "0          1               1        101348.88        1         1   \n",
       "1          0               1        112542.58        0         1   \n",
       "2          1               0        113931.57        1         1   \n",
       "3          0               0         93826.63        0         0   \n",
       "4          1               1         79084.10        0         0   \n",
       "\n",
       "   Satisfaction Score Card Type  Point Earned  \n",
       "0                   2   DIAMOND           464  \n",
       "1                   3   DIAMOND           456  \n",
       "2                   3   DIAMOND           377  \n",
       "3                   5      GOLD           350  \n",
       "4                   5      GOLD           425  "
      ]
     },
     "execution_count": 490,
     "metadata": {},
     "output_type": "execute_result"
    }
   ],
   "source": [
    "# Đọc 5 dòng dữ liệu đầu vào\n",
    "df.head()"
   ]
  },
  {
   "cell_type": "markdown",
   "metadata": {
    "id": "W1z_SvA6DDv8"
   },
   "source": [
    "### 5.2 Normalization Data"
   ]
  },
  {
   "cell_type": "code",
   "execution_count": 491,
   "metadata": {
    "id": "eOP7mjzCDDv8"
   },
   "outputs": [],
   "source": [
    "# Chuẩn hóa dữ liệu\n",
    "from sklearn.preprocessing import StandardScaler"
   ]
  },
  {
   "cell_type": "code",
   "execution_count": 492,
   "metadata": {
    "id": "bko7vK48DDv9"
   },
   "outputs": [],
   "source": [
    "# Khởi tạo\n",
    "sc = StandardScaler()"
   ]
  },
  {
   "cell_type": "code",
   "execution_count": 493,
   "metadata": {
    "id": "ceS0zd1hDDv9"
   },
   "outputs": [],
   "source": [
    "for i in ['CreditScore','Age','Balance','EstimatedSalary','Point Earned']:\n",
    "     df[i] = sc.fit_transform(df[i].values.reshape(-1,1))"
   ]
  },
  {
   "cell_type": "code",
   "execution_count": 494,
   "metadata": {
    "id": "7peclxY5DDv9",
    "outputId": "a7ca2d3c-118b-4769-85af-c88d58dab5f6"
   },
   "outputs": [
    {
     "data": {
      "text/html": [
       "<div>\n",
       "<style scoped>\n",
       "    .dataframe tbody tr th:only-of-type {\n",
       "        vertical-align: middle;\n",
       "    }\n",
       "\n",
       "    .dataframe tbody tr th {\n",
       "        vertical-align: top;\n",
       "    }\n",
       "\n",
       "    .dataframe thead th {\n",
       "        text-align: right;\n",
       "    }\n",
       "</style>\n",
       "<table border=\"1\" class=\"dataframe\">\n",
       "  <thead>\n",
       "    <tr style=\"text-align: right;\">\n",
       "      <th></th>\n",
       "      <th>CreditScore</th>\n",
       "      <th>Country</th>\n",
       "      <th>Gender</th>\n",
       "      <th>Age</th>\n",
       "      <th>Tenure</th>\n",
       "      <th>Balance</th>\n",
       "      <th>NumOfProducts</th>\n",
       "      <th>HasCrCard</th>\n",
       "      <th>IsActiveMember</th>\n",
       "      <th>EstimatedSalary</th>\n",
       "      <th>Churned</th>\n",
       "      <th>Complain</th>\n",
       "      <th>Satisfaction Score</th>\n",
       "      <th>Card Type</th>\n",
       "      <th>Point Earned</th>\n",
       "    </tr>\n",
       "  </thead>\n",
       "  <tbody>\n",
       "    <tr>\n",
       "      <th>0</th>\n",
       "      <td>-0.330456</td>\n",
       "      <td>France</td>\n",
       "      <td>Female</td>\n",
       "      <td>0.503360</td>\n",
       "      <td>2</td>\n",
       "      <td>-1.226236</td>\n",
       "      <td>1</td>\n",
       "      <td>1</td>\n",
       "      <td>1</td>\n",
       "      <td>0.021005</td>\n",
       "      <td>1</td>\n",
       "      <td>1</td>\n",
       "      <td>2</td>\n",
       "      <td>DIAMOND</td>\n",
       "      <td>-0.626934</td>\n",
       "    </tr>\n",
       "    <tr>\n",
       "      <th>1</th>\n",
       "      <td>-0.444979</td>\n",
       "      <td>Spain</td>\n",
       "      <td>Female</td>\n",
       "      <td>0.387603</td>\n",
       "      <td>1</td>\n",
       "      <td>0.116485</td>\n",
       "      <td>1</td>\n",
       "      <td>0</td>\n",
       "      <td>1</td>\n",
       "      <td>0.215653</td>\n",
       "      <td>0</td>\n",
       "      <td>1</td>\n",
       "      <td>3</td>\n",
       "      <td>DIAMOND</td>\n",
       "      <td>-0.662320</td>\n",
       "    </tr>\n",
       "    <tr>\n",
       "      <th>2</th>\n",
       "      <td>-1.548564</td>\n",
       "      <td>France</td>\n",
       "      <td>Female</td>\n",
       "      <td>0.503360</td>\n",
       "      <td>8</td>\n",
       "      <td>1.331756</td>\n",
       "      <td>3</td>\n",
       "      <td>1</td>\n",
       "      <td>0</td>\n",
       "      <td>0.239806</td>\n",
       "      <td>1</td>\n",
       "      <td>1</td>\n",
       "      <td>3</td>\n",
       "      <td>DIAMOND</td>\n",
       "      <td>-1.011748</td>\n",
       "    </tr>\n",
       "    <tr>\n",
       "      <th>3</th>\n",
       "      <td>0.502438</td>\n",
       "      <td>France</td>\n",
       "      <td>Female</td>\n",
       "      <td>0.156091</td>\n",
       "      <td>1</td>\n",
       "      <td>-1.226236</td>\n",
       "      <td>2</td>\n",
       "      <td>0</td>\n",
       "      <td>0</td>\n",
       "      <td>-0.109800</td>\n",
       "      <td>0</td>\n",
       "      <td>0</td>\n",
       "      <td>5</td>\n",
       "      <td>GOLD</td>\n",
       "      <td>-1.131172</td>\n",
       "    </tr>\n",
       "    <tr>\n",
       "      <th>4</th>\n",
       "      <td>2.074526</td>\n",
       "      <td>Spain</td>\n",
       "      <td>Female</td>\n",
       "      <td>0.619116</td>\n",
       "      <td>2</td>\n",
       "      <td>0.784625</td>\n",
       "      <td>1</td>\n",
       "      <td>1</td>\n",
       "      <td>1</td>\n",
       "      <td>-0.366159</td>\n",
       "      <td>0</td>\n",
       "      <td>0</td>\n",
       "      <td>5</td>\n",
       "      <td>GOLD</td>\n",
       "      <td>-0.799437</td>\n",
       "    </tr>\n",
       "  </tbody>\n",
       "</table>\n",
       "</div>"
      ],
      "text/plain": [
       "   CreditScore Country  Gender       Age  Tenure   Balance  NumOfProducts  \\\n",
       "0    -0.330456  France  Female  0.503360       2 -1.226236              1   \n",
       "1    -0.444979   Spain  Female  0.387603       1  0.116485              1   \n",
       "2    -1.548564  France  Female  0.503360       8  1.331756              3   \n",
       "3     0.502438  France  Female  0.156091       1 -1.226236              2   \n",
       "4     2.074526   Spain  Female  0.619116       2  0.784625              1   \n",
       "\n",
       "   HasCrCard  IsActiveMember  EstimatedSalary  Churned  Complain  \\\n",
       "0          1               1         0.021005        1         1   \n",
       "1          0               1         0.215653        0         1   \n",
       "2          1               0         0.239806        1         1   \n",
       "3          0               0        -0.109800        0         0   \n",
       "4          1               1        -0.366159        0         0   \n",
       "\n",
       "   Satisfaction Score Card Type  Point Earned  \n",
       "0                   2   DIAMOND     -0.626934  \n",
       "1                   3   DIAMOND     -0.662320  \n",
       "2                   3   DIAMOND     -1.011748  \n",
       "3                   5      GOLD     -1.131172  \n",
       "4                   5      GOLD     -0.799437  "
      ]
     },
     "execution_count": 494,
     "metadata": {},
     "output_type": "execute_result"
    }
   ],
   "source": [
    "# Dữ liệu sau khi chuẩn hóa\n",
    "df.head()"
   ]
  },
  {
   "cell_type": "code",
   "execution_count": 495,
   "metadata": {
    "id": "6hHdFPtfDDv9"
   },
   "outputs": [],
   "source": [
    "df.drop(columns=['HasCrCard','Card Type','Complain','Satisfaction Score','Point Earned'],axis=1,inplace = True)"
   ]
  },
  {
   "cell_type": "markdown",
   "metadata": {
    "id": "_u5hkCc4DDv9"
   },
   "source": [
    "### 5.3 Categorical Data Encoding"
   ]
  },
  {
   "cell_type": "code",
   "execution_count": 496,
   "metadata": {
    "id": "j_ljxt5WDDv9",
    "outputId": "1e1d1784-0ade-471b-d2ee-e77ae8541e5e"
   },
   "outputs": [
    {
     "data": {
      "text/plain": [
       "['Country', 'Gender']"
      ]
     },
     "execution_count": 496,
     "metadata": {},
     "output_type": "execute_result"
    }
   ],
   "source": [
    "# Các thuộc tinh phân loại còn để chuẩn hóa dữ liệu\n",
    "objects =  [ f for f in df.columns if df.dtypes[f] == 'object']\n",
    "objects"
   ]
  },
  {
   "cell_type": "code",
   "execution_count": 497,
   "metadata": {
    "id": "-Y9x4G_YDDv9",
    "outputId": "087ca2cb-9bff-407c-ae42-069c3423fd94"
   },
   "outputs": [
    {
     "data": {
      "text/plain": [
       "Country\n",
       "France     4802\n",
       "Germany    2407\n",
       "Spain      2365\n",
       "Name: CreditScore, dtype: int64"
      ]
     },
     "execution_count": 497,
     "metadata": {},
     "output_type": "execute_result"
    }
   ],
   "source": [
    "# Xem xét thuộc tính phân loại: Country\n",
    "df.groupby(by='Country')['CreditScore'].count()"
   ]
  },
  {
   "cell_type": "markdown",
   "metadata": {
    "id": "nIrBazDeDDv-"
   },
   "source": [
    "-  Dựa trên kết quả ta thấy có 3 quốc gia\n",
    "-  Cần chuyển sang dữ liệu kiểu số"
   ]
  },
  {
   "cell_type": "code",
   "execution_count": 498,
   "metadata": {
    "id": "_xB8aQJlDDv-",
    "outputId": "949ed773-a83d-46d9-f4d5-d5bfe9f75c09"
   },
   "outputs": [
    {
     "data": {
      "text/plain": [
       "Gender\n",
       "Female    4345\n",
       "Male      5229\n",
       "Name: CreditScore, dtype: int64"
      ]
     },
     "execution_count": 498,
     "metadata": {},
     "output_type": "execute_result"
    }
   ],
   "source": [
    "# Xem xét thuộc tính phân loại: Gender\n",
    "df.groupby(by='Gender')['CreditScore'].count()"
   ]
  },
  {
   "cell_type": "markdown",
   "metadata": {
    "id": "LZcCNRJRDDv-"
   },
   "source": [
    "- Dựa trên kết quả ta thấy có 2 giới tính\n",
    "- Cần chuyển sang dữ liệu kiểu số"
   ]
  },
  {
   "cell_type": "code",
   "execution_count": 499,
   "metadata": {
    "id": "wy708OANDDv-",
    "outputId": "66e22a8e-0d4f-4e39-f984-5bb846495f87"
   },
   "outputs": [
    {
     "data": {
      "text/html": [
       "<div>\n",
       "<style scoped>\n",
       "    .dataframe tbody tr th:only-of-type {\n",
       "        vertical-align: middle;\n",
       "    }\n",
       "\n",
       "    .dataframe tbody tr th {\n",
       "        vertical-align: top;\n",
       "    }\n",
       "\n",
       "    .dataframe thead th {\n",
       "        text-align: right;\n",
       "    }\n",
       "</style>\n",
       "<table border=\"1\" class=\"dataframe\">\n",
       "  <thead>\n",
       "    <tr style=\"text-align: right;\">\n",
       "      <th></th>\n",
       "      <th>CreditScore</th>\n",
       "      <th>Age</th>\n",
       "      <th>Tenure</th>\n",
       "      <th>Balance</th>\n",
       "      <th>NumOfProducts</th>\n",
       "      <th>IsActiveMember</th>\n",
       "      <th>EstimatedSalary</th>\n",
       "      <th>Churned</th>\n",
       "      <th>Country_France</th>\n",
       "      <th>Country_Germany</th>\n",
       "      <th>Country_Spain</th>\n",
       "      <th>Gender_Female</th>\n",
       "      <th>Gender_Male</th>\n",
       "    </tr>\n",
       "  </thead>\n",
       "  <tbody>\n",
       "    <tr>\n",
       "      <th>0</th>\n",
       "      <td>-0.330456</td>\n",
       "      <td>0.503360</td>\n",
       "      <td>2</td>\n",
       "      <td>-1.226236</td>\n",
       "      <td>1</td>\n",
       "      <td>1</td>\n",
       "      <td>0.021005</td>\n",
       "      <td>1</td>\n",
       "      <td>True</td>\n",
       "      <td>False</td>\n",
       "      <td>False</td>\n",
       "      <td>True</td>\n",
       "      <td>False</td>\n",
       "    </tr>\n",
       "    <tr>\n",
       "      <th>1</th>\n",
       "      <td>-0.444979</td>\n",
       "      <td>0.387603</td>\n",
       "      <td>1</td>\n",
       "      <td>0.116485</td>\n",
       "      <td>1</td>\n",
       "      <td>1</td>\n",
       "      <td>0.215653</td>\n",
       "      <td>0</td>\n",
       "      <td>False</td>\n",
       "      <td>False</td>\n",
       "      <td>True</td>\n",
       "      <td>True</td>\n",
       "      <td>False</td>\n",
       "    </tr>\n",
       "    <tr>\n",
       "      <th>2</th>\n",
       "      <td>-1.548564</td>\n",
       "      <td>0.503360</td>\n",
       "      <td>8</td>\n",
       "      <td>1.331756</td>\n",
       "      <td>3</td>\n",
       "      <td>0</td>\n",
       "      <td>0.239806</td>\n",
       "      <td>1</td>\n",
       "      <td>True</td>\n",
       "      <td>False</td>\n",
       "      <td>False</td>\n",
       "      <td>True</td>\n",
       "      <td>False</td>\n",
       "    </tr>\n",
       "    <tr>\n",
       "      <th>3</th>\n",
       "      <td>0.502438</td>\n",
       "      <td>0.156091</td>\n",
       "      <td>1</td>\n",
       "      <td>-1.226236</td>\n",
       "      <td>2</td>\n",
       "      <td>0</td>\n",
       "      <td>-0.109800</td>\n",
       "      <td>0</td>\n",
       "      <td>True</td>\n",
       "      <td>False</td>\n",
       "      <td>False</td>\n",
       "      <td>True</td>\n",
       "      <td>False</td>\n",
       "    </tr>\n",
       "    <tr>\n",
       "      <th>4</th>\n",
       "      <td>2.074526</td>\n",
       "      <td>0.619116</td>\n",
       "      <td>2</td>\n",
       "      <td>0.784625</td>\n",
       "      <td>1</td>\n",
       "      <td>1</td>\n",
       "      <td>-0.366159</td>\n",
       "      <td>0</td>\n",
       "      <td>False</td>\n",
       "      <td>False</td>\n",
       "      <td>True</td>\n",
       "      <td>True</td>\n",
       "      <td>False</td>\n",
       "    </tr>\n",
       "  </tbody>\n",
       "</table>\n",
       "</div>"
      ],
      "text/plain": [
       "   CreditScore       Age  Tenure   Balance  NumOfProducts  IsActiveMember  \\\n",
       "0    -0.330456  0.503360       2 -1.226236              1               1   \n",
       "1    -0.444979  0.387603       1  0.116485              1               1   \n",
       "2    -1.548564  0.503360       8  1.331756              3               0   \n",
       "3     0.502438  0.156091       1 -1.226236              2               0   \n",
       "4     2.074526  0.619116       2  0.784625              1               1   \n",
       "\n",
       "   EstimatedSalary  Churned  Country_France  Country_Germany  Country_Spain  \\\n",
       "0         0.021005        1            True            False          False   \n",
       "1         0.215653        0           False            False           True   \n",
       "2         0.239806        1            True            False          False   \n",
       "3        -0.109800        0            True            False          False   \n",
       "4        -0.366159        0           False            False           True   \n",
       "\n",
       "   Gender_Female  Gender_Male  \n",
       "0           True        False  \n",
       "1           True        False  \n",
       "2           True        False  \n",
       "3           True        False  \n",
       "4           True        False  "
      ]
     },
     "execution_count": 499,
     "metadata": {},
     "output_type": "execute_result"
    }
   ],
   "source": [
    "# Mã hóa dữ liệu Encoder - dùng get_dummies\n",
    "df_new = pd.get_dummies(df)\n",
    "df_new.head()"
   ]
  },
  {
   "cell_type": "markdown",
   "metadata": {
    "id": "qPlNLGNxDDv-"
   },
   "source": [
    "## 6. Logistic Regression with Customer Churn"
   ]
  },
  {
   "cell_type": "code",
   "execution_count": 500,
   "metadata": {
    "id": "_g-YAYNWDDv-"
   },
   "outputs": [],
   "source": [
    "# inputs: các cột còn lại trừ cột Churend\n",
    "# output: cột Churned"
   ]
  },
  {
   "cell_type": "code",
   "execution_count": 501,
   "metadata": {
    "id": "4c0tmtgVDDv_"
   },
   "outputs": [],
   "source": [
    "X = df_new.drop(columns=['Churned'],axis=1)\n",
    "y = df_new['Churned']"
   ]
  },
  {
   "cell_type": "markdown",
   "metadata": {
    "id": "4Nv_QGtRDDv_"
   },
   "source": [
    "### 6.1 Original Data"
   ]
  },
  {
   "cell_type": "code",
   "execution_count": 502,
   "metadata": {
    "id": "hLwPg-ThDDv_"
   },
   "outputs": [],
   "source": [
    "# Import thư viện 'train_test_split' để chia tệp dữ liệu train vá test\n",
    "from sklearn.model_selection import train_test_split"
   ]
  },
  {
   "cell_type": "markdown",
   "metadata": {
    "id": "93ybF1jDDDv_"
   },
   "source": [
    "### Train/test Dataset"
   ]
  },
  {
   "cell_type": "code",
   "execution_count": 503,
   "metadata": {
    "id": "efZrGy2IDDv_"
   },
   "outputs": [],
   "source": [
    "# Trainng Data 80% datasets, Test Data 20% datasets\n",
    "X_train, X_test, y_train, y_test = train_test_split(X, y, test_size=0.2, random_state = 42)"
   ]
  },
  {
   "cell_type": "code",
   "execution_count": 504,
   "metadata": {
    "id": "AKLWFjT0DDv_",
    "outputId": "c33b87b2-b5c8-4873-e0c3-ce079d7158d1"
   },
   "outputs": [
    {
     "data": {
      "text/html": [
       "<div>\n",
       "<style scoped>\n",
       "    .dataframe tbody tr th:only-of-type {\n",
       "        vertical-align: middle;\n",
       "    }\n",
       "\n",
       "    .dataframe tbody tr th {\n",
       "        vertical-align: top;\n",
       "    }\n",
       "\n",
       "    .dataframe thead th {\n",
       "        text-align: right;\n",
       "    }\n",
       "</style>\n",
       "<table border=\"1\" class=\"dataframe\">\n",
       "  <thead>\n",
       "    <tr style=\"text-align: right;\">\n",
       "      <th></th>\n",
       "      <th>CreditScore</th>\n",
       "      <th>Age</th>\n",
       "      <th>Tenure</th>\n",
       "      <th>Balance</th>\n",
       "      <th>NumOfProducts</th>\n",
       "      <th>IsActiveMember</th>\n",
       "      <th>EstimatedSalary</th>\n",
       "      <th>Country_France</th>\n",
       "      <th>Country_Germany</th>\n",
       "      <th>Country_Spain</th>\n",
       "      <th>Gender_Female</th>\n",
       "      <th>Gender_Male</th>\n",
       "    </tr>\n",
       "  </thead>\n",
       "  <tbody>\n",
       "    <tr>\n",
       "      <th>4426</th>\n",
       "      <td>0.585727</td>\n",
       "      <td>0.734872</td>\n",
       "      <td>6</td>\n",
       "      <td>-1.226236</td>\n",
       "      <td>2</td>\n",
       "      <td>1</td>\n",
       "      <td>1.606773</td>\n",
       "      <td>True</td>\n",
       "      <td>False</td>\n",
       "      <td>False</td>\n",
       "      <td>True</td>\n",
       "      <td>False</td>\n",
       "    </tr>\n",
       "    <tr>\n",
       "      <th>3679</th>\n",
       "      <td>-0.007710</td>\n",
       "      <td>-1.464497</td>\n",
       "      <td>7</td>\n",
       "      <td>1.346789</td>\n",
       "      <td>2</td>\n",
       "      <td>1</td>\n",
       "      <td>-1.247657</td>\n",
       "      <td>False</td>\n",
       "      <td>False</td>\n",
       "      <td>True</td>\n",
       "      <td>False</td>\n",
       "      <td>True</td>\n",
       "    </tr>\n",
       "    <tr>\n",
       "      <th>6157</th>\n",
       "      <td>-1.059239</td>\n",
       "      <td>-1.001472</td>\n",
       "      <td>3</td>\n",
       "      <td>-1.226236</td>\n",
       "      <td>2</td>\n",
       "      <td>0</td>\n",
       "      <td>0.799019</td>\n",
       "      <td>True</td>\n",
       "      <td>False</td>\n",
       "      <td>False</td>\n",
       "      <td>False</td>\n",
       "      <td>True</td>\n",
       "    </tr>\n",
       "    <tr>\n",
       "      <th>2592</th>\n",
       "      <td>-1.517331</td>\n",
       "      <td>0.271847</td>\n",
       "      <td>6</td>\n",
       "      <td>-0.459295</td>\n",
       "      <td>2</td>\n",
       "      <td>1</td>\n",
       "      <td>0.955027</td>\n",
       "      <td>False</td>\n",
       "      <td>True</td>\n",
       "      <td>False</td>\n",
       "      <td>False</td>\n",
       "      <td>True</td>\n",
       "    </tr>\n",
       "    <tr>\n",
       "      <th>8871</th>\n",
       "      <td>-1.923367</td>\n",
       "      <td>-0.885716</td>\n",
       "      <td>3</td>\n",
       "      <td>-1.226236</td>\n",
       "      <td>1</td>\n",
       "      <td>0</td>\n",
       "      <td>1.631856</td>\n",
       "      <td>True</td>\n",
       "      <td>False</td>\n",
       "      <td>False</td>\n",
       "      <td>True</td>\n",
       "      <td>False</td>\n",
       "    </tr>\n",
       "    <tr>\n",
       "      <th>4582</th>\n",
       "      <td>-1.558975</td>\n",
       "      <td>-0.075422</td>\n",
       "      <td>4</td>\n",
       "      <td>-1.226236</td>\n",
       "      <td>2</td>\n",
       "      <td>0</td>\n",
       "      <td>-1.524513</td>\n",
       "      <td>True</td>\n",
       "      <td>False</td>\n",
       "      <td>False</td>\n",
       "      <td>False</td>\n",
       "      <td>True</td>\n",
       "    </tr>\n",
       "    <tr>\n",
       "      <th>8417</th>\n",
       "      <td>-0.215934</td>\n",
       "      <td>-1.348741</td>\n",
       "      <td>5</td>\n",
       "      <td>-1.226236</td>\n",
       "      <td>2</td>\n",
       "      <td>0</td>\n",
       "      <td>1.434103</td>\n",
       "      <td>True</td>\n",
       "      <td>False</td>\n",
       "      <td>False</td>\n",
       "      <td>True</td>\n",
       "      <td>False</td>\n",
       "    </tr>\n",
       "    <tr>\n",
       "      <th>3421</th>\n",
       "      <td>-0.601147</td>\n",
       "      <td>0.156091</td>\n",
       "      <td>0</td>\n",
       "      <td>0.659561</td>\n",
       "      <td>1</td>\n",
       "      <td>0</td>\n",
       "      <td>1.700524</td>\n",
       "      <td>True</td>\n",
       "      <td>False</td>\n",
       "      <td>False</td>\n",
       "      <td>True</td>\n",
       "      <td>False</td>\n",
       "    </tr>\n",
       "    <tr>\n",
       "      <th>1263</th>\n",
       "      <td>-0.132644</td>\n",
       "      <td>0.503360</td>\n",
       "      <td>7</td>\n",
       "      <td>1.428191</td>\n",
       "      <td>1</td>\n",
       "      <td>0</td>\n",
       "      <td>-1.168976</td>\n",
       "      <td>True</td>\n",
       "      <td>False</td>\n",
       "      <td>False</td>\n",
       "      <td>True</td>\n",
       "      <td>False</td>\n",
       "    </tr>\n",
       "    <tr>\n",
       "      <th>584</th>\n",
       "      <td>-0.038944</td>\n",
       "      <td>1.545166</td>\n",
       "      <td>1</td>\n",
       "      <td>0.692197</td>\n",
       "      <td>2</td>\n",
       "      <td>0</td>\n",
       "      <td>-0.785751</td>\n",
       "      <td>False</td>\n",
       "      <td>True</td>\n",
       "      <td>False</td>\n",
       "      <td>True</td>\n",
       "      <td>False</td>\n",
       "    </tr>\n",
       "    <tr>\n",
       "      <th>7320</th>\n",
       "      <td>2.074526</td>\n",
       "      <td>-0.769959</td>\n",
       "      <td>1</td>\n",
       "      <td>0.857983</td>\n",
       "      <td>2</td>\n",
       "      <td>1</td>\n",
       "      <td>-1.663697</td>\n",
       "      <td>False</td>\n",
       "      <td>True</td>\n",
       "      <td>False</td>\n",
       "      <td>True</td>\n",
       "      <td>False</td>\n",
       "    </tr>\n",
       "    <tr>\n",
       "      <th>8317</th>\n",
       "      <td>0.158869</td>\n",
       "      <td>-1.232984</td>\n",
       "      <td>4</td>\n",
       "      <td>-1.226236</td>\n",
       "      <td>2</td>\n",
       "      <td>0</td>\n",
       "      <td>-0.198053</td>\n",
       "      <td>True</td>\n",
       "      <td>False</td>\n",
       "      <td>False</td>\n",
       "      <td>True</td>\n",
       "      <td>False</td>\n",
       "    </tr>\n",
       "    <tr>\n",
       "      <th>5423</th>\n",
       "      <td>1.491500</td>\n",
       "      <td>-0.306934</td>\n",
       "      <td>6</td>\n",
       "      <td>-1.226236</td>\n",
       "      <td>2</td>\n",
       "      <td>1</td>\n",
       "      <td>-0.546192</td>\n",
       "      <td>True</td>\n",
       "      <td>False</td>\n",
       "      <td>False</td>\n",
       "      <td>False</td>\n",
       "      <td>True</td>\n",
       "    </tr>\n",
       "    <tr>\n",
       "      <th>5496</th>\n",
       "      <td>-0.320045</td>\n",
       "      <td>0.503360</td>\n",
       "      <td>1</td>\n",
       "      <td>-1.226236</td>\n",
       "      <td>2</td>\n",
       "      <td>1</td>\n",
       "      <td>-0.601228</td>\n",
       "      <td>True</td>\n",
       "      <td>False</td>\n",
       "      <td>False</td>\n",
       "      <td>True</td>\n",
       "      <td>False</td>\n",
       "    </tr>\n",
       "    <tr>\n",
       "      <th>4153</th>\n",
       "      <td>0.460793</td>\n",
       "      <td>1.776679</td>\n",
       "      <td>8</td>\n",
       "      <td>0.299514</td>\n",
       "      <td>1</td>\n",
       "      <td>0</td>\n",
       "      <td>-0.521675</td>\n",
       "      <td>False</td>\n",
       "      <td>True</td>\n",
       "      <td>False</td>\n",
       "      <td>True</td>\n",
       "      <td>False</td>\n",
       "    </tr>\n",
       "    <tr>\n",
       "      <th>7119</th>\n",
       "      <td>-0.309634</td>\n",
       "      <td>-0.769959</td>\n",
       "      <td>7</td>\n",
       "      <td>0.963229</td>\n",
       "      <td>1</td>\n",
       "      <td>1</td>\n",
       "      <td>0.844209</td>\n",
       "      <td>True</td>\n",
       "      <td>False</td>\n",
       "      <td>False</td>\n",
       "      <td>False</td>\n",
       "      <td>True</td>\n",
       "    </tr>\n",
       "    <tr>\n",
       "      <th>9089</th>\n",
       "      <td>-0.444979</td>\n",
       "      <td>-0.422691</td>\n",
       "      <td>4</td>\n",
       "      <td>0.196031</td>\n",
       "      <td>1</td>\n",
       "      <td>1</td>\n",
       "      <td>1.194301</td>\n",
       "      <td>True</td>\n",
       "      <td>False</td>\n",
       "      <td>False</td>\n",
       "      <td>True</td>\n",
       "      <td>False</td>\n",
       "    </tr>\n",
       "    <tr>\n",
       "      <th>8173</th>\n",
       "      <td>1.106286</td>\n",
       "      <td>-0.769959</td>\n",
       "      <td>1</td>\n",
       "      <td>0.813617</td>\n",
       "      <td>3</td>\n",
       "      <td>0</td>\n",
       "      <td>1.096023</td>\n",
       "      <td>False</td>\n",
       "      <td>True</td>\n",
       "      <td>False</td>\n",
       "      <td>False</td>\n",
       "      <td>True</td>\n",
       "    </tr>\n",
       "    <tr>\n",
       "      <th>3452</th>\n",
       "      <td>1.106286</td>\n",
       "      <td>2.239704</td>\n",
       "      <td>3</td>\n",
       "      <td>0.200943</td>\n",
       "      <td>1</td>\n",
       "      <td>1</td>\n",
       "      <td>-0.816622</td>\n",
       "      <td>True</td>\n",
       "      <td>False</td>\n",
       "      <td>False</td>\n",
       "      <td>False</td>\n",
       "      <td>True</td>\n",
       "    </tr>\n",
       "    <tr>\n",
       "      <th>2756</th>\n",
       "      <td>-1.652676</td>\n",
       "      <td>-1.001472</td>\n",
       "      <td>1</td>\n",
       "      <td>1.090332</td>\n",
       "      <td>1</td>\n",
       "      <td>1</td>\n",
       "      <td>1.672010</td>\n",
       "      <td>True</td>\n",
       "      <td>False</td>\n",
       "      <td>False</td>\n",
       "      <td>False</td>\n",
       "      <td>True</td>\n",
       "    </tr>\n",
       "  </tbody>\n",
       "</table>\n",
       "</div>"
      ],
      "text/plain": [
       "      CreditScore       Age  Tenure   Balance  NumOfProducts  IsActiveMember  \\\n",
       "4426     0.585727  0.734872       6 -1.226236              2               1   \n",
       "3679    -0.007710 -1.464497       7  1.346789              2               1   \n",
       "6157    -1.059239 -1.001472       3 -1.226236              2               0   \n",
       "2592    -1.517331  0.271847       6 -0.459295              2               1   \n",
       "8871    -1.923367 -0.885716       3 -1.226236              1               0   \n",
       "4582    -1.558975 -0.075422       4 -1.226236              2               0   \n",
       "8417    -0.215934 -1.348741       5 -1.226236              2               0   \n",
       "3421    -0.601147  0.156091       0  0.659561              1               0   \n",
       "1263    -0.132644  0.503360       7  1.428191              1               0   \n",
       "584     -0.038944  1.545166       1  0.692197              2               0   \n",
       "7320     2.074526 -0.769959       1  0.857983              2               1   \n",
       "8317     0.158869 -1.232984       4 -1.226236              2               0   \n",
       "5423     1.491500 -0.306934       6 -1.226236              2               1   \n",
       "5496    -0.320045  0.503360       1 -1.226236              2               1   \n",
       "4153     0.460793  1.776679       8  0.299514              1               0   \n",
       "7119    -0.309634 -0.769959       7  0.963229              1               1   \n",
       "9089    -0.444979 -0.422691       4  0.196031              1               1   \n",
       "8173     1.106286 -0.769959       1  0.813617              3               0   \n",
       "3452     1.106286  2.239704       3  0.200943              1               1   \n",
       "2756    -1.652676 -1.001472       1  1.090332              1               1   \n",
       "\n",
       "      EstimatedSalary  Country_France  Country_Germany  Country_Spain  \\\n",
       "4426         1.606773            True            False          False   \n",
       "3679        -1.247657           False            False           True   \n",
       "6157         0.799019            True            False          False   \n",
       "2592         0.955027           False             True          False   \n",
       "8871         1.631856            True            False          False   \n",
       "4582        -1.524513            True            False          False   \n",
       "8417         1.434103            True            False          False   \n",
       "3421         1.700524            True            False          False   \n",
       "1263        -1.168976            True            False          False   \n",
       "584         -0.785751           False             True          False   \n",
       "7320        -1.663697           False             True          False   \n",
       "8317        -0.198053            True            False          False   \n",
       "5423        -0.546192            True            False          False   \n",
       "5496        -0.601228            True            False          False   \n",
       "4153        -0.521675           False             True          False   \n",
       "7119         0.844209            True            False          False   \n",
       "9089         1.194301            True            False          False   \n",
       "8173         1.096023           False             True          False   \n",
       "3452        -0.816622            True            False          False   \n",
       "2756         1.672010            True            False          False   \n",
       "\n",
       "      Gender_Female  Gender_Male  \n",
       "4426           True        False  \n",
       "3679          False         True  \n",
       "6157          False         True  \n",
       "2592          False         True  \n",
       "8871           True        False  \n",
       "4582          False         True  \n",
       "8417           True        False  \n",
       "3421           True        False  \n",
       "1263           True        False  \n",
       "584            True        False  \n",
       "7320           True        False  \n",
       "8317           True        False  \n",
       "5423          False         True  \n",
       "5496           True        False  \n",
       "4153           True        False  \n",
       "7119          False         True  \n",
       "9089           True        False  \n",
       "8173          False         True  \n",
       "3452          False         True  \n",
       "2756          False         True  "
      ]
     },
     "execution_count": 504,
     "metadata": {},
     "output_type": "execute_result"
    }
   ],
   "source": [
    "# Bộ dữ liệu training, biến đầu vào lấy 20 dòng đầu\n",
    "X_train.head(20)"
   ]
  },
  {
   "cell_type": "code",
   "execution_count": 505,
   "metadata": {
    "id": "l1aDQk_ADDv_",
    "outputId": "1f3e661b-fdcd-4ce8-c112-25e71cad9e3b"
   },
   "outputs": [
    {
     "data": {
      "text/plain": [
       "4426    0\n",
       "3679    0\n",
       "6157    0\n",
       "2592    0\n",
       "8871    0\n",
       "4582    0\n",
       "8417    0\n",
       "3421    0\n",
       "1263    0\n",
       "584     1\n",
       "7320    0\n",
       "8317    0\n",
       "5423    0\n",
       "5496    0\n",
       "4153    1\n",
       "7119    0\n",
       "9089    0\n",
       "8173    0\n",
       "3452    1\n",
       "2756    0\n",
       "Name: Churned, dtype: int64"
      ]
     },
     "execution_count": 505,
     "metadata": {},
     "output_type": "execute_result"
    }
   ],
   "source": [
    "# Bộ dữ liệu training, biến đàu ra lấy 20 dòng đầu\n",
    "y_train.head(20)"
   ]
  },
  {
   "cell_type": "code",
   "execution_count": 506,
   "metadata": {
    "id": "giQuT_OnDDwA",
    "outputId": "aded436e-b903-480e-e591-8939948c574d"
   },
   "outputs": [
    {
     "name": "stdout",
     "output_type": "stream",
     "text": [
      "Train set: (7659, 12) (7659,)\n",
      "Test set: (1915, 12) (1915,)\n"
     ]
    }
   ],
   "source": [
    "# Train/test dataset\n",
    "print('Train set:',X_train.shape, y_train.shape)\n",
    "print('Test set:',X_test.shape, y_test.shape)"
   ]
  },
  {
   "cell_type": "code",
   "execution_count": 507,
   "metadata": {
    "id": "sLxu-QdSDDwA"
   },
   "outputs": [],
   "source": [
    "# Import thư viện 'LogisticRegression' để khởi tạo thuật toán\n",
    "from sklearn.linear_model import LogisticRegression"
   ]
  },
  {
   "cell_type": "code",
   "execution_count": 508,
   "metadata": {
    "id": "EVHExt_QDDwA"
   },
   "outputs": [],
   "source": [
    "# Khởi tạo LogisticRegression\n",
    "model = LogisticRegression()"
   ]
  },
  {
   "cell_type": "code",
   "execution_count": 509,
   "metadata": {
    "id": "DIMiEPFZDDwA",
    "outputId": "5cb16382-3a83-48bf-f013-4c84a5a98876"
   },
   "outputs": [
    {
     "data": {
      "text/html": [
       "<style>#sk-container-id-7 {\n",
       "  /* Definition of color scheme common for light and dark mode */\n",
       "  --sklearn-color-text: black;\n",
       "  --sklearn-color-line: gray;\n",
       "  /* Definition of color scheme for unfitted estimators */\n",
       "  --sklearn-color-unfitted-level-0: #fff5e6;\n",
       "  --sklearn-color-unfitted-level-1: #f6e4d2;\n",
       "  --sklearn-color-unfitted-level-2: #ffe0b3;\n",
       "  --sklearn-color-unfitted-level-3: chocolate;\n",
       "  /* Definition of color scheme for fitted estimators */\n",
       "  --sklearn-color-fitted-level-0: #f0f8ff;\n",
       "  --sklearn-color-fitted-level-1: #d4ebff;\n",
       "  --sklearn-color-fitted-level-2: #b3dbfd;\n",
       "  --sklearn-color-fitted-level-3: cornflowerblue;\n",
       "\n",
       "  /* Specific color for light theme */\n",
       "  --sklearn-color-text-on-default-background: var(--sg-text-color, var(--theme-code-foreground, var(--jp-content-font-color1, black)));\n",
       "  --sklearn-color-background: var(--sg-background-color, var(--theme-background, var(--jp-layout-color0, white)));\n",
       "  --sklearn-color-border-box: var(--sg-text-color, var(--theme-code-foreground, var(--jp-content-font-color1, black)));\n",
       "  --sklearn-color-icon: #696969;\n",
       "\n",
       "  @media (prefers-color-scheme: dark) {\n",
       "    /* Redefinition of color scheme for dark theme */\n",
       "    --sklearn-color-text-on-default-background: var(--sg-text-color, var(--theme-code-foreground, var(--jp-content-font-color1, white)));\n",
       "    --sklearn-color-background: var(--sg-background-color, var(--theme-background, var(--jp-layout-color0, #111)));\n",
       "    --sklearn-color-border-box: var(--sg-text-color, var(--theme-code-foreground, var(--jp-content-font-color1, white)));\n",
       "    --sklearn-color-icon: #878787;\n",
       "  }\n",
       "}\n",
       "\n",
       "#sk-container-id-7 {\n",
       "  color: var(--sklearn-color-text);\n",
       "}\n",
       "\n",
       "#sk-container-id-7 pre {\n",
       "  padding: 0;\n",
       "}\n",
       "\n",
       "#sk-container-id-7 input.sk-hidden--visually {\n",
       "  border: 0;\n",
       "  clip: rect(1px 1px 1px 1px);\n",
       "  clip: rect(1px, 1px, 1px, 1px);\n",
       "  height: 1px;\n",
       "  margin: -1px;\n",
       "  overflow: hidden;\n",
       "  padding: 0;\n",
       "  position: absolute;\n",
       "  width: 1px;\n",
       "}\n",
       "\n",
       "#sk-container-id-7 div.sk-dashed-wrapped {\n",
       "  border: 1px dashed var(--sklearn-color-line);\n",
       "  margin: 0 0.4em 0.5em 0.4em;\n",
       "  box-sizing: border-box;\n",
       "  padding-bottom: 0.4em;\n",
       "  background-color: var(--sklearn-color-background);\n",
       "}\n",
       "\n",
       "#sk-container-id-7 div.sk-container {\n",
       "  /* jupyter's `normalize.less` sets `[hidden] { display: none; }`\n",
       "     but bootstrap.min.css set `[hidden] { display: none !important; }`\n",
       "     so we also need the `!important` here to be able to override the\n",
       "     default hidden behavior on the sphinx rendered scikit-learn.org.\n",
       "     See: https://github.com/scikit-learn/scikit-learn/issues/21755 */\n",
       "  display: inline-block !important;\n",
       "  position: relative;\n",
       "}\n",
       "\n",
       "#sk-container-id-7 div.sk-text-repr-fallback {\n",
       "  display: none;\n",
       "}\n",
       "\n",
       "div.sk-parallel-item,\n",
       "div.sk-serial,\n",
       "div.sk-item {\n",
       "  /* draw centered vertical line to link estimators */\n",
       "  background-image: linear-gradient(var(--sklearn-color-text-on-default-background), var(--sklearn-color-text-on-default-background));\n",
       "  background-size: 2px 100%;\n",
       "  background-repeat: no-repeat;\n",
       "  background-position: center center;\n",
       "}\n",
       "\n",
       "/* Parallel-specific style estimator block */\n",
       "\n",
       "#sk-container-id-7 div.sk-parallel-item::after {\n",
       "  content: \"\";\n",
       "  width: 100%;\n",
       "  border-bottom: 2px solid var(--sklearn-color-text-on-default-background);\n",
       "  flex-grow: 1;\n",
       "}\n",
       "\n",
       "#sk-container-id-7 div.sk-parallel {\n",
       "  display: flex;\n",
       "  align-items: stretch;\n",
       "  justify-content: center;\n",
       "  background-color: var(--sklearn-color-background);\n",
       "  position: relative;\n",
       "}\n",
       "\n",
       "#sk-container-id-7 div.sk-parallel-item {\n",
       "  display: flex;\n",
       "  flex-direction: column;\n",
       "}\n",
       "\n",
       "#sk-container-id-7 div.sk-parallel-item:first-child::after {\n",
       "  align-self: flex-end;\n",
       "  width: 50%;\n",
       "}\n",
       "\n",
       "#sk-container-id-7 div.sk-parallel-item:last-child::after {\n",
       "  align-self: flex-start;\n",
       "  width: 50%;\n",
       "}\n",
       "\n",
       "#sk-container-id-7 div.sk-parallel-item:only-child::after {\n",
       "  width: 0;\n",
       "}\n",
       "\n",
       "/* Serial-specific style estimator block */\n",
       "\n",
       "#sk-container-id-7 div.sk-serial {\n",
       "  display: flex;\n",
       "  flex-direction: column;\n",
       "  align-items: center;\n",
       "  background-color: var(--sklearn-color-background);\n",
       "  padding-right: 1em;\n",
       "  padding-left: 1em;\n",
       "}\n",
       "\n",
       "\n",
       "/* Toggleable style: style used for estimator/Pipeline/ColumnTransformer box that is\n",
       "clickable and can be expanded/collapsed.\n",
       "- Pipeline and ColumnTransformer use this feature and define the default style\n",
       "- Estimators will overwrite some part of the style using the `sk-estimator` class\n",
       "*/\n",
       "\n",
       "/* Pipeline and ColumnTransformer style (default) */\n",
       "\n",
       "#sk-container-id-7 div.sk-toggleable {\n",
       "  /* Default theme specific background. It is overwritten whether we have a\n",
       "  specific estimator or a Pipeline/ColumnTransformer */\n",
       "  background-color: var(--sklearn-color-background);\n",
       "}\n",
       "\n",
       "/* Toggleable label */\n",
       "#sk-container-id-7 label.sk-toggleable__label {\n",
       "  cursor: pointer;\n",
       "  display: block;\n",
       "  width: 100%;\n",
       "  margin-bottom: 0;\n",
       "  padding: 0.5em;\n",
       "  box-sizing: border-box;\n",
       "  text-align: center;\n",
       "}\n",
       "\n",
       "#sk-container-id-7 label.sk-toggleable__label-arrow:before {\n",
       "  /* Arrow on the left of the label */\n",
       "  content: \"▸\";\n",
       "  float: left;\n",
       "  margin-right: 0.25em;\n",
       "  color: var(--sklearn-color-icon);\n",
       "}\n",
       "\n",
       "#sk-container-id-7 label.sk-toggleable__label-arrow:hover:before {\n",
       "  color: var(--sklearn-color-text);\n",
       "}\n",
       "\n",
       "/* Toggleable content - dropdown */\n",
       "\n",
       "#sk-container-id-7 div.sk-toggleable__content {\n",
       "  max-height: 0;\n",
       "  max-width: 0;\n",
       "  overflow: hidden;\n",
       "  text-align: left;\n",
       "  /* unfitted */\n",
       "  background-color: var(--sklearn-color-unfitted-level-0);\n",
       "}\n",
       "\n",
       "#sk-container-id-7 div.sk-toggleable__content.fitted {\n",
       "  /* fitted */\n",
       "  background-color: var(--sklearn-color-fitted-level-0);\n",
       "}\n",
       "\n",
       "#sk-container-id-7 div.sk-toggleable__content pre {\n",
       "  margin: 0.2em;\n",
       "  border-radius: 0.25em;\n",
       "  color: var(--sklearn-color-text);\n",
       "  /* unfitted */\n",
       "  background-color: var(--sklearn-color-unfitted-level-0);\n",
       "}\n",
       "\n",
       "#sk-container-id-7 div.sk-toggleable__content.fitted pre {\n",
       "  /* unfitted */\n",
       "  background-color: var(--sklearn-color-fitted-level-0);\n",
       "}\n",
       "\n",
       "#sk-container-id-7 input.sk-toggleable__control:checked~div.sk-toggleable__content {\n",
       "  /* Expand drop-down */\n",
       "  max-height: 200px;\n",
       "  max-width: 100%;\n",
       "  overflow: auto;\n",
       "}\n",
       "\n",
       "#sk-container-id-7 input.sk-toggleable__control:checked~label.sk-toggleable__label-arrow:before {\n",
       "  content: \"▾\";\n",
       "}\n",
       "\n",
       "/* Pipeline/ColumnTransformer-specific style */\n",
       "\n",
       "#sk-container-id-7 div.sk-label input.sk-toggleable__control:checked~label.sk-toggleable__label {\n",
       "  color: var(--sklearn-color-text);\n",
       "  background-color: var(--sklearn-color-unfitted-level-2);\n",
       "}\n",
       "\n",
       "#sk-container-id-7 div.sk-label.fitted input.sk-toggleable__control:checked~label.sk-toggleable__label {\n",
       "  background-color: var(--sklearn-color-fitted-level-2);\n",
       "}\n",
       "\n",
       "/* Estimator-specific style */\n",
       "\n",
       "/* Colorize estimator box */\n",
       "#sk-container-id-7 div.sk-estimator input.sk-toggleable__control:checked~label.sk-toggleable__label {\n",
       "  /* unfitted */\n",
       "  background-color: var(--sklearn-color-unfitted-level-2);\n",
       "}\n",
       "\n",
       "#sk-container-id-7 div.sk-estimator.fitted input.sk-toggleable__control:checked~label.sk-toggleable__label {\n",
       "  /* fitted */\n",
       "  background-color: var(--sklearn-color-fitted-level-2);\n",
       "}\n",
       "\n",
       "#sk-container-id-7 div.sk-label label.sk-toggleable__label,\n",
       "#sk-container-id-7 div.sk-label label {\n",
       "  /* The background is the default theme color */\n",
       "  color: var(--sklearn-color-text-on-default-background);\n",
       "}\n",
       "\n",
       "/* On hover, darken the color of the background */\n",
       "#sk-container-id-7 div.sk-label:hover label.sk-toggleable__label {\n",
       "  color: var(--sklearn-color-text);\n",
       "  background-color: var(--sklearn-color-unfitted-level-2);\n",
       "}\n",
       "\n",
       "/* Label box, darken color on hover, fitted */\n",
       "#sk-container-id-7 div.sk-label.fitted:hover label.sk-toggleable__label.fitted {\n",
       "  color: var(--sklearn-color-text);\n",
       "  background-color: var(--sklearn-color-fitted-level-2);\n",
       "}\n",
       "\n",
       "/* Estimator label */\n",
       "\n",
       "#sk-container-id-7 div.sk-label label {\n",
       "  font-family: monospace;\n",
       "  font-weight: bold;\n",
       "  display: inline-block;\n",
       "  line-height: 1.2em;\n",
       "}\n",
       "\n",
       "#sk-container-id-7 div.sk-label-container {\n",
       "  text-align: center;\n",
       "}\n",
       "\n",
       "/* Estimator-specific */\n",
       "#sk-container-id-7 div.sk-estimator {\n",
       "  font-family: monospace;\n",
       "  border: 1px dotted var(--sklearn-color-border-box);\n",
       "  border-radius: 0.25em;\n",
       "  box-sizing: border-box;\n",
       "  margin-bottom: 0.5em;\n",
       "  /* unfitted */\n",
       "  background-color: var(--sklearn-color-unfitted-level-0);\n",
       "}\n",
       "\n",
       "#sk-container-id-7 div.sk-estimator.fitted {\n",
       "  /* fitted */\n",
       "  background-color: var(--sklearn-color-fitted-level-0);\n",
       "}\n",
       "\n",
       "/* on hover */\n",
       "#sk-container-id-7 div.sk-estimator:hover {\n",
       "  /* unfitted */\n",
       "  background-color: var(--sklearn-color-unfitted-level-2);\n",
       "}\n",
       "\n",
       "#sk-container-id-7 div.sk-estimator.fitted:hover {\n",
       "  /* fitted */\n",
       "  background-color: var(--sklearn-color-fitted-level-2);\n",
       "}\n",
       "\n",
       "/* Specification for estimator info (e.g. \"i\" and \"?\") */\n",
       "\n",
       "/* Common style for \"i\" and \"?\" */\n",
       "\n",
       ".sk-estimator-doc-link,\n",
       "a:link.sk-estimator-doc-link,\n",
       "a:visited.sk-estimator-doc-link {\n",
       "  float: right;\n",
       "  font-size: smaller;\n",
       "  line-height: 1em;\n",
       "  font-family: monospace;\n",
       "  background-color: var(--sklearn-color-background);\n",
       "  border-radius: 1em;\n",
       "  height: 1em;\n",
       "  width: 1em;\n",
       "  text-decoration: none !important;\n",
       "  margin-left: 1ex;\n",
       "  /* unfitted */\n",
       "  border: var(--sklearn-color-unfitted-level-1) 1pt solid;\n",
       "  color: var(--sklearn-color-unfitted-level-1);\n",
       "}\n",
       "\n",
       ".sk-estimator-doc-link.fitted,\n",
       "a:link.sk-estimator-doc-link.fitted,\n",
       "a:visited.sk-estimator-doc-link.fitted {\n",
       "  /* fitted */\n",
       "  border: var(--sklearn-color-fitted-level-1) 1pt solid;\n",
       "  color: var(--sklearn-color-fitted-level-1);\n",
       "}\n",
       "\n",
       "/* On hover */\n",
       "div.sk-estimator:hover .sk-estimator-doc-link:hover,\n",
       ".sk-estimator-doc-link:hover,\n",
       "div.sk-label-container:hover .sk-estimator-doc-link:hover,\n",
       ".sk-estimator-doc-link:hover {\n",
       "  /* unfitted */\n",
       "  background-color: var(--sklearn-color-unfitted-level-3);\n",
       "  color: var(--sklearn-color-background);\n",
       "  text-decoration: none;\n",
       "}\n",
       "\n",
       "div.sk-estimator.fitted:hover .sk-estimator-doc-link.fitted:hover,\n",
       ".sk-estimator-doc-link.fitted:hover,\n",
       "div.sk-label-container:hover .sk-estimator-doc-link.fitted:hover,\n",
       ".sk-estimator-doc-link.fitted:hover {\n",
       "  /* fitted */\n",
       "  background-color: var(--sklearn-color-fitted-level-3);\n",
       "  color: var(--sklearn-color-background);\n",
       "  text-decoration: none;\n",
       "}\n",
       "\n",
       "/* Span, style for the box shown on hovering the info icon */\n",
       ".sk-estimator-doc-link span {\n",
       "  display: none;\n",
       "  z-index: 9999;\n",
       "  position: relative;\n",
       "  font-weight: normal;\n",
       "  right: .2ex;\n",
       "  padding: .5ex;\n",
       "  margin: .5ex;\n",
       "  width: min-content;\n",
       "  min-width: 20ex;\n",
       "  max-width: 50ex;\n",
       "  color: var(--sklearn-color-text);\n",
       "  box-shadow: 2pt 2pt 4pt #999;\n",
       "  /* unfitted */\n",
       "  background: var(--sklearn-color-unfitted-level-0);\n",
       "  border: .5pt solid var(--sklearn-color-unfitted-level-3);\n",
       "}\n",
       "\n",
       ".sk-estimator-doc-link.fitted span {\n",
       "  /* fitted */\n",
       "  background: var(--sklearn-color-fitted-level-0);\n",
       "  border: var(--sklearn-color-fitted-level-3);\n",
       "}\n",
       "\n",
       ".sk-estimator-doc-link:hover span {\n",
       "  display: block;\n",
       "}\n",
       "\n",
       "/* \"?\"-specific style due to the `<a>` HTML tag */\n",
       "\n",
       "#sk-container-id-7 a.estimator_doc_link {\n",
       "  float: right;\n",
       "  font-size: 1rem;\n",
       "  line-height: 1em;\n",
       "  font-family: monospace;\n",
       "  background-color: var(--sklearn-color-background);\n",
       "  border-radius: 1rem;\n",
       "  height: 1rem;\n",
       "  width: 1rem;\n",
       "  text-decoration: none;\n",
       "  /* unfitted */\n",
       "  color: var(--sklearn-color-unfitted-level-1);\n",
       "  border: var(--sklearn-color-unfitted-level-1) 1pt solid;\n",
       "}\n",
       "\n",
       "#sk-container-id-7 a.estimator_doc_link.fitted {\n",
       "  /* fitted */\n",
       "  border: var(--sklearn-color-fitted-level-1) 1pt solid;\n",
       "  color: var(--sklearn-color-fitted-level-1);\n",
       "}\n",
       "\n",
       "/* On hover */\n",
       "#sk-container-id-7 a.estimator_doc_link:hover {\n",
       "  /* unfitted */\n",
       "  background-color: var(--sklearn-color-unfitted-level-3);\n",
       "  color: var(--sklearn-color-background);\n",
       "  text-decoration: none;\n",
       "}\n",
       "\n",
       "#sk-container-id-7 a.estimator_doc_link.fitted:hover {\n",
       "  /* fitted */\n",
       "  background-color: var(--sklearn-color-fitted-level-3);\n",
       "}\n",
       "</style><div id=\"sk-container-id-7\" class=\"sk-top-container\"><div class=\"sk-text-repr-fallback\"><pre>LogisticRegression()</pre><b>In a Jupyter environment, please rerun this cell to show the HTML representation or trust the notebook. <br />On GitHub, the HTML representation is unable to render, please try loading this page with nbviewer.org.</b></div><div class=\"sk-container\" hidden><div class=\"sk-item\"><div class=\"sk-estimator fitted sk-toggleable\"><input class=\"sk-toggleable__control sk-hidden--visually\" id=\"sk-estimator-id-7\" type=\"checkbox\" checked><label for=\"sk-estimator-id-7\" class=\"sk-toggleable__label fitted sk-toggleable__label-arrow fitted\">&nbsp;&nbsp;LogisticRegression<a class=\"sk-estimator-doc-link fitted\" rel=\"noreferrer\" target=\"_blank\" href=\"https://scikit-learn.org/1.4/modules/generated/sklearn.linear_model.LogisticRegression.html\">?<span>Documentation for LogisticRegression</span></a><span class=\"sk-estimator-doc-link fitted\">i<span>Fitted</span></span></label><div class=\"sk-toggleable__content fitted\"><pre>LogisticRegression()</pre></div> </div></div></div></div>"
      ],
      "text/plain": [
       "LogisticRegression()"
      ]
     },
     "execution_count": 509,
     "metadata": {},
     "output_type": "execute_result"
    }
   ],
   "source": [
    "model.fit(X_train, y_train)"
   ]
  },
  {
   "cell_type": "markdown",
   "metadata": {
    "id": "lFQ6ioL6DDwA"
   },
   "source": [
    "### Evaluation"
   ]
  },
  {
   "cell_type": "markdown",
   "metadata": {
    "id": "CV3voPE3DDwA"
   },
   "source": [
    "### Score"
   ]
  },
  {
   "cell_type": "code",
   "execution_count": 510,
   "metadata": {
    "id": "YYZ7MVeCDDwA",
    "outputId": "9dd65944-c78a-422e-9949-3fcfcfa9fe05"
   },
   "outputs": [
    {
     "name": "stdout",
     "output_type": "stream",
     "text": [
      "Train score:  0.8263480872176524\n"
     ]
    }
   ],
   "source": [
    "print('Train score: ', model.score(X_train,y_train))"
   ]
  },
  {
   "cell_type": "code",
   "execution_count": 511,
   "metadata": {
    "id": "7tFKf2HRDDwB",
    "outputId": "b07d6903-a21a-4e1c-b8e8-a20313627e39"
   },
   "outputs": [
    {
     "name": "stdout",
     "output_type": "stream",
     "text": [
      "Test score:  0.8240208877284595\n"
     ]
    }
   ],
   "source": [
    "print('Test score: ', model.score(X_test,y_test))"
   ]
  },
  {
   "cell_type": "code",
   "execution_count": 512,
   "metadata": {
    "id": "fDcifZRoDDwB",
    "outputId": "0fff30fd-3b46-4a20-b50d-18218d923464"
   },
   "outputs": [
    {
     "data": {
      "text/plain": [
       "array([[0.15213118, 0.84786882],\n",
       "       [0.9357403 , 0.0642597 ],\n",
       "       [0.92550458, 0.07449542],\n",
       "       [0.94362969, 0.05637031],\n",
       "       [0.91684026, 0.08315974]])"
      ]
     },
     "execution_count": 512,
     "metadata": {},
     "output_type": "execute_result"
    }
   ],
   "source": [
    "# Tính toán xác suất của lớp cho tập dữ liệu thử nghiệm\n",
    "# Bằng cách sử dụng hàm 'predict_proba'\n",
    "yhat_test_proba = model.predict_proba(X_test)\n",
    "yhat_test_proba[:5]"
   ]
  },
  {
   "cell_type": "code",
   "execution_count": 513,
   "metadata": {
    "id": "Z51lpbKqDDwB",
    "outputId": "d057a786-67ed-4e4a-804c-bbc5a514c14c"
   },
   "outputs": [
    {
     "data": {
      "text/plain": [
       "array([1, 0, 0, 0, 0], dtype=int64)"
      ]
     },
     "execution_count": 513,
     "metadata": {},
     "output_type": "execute_result"
    }
   ],
   "source": [
    "yhat_test = model.predict(X_test)\n",
    "yhat_test[:5]"
   ]
  },
  {
   "cell_type": "markdown",
   "metadata": {},
   "source": [
    "### Giá trị của các tham số trong mô hình Logistic Regression"
   ]
  },
  {
   "cell_type": "code",
   "execution_count": 514,
   "metadata": {
    "id": "KmmQ_Fs0DDwB",
    "outputId": "14d2fe4a-af19-4c57-f2cb-0d48f6c4eb2a"
   },
   "outputs": [
    {
     "data": {
      "text/plain": [
       "Index(['CreditScore', 'Age', 'Tenure', 'Balance', 'NumOfProducts',\n",
       "       'IsActiveMember', 'EstimatedSalary', 'Country_France',\n",
       "       'Country_Germany', 'Country_Spain', 'Gender_Female', 'Gender_Male'],\n",
       "      dtype='object')"
      ]
     },
     "execution_count": 514,
     "metadata": {},
     "output_type": "execute_result"
    }
   ],
   "source": [
    "X.columns"
   ]
  },
  {
   "cell_type": "code",
   "execution_count": 515,
   "metadata": {
    "id": "SIqo_JkyDDwB",
    "outputId": "08a35f63-1bf3-4bed-b829-40b86d03dcdc"
   },
   "outputs": [
    {
     "data": {
      "text/plain": [
       "array([-0.50500057])"
      ]
     },
     "execution_count": 515,
     "metadata": {},
     "output_type": "execute_result"
    }
   ],
   "source": [
    "# Hệ số chặn\n",
    "model.intercept_"
   ]
  },
  {
   "cell_type": "code",
   "execution_count": 516,
   "metadata": {
    "id": "AFDD5wuHDDwC",
    "outputId": "d01fc048-cf8b-4b43-f2ce-fd7958ba73e2"
   },
   "outputs": [
    {
     "data": {
      "text/plain": [
       "array([[-0.01172506,  0.98946412, -0.01402579,  0.11224239, -0.14205089,\n",
       "        -0.90982238,  0.02054606, -0.39397911,  0.36239775, -0.46358425,\n",
       "         0.02507233, -0.52023794]])"
      ]
     },
     "execution_count": 516,
     "metadata": {},
     "output_type": "execute_result"
    }
   ],
   "source": [
    "# Hệ số hồi quy\n",
    "model.coef_"
   ]
  },
  {
   "cell_type": "code",
   "execution_count": 517,
   "metadata": {
    "id": "NxkTwpjvDDwC",
    "outputId": "04897536-a6a9-4d57-960d-9d2a583b8204"
   },
   "outputs": [
    {
     "data": {
      "text/plain": [
       "\"\\n    Công thức được hiểu là:\\n    P('Churned') = 1/(1+e^-logit)\\n\\n    logit = B0 + B1.X1 + B2.X2 + ... Bn.X\\n\\n    trong đó: B0 hệ số chặn (intercept) trong đó ẞ0 là điểm chặn của mô hình và\\n    các tham số beta khác là các hệ số mô hình ở trên\\n\\n    Công thức của mô hình thuật toán LogisticRegression dành cho bộ dữ liệu này là:\\n\\n    logit = 9.08542912 + -0.02366892*CreditScore + 1.07210714*Age + -0.02824994*Tenure + 0.09348367*Balance + -0.50669729*NumOfProducts\\n       + -1.31422981*IsActiveMember + 0.01645804*EstimatedSalary + -4.32280986*Country_France\\n       + -3.44014348*Country_Germany + -4.46983426*Country_Spain + -3.77025796*Gender_Female + -4.39078977*Gender_Male\\n    \""
      ]
     },
     "execution_count": 517,
     "metadata": {},
     "output_type": "execute_result"
    }
   ],
   "source": [
    "\"\"\"\n",
    "    Công thức được hiểu là:\n",
    "    P('Churned') = 1/(1+e^-logit)\n",
    "\n",
    "    logit = B0 + B1.X1 + B2.X2 + ... Bn.X\n",
    "\n",
    "    trong đó: B0 hệ số chặn (intercept) trong đó ẞ0 là điểm chặn của mô hình và\n",
    "    các tham số beta khác là các hệ số mô hình ở trên\n",
    "\n",
    "    Công thức của mô hình thuật toán LogisticRegression dành cho bộ dữ liệu này là:\n",
    "\n",
    "    logit = 9.08542912 + -0.02366892*CreditScore + 1.07210714*Age + -0.02824994*Tenure + 0.09348367*Balance + -0.50669729*NumOfProducts\n",
    "       + -1.31422981*IsActiveMember + 0.01645804*EstimatedSalary + -4.32280986*Country_France\n",
    "       + -3.44014348*Country_Germany + -4.46983426*Country_Spain + -3.77025796*Gender_Female + -4.39078977*Gender_Male\n",
    "    \"\"\"\n"
   ]
  },
  {
   "cell_type": "markdown",
   "metadata": {},
   "source": [
    "### Predict New Data"
   ]
  },
  {
   "cell_type": "code",
   "execution_count": 518,
   "metadata": {
    "id": "fRIulamDDDwC"
   },
   "outputs": [],
   "source": [
    "'Dự đoán khách hàng có rời bỏ hay không dựa vào các thuộc tính:'\n",
    "CreditScore = -1.132117\n",
    "Age\t= -0.306934\n",
    "Tenure = 9\n",
    "Balance\t= 0.817186\n",
    "NumOfProducts = 2\n",
    "IsActiveMember = 0\n",
    "EstimatedSalary\t= -1.733206\n",
    "Country_France\t= 0\n",
    "Country_Germany\t= 1\n",
    "Country_Spain =\t0\n",
    "Gender_Female =1\n",
    "Gender_Male = 0"
   ]
  },
  {
   "cell_type": "code",
   "execution_count": 519,
   "metadata": {
    "id": "XhdGSqGpDDwC",
    "outputId": "c514c22b-7f2c-4d1d-b838-7b8a83caa44e"
   },
   "outputs": [
    {
     "name": "stdout",
     "output_type": "stream",
     "text": [
      "Xác suất rời bỏ:  17.85186120650828 % , Churned: No\n"
     ]
    }
   ],
   "source": [
    "import math\n",
    "logit = -0.93828579 + 0.01526452*CreditScore + 0.97797049*Age -0.01293542*Tenure + 0.12773042*Balance -0.12931887*NumOfProducts\n",
    "-0.88600403*IsActiveMember + 0.02419594*EstimatedSalary - 0.2183004*Country_France + 0.47354836*Country_Germany -0.25529053*Country_Spain\n",
    "+0.26851467*Gender_Female -0.26855724*Gender_Male\n",
    "\n",
    "P_churned = 1/(1 + math.exp(-logit))\n",
    "if P_churned >= 0.5:\n",
    "    print('Xác suất rời bỏ: ',P_churned*100 ,'%' ,', Churned: Yes')\n",
    "else:\n",
    "    print('Xác suất rời bỏ: ',P_churned*100 ,'%' ,', Churned: No')"
   ]
  },
  {
   "cell_type": "markdown",
   "metadata": {
    "id": "SmtO7GnxDDwC"
   },
   "source": [
    "### Accuracy Score"
   ]
  },
  {
   "cell_type": "code",
   "execution_count": 520,
   "metadata": {
    "id": "J5tkohZ3DDwD"
   },
   "outputs": [],
   "source": [
    "from sklearn.metrics import accuracy_score, precision_score, recall_score"
   ]
  },
  {
   "cell_type": "code",
   "execution_count": 521,
   "metadata": {
    "id": "VDIGPIerDDwD",
    "outputId": "b3f2135b-f150-49ba-f629-a836e44d5005"
   },
   "outputs": [
    {
     "name": "stdout",
     "output_type": "stream",
     "text": [
      "Test Accuracy is  82.40208877284594 %\n"
     ]
    }
   ],
   "source": [
    "print(\"Test Accuracy is \", accuracy_score(y_test,yhat_test)*100,\"%\")"
   ]
  },
  {
   "cell_type": "markdown",
   "metadata": {
    "id": "CWd4RVprDDwD"
   },
   "source": [
    "### Confusion Matrix"
   ]
  },
  {
   "cell_type": "code",
   "execution_count": 522,
   "metadata": {
    "id": "wW6_QYAADDwD"
   },
   "outputs": [],
   "source": [
    "from sklearn.metrics import confusion_matrix"
   ]
  },
  {
   "cell_type": "code",
   "execution_count": 523,
   "metadata": {
    "id": "KKhE23eIDDwD"
   },
   "outputs": [],
   "source": [
    "cm = confusion_matrix(y_true = y_test, y_pred = yhat_test)"
   ]
  },
  {
   "cell_type": "code",
   "execution_count": 524,
   "metadata": {
    "id": "Pt2upKaMDDwD",
    "outputId": "22a8a5b7-5a4b-4a92-b2f1-119ff9157930"
   },
   "outputs": [
    {
     "name": "stdout",
     "output_type": "stream",
     "text": [
      "Confusion Matrix\n",
      " [[1479   65]\n",
      " [ 272   99]]\n"
     ]
    }
   ],
   "source": [
    "print('Confusion Matrix\\n', cm)"
   ]
  },
  {
   "cell_type": "code",
   "execution_count": 525,
   "metadata": {},
   "outputs": [
    {
     "data": {
      "image/png": "[encoded data removed]",
      "text/plain": [
       "<Figure size 800x600 with 2 Axes>"
      ]
     },
     "metadata": {},
     "output_type": "display_data"
    }
   ],
   "source": [
    "# Trực quan hóa confusion matrix\n",
    "plt.figure(figsize=(8, 6))\n",
    "sns.heatmap(cm, annot=True, cmap='Blues', fmt='g')\n",
    "plt.xlabel('Predicted')\n",
    "plt.ylabel('Actual')\n",
    "plt.title('Confusion Matrix for Logistic Regression Model')\n",
    "plt.show()"
   ]
  },
  {
   "cell_type": "markdown",
   "metadata": {},
   "source": [
    "- Sai lầm loại I có số lượng các dự đoán sai lệch có tỉ lệ là: 4.2%. Thực tế có 1544 khách hàng khỏng rời bỏ nhưng trong đó dự đoán lệch có 65 khách hàng vào tình trạng rời bỏ. \n",
    "- Sai lầm loại II, mô hình dự đoán 272 khách hàng không thuộc tình trạng rời bỏ nhưng thực tế khách hàng đã rời bỏ. Sai lầm loại II với tỉ lệ: 73%.\n"
   ]
  },
  {
   "cell_type": "markdown",
   "metadata": {
    "id": "XUBD2UmZDDwE"
   },
   "source": [
    "### Classification Report"
   ]
  },
  {
   "cell_type": "code",
   "execution_count": 526,
   "metadata": {
    "id": "8Vtex9__DDwE"
   },
   "outputs": [],
   "source": [
    "from sklearn.metrics import classification_report"
   ]
  },
  {
   "cell_type": "code",
   "execution_count": 527,
   "metadata": {
    "id": "jsCJwwEBDDwE",
    "outputId": "4d9c535c-ab10-4742-909b-4c65526df218"
   },
   "outputs": [
    {
     "name": "stdout",
     "output_type": "stream",
     "text": [
      "              precision    recall  f1-score   support\n",
      "\n",
      "           0       0.84      0.96      0.90      1544\n",
      "           1       0.60      0.27      0.37       371\n",
      "\n",
      "    accuracy                           0.82      1915\n",
      "   macro avg       0.72      0.61      0.63      1915\n",
      "weighted avg       0.80      0.82      0.80      1915\n",
      "\n"
     ]
    }
   ],
   "source": [
    "print(classification_report(y_true = y_test, y_pred = yhat_test))"
   ]
  },
  {
   "cell_type": "markdown",
   "metadata": {
    "id": "f-ymWf4LDDwF"
   },
   "source": [
    "- Recall ở lớp 1 quá thấp, liệu có cách nào để tăng % recall lên cao"
   ]
  },
  {
   "cell_type": "markdown",
   "metadata": {
    "id": "GZSRPckZDDwF"
   },
   "source": [
    "### 6.2 Resampling Data"
   ]
  },
  {
   "cell_type": "code",
   "execution_count": 528,
   "metadata": {
    "id": "dYjh5wreDDwF"
   },
   "outputs": [],
   "source": [
    "# Import thư viện imblearn để khởi tạo SMOTE (Synthetic Minority Over-sampling Technique)\n",
    "from imblearn.over_sampling import SMOTE"
   ]
  },
  {
   "cell_type": "code",
   "execution_count": 529,
   "metadata": {
    "id": "LTdvAptXDDwF"
   },
   "outputs": [],
   "source": [
    "# Khởi tạo\n",
    "sm = SMOTE()"
   ]
  },
  {
   "cell_type": "code",
   "execution_count": 530,
   "metadata": {
    "id": "1fvp-PAMDDwF"
   },
   "outputs": [],
   "source": [
    "X_resample, y_resample = sm.fit_resample(X_train, y_train)"
   ]
  },
  {
   "cell_type": "code",
   "execution_count": 531,
   "metadata": {
    "id": "ZpRcHJQLDDwF"
   },
   "outputs": [],
   "source": [
    "model_rs = LogisticRegression()"
   ]
  },
  {
   "cell_type": "code",
   "execution_count": 532,
   "metadata": {
    "id": "YXb_7hq_DDwG",
    "outputId": "155169ba-31e4-4f0c-a58c-e1b46bb78793"
   },
   "outputs": [
    {
     "data": {
      "text/html": [
       "<style>#sk-container-id-8 {\n",
       "  /* Definition of color scheme common for light and dark mode */\n",
       "  --sklearn-color-text: black;\n",
       "  --sklearn-color-line: gray;\n",
       "  /* Definition of color scheme for unfitted estimators */\n",
       "  --sklearn-color-unfitted-level-0: #fff5e6;\n",
       "  --sklearn-color-unfitted-level-1: #f6e4d2;\n",
       "  --sklearn-color-unfitted-level-2: #ffe0b3;\n",
       "  --sklearn-color-unfitted-level-3: chocolate;\n",
       "  /* Definition of color scheme for fitted estimators */\n",
       "  --sklearn-color-fitted-level-0: #f0f8ff;\n",
       "  --sklearn-color-fitted-level-1: #d4ebff;\n",
       "  --sklearn-color-fitted-level-2: #b3dbfd;\n",
       "  --sklearn-color-fitted-level-3: cornflowerblue;\n",
       "\n",
       "  /* Specific color for light theme */\n",
       "  --sklearn-color-text-on-default-background: var(--sg-text-color, var(--theme-code-foreground, var(--jp-content-font-color1, black)));\n",
       "  --sklearn-color-background: var(--sg-background-color, var(--theme-background, var(--jp-layout-color0, white)));\n",
       "  --sklearn-color-border-box: var(--sg-text-color, var(--theme-code-foreground, var(--jp-content-font-color1, black)));\n",
       "  --sklearn-color-icon: #696969;\n",
       "\n",
       "  @media (prefers-color-scheme: dark) {\n",
       "    /* Redefinition of color scheme for dark theme */\n",
       "    --sklearn-color-text-on-default-background: var(--sg-text-color, var(--theme-code-foreground, var(--jp-content-font-color1, white)));\n",
       "    --sklearn-color-background: var(--sg-background-color, var(--theme-background, var(--jp-layout-color0, #111)));\n",
       "    --sklearn-color-border-box: var(--sg-text-color, var(--theme-code-foreground, var(--jp-content-font-color1, white)));\n",
       "    --sklearn-color-icon: #878787;\n",
       "  }\n",
       "}\n",
       "\n",
       "#sk-container-id-8 {\n",
       "  color: var(--sklearn-color-text);\n",
       "}\n",
       "\n",
       "#sk-container-id-8 pre {\n",
       "  padding: 0;\n",
       "}\n",
       "\n",
       "#sk-container-id-8 input.sk-hidden--visually {\n",
       "  border: 0;\n",
       "  clip: rect(1px 1px 1px 1px);\n",
       "  clip: rect(1px, 1px, 1px, 1px);\n",
       "  height: 1px;\n",
       "  margin: -1px;\n",
       "  overflow: hidden;\n",
       "  padding: 0;\n",
       "  position: absolute;\n",
       "  width: 1px;\n",
       "}\n",
       "\n",
       "#sk-container-id-8 div.sk-dashed-wrapped {\n",
       "  border: 1px dashed var(--sklearn-color-line);\n",
       "  margin: 0 0.4em 0.5em 0.4em;\n",
       "  box-sizing: border-box;\n",
       "  padding-bottom: 0.4em;\n",
       "  background-color: var(--sklearn-color-background);\n",
       "}\n",
       "\n",
       "#sk-container-id-8 div.sk-container {\n",
       "  /* jupyter's `normalize.less` sets `[hidden] { display: none; }`\n",
       "     but bootstrap.min.css set `[hidden] { display: none !important; }`\n",
       "     so we also need the `!important` here to be able to override the\n",
       "     default hidden behavior on the sphinx rendered scikit-learn.org.\n",
       "     See: https://github.com/scikit-learn/scikit-learn/issues/21755 */\n",
       "  display: inline-block !important;\n",
       "  position: relative;\n",
       "}\n",
       "\n",
       "#sk-container-id-8 div.sk-text-repr-fallback {\n",
       "  display: none;\n",
       "}\n",
       "\n",
       "div.sk-parallel-item,\n",
       "div.sk-serial,\n",
       "div.sk-item {\n",
       "  /* draw centered vertical line to link estimators */\n",
       "  background-image: linear-gradient(var(--sklearn-color-text-on-default-background), var(--sklearn-color-text-on-default-background));\n",
       "  background-size: 2px 100%;\n",
       "  background-repeat: no-repeat;\n",
       "  background-position: center center;\n",
       "}\n",
       "\n",
       "/* Parallel-specific style estimator block */\n",
       "\n",
       "#sk-container-id-8 div.sk-parallel-item::after {\n",
       "  content: \"\";\n",
       "  width: 100%;\n",
       "  border-bottom: 2px solid var(--sklearn-color-text-on-default-background);\n",
       "  flex-grow: 1;\n",
       "}\n",
       "\n",
       "#sk-container-id-8 div.sk-parallel {\n",
       "  display: flex;\n",
       "  align-items: stretch;\n",
       "  justify-content: center;\n",
       "  background-color: var(--sklearn-color-background);\n",
       "  position: relative;\n",
       "}\n",
       "\n",
       "#sk-container-id-8 div.sk-parallel-item {\n",
       "  display: flex;\n",
       "  flex-direction: column;\n",
       "}\n",
       "\n",
       "#sk-container-id-8 div.sk-parallel-item:first-child::after {\n",
       "  align-self: flex-end;\n",
       "  width: 50%;\n",
       "}\n",
       "\n",
       "#sk-container-id-8 div.sk-parallel-item:last-child::after {\n",
       "  align-self: flex-start;\n",
       "  width: 50%;\n",
       "}\n",
       "\n",
       "#sk-container-id-8 div.sk-parallel-item:only-child::after {\n",
       "  width: 0;\n",
       "}\n",
       "\n",
       "/* Serial-specific style estimator block */\n",
       "\n",
       "#sk-container-id-8 div.sk-serial {\n",
       "  display: flex;\n",
       "  flex-direction: column;\n",
       "  align-items: center;\n",
       "  background-color: var(--sklearn-color-background);\n",
       "  padding-right: 1em;\n",
       "  padding-left: 1em;\n",
       "}\n",
       "\n",
       "\n",
       "/* Toggleable style: style used for estimator/Pipeline/ColumnTransformer box that is\n",
       "clickable and can be expanded/collapsed.\n",
       "- Pipeline and ColumnTransformer use this feature and define the default style\n",
       "- Estimators will overwrite some part of the style using the `sk-estimator` class\n",
       "*/\n",
       "\n",
       "/* Pipeline and ColumnTransformer style (default) */\n",
       "\n",
       "#sk-container-id-8 div.sk-toggleable {\n",
       "  /* Default theme specific background. It is overwritten whether we have a\n",
       "  specific estimator or a Pipeline/ColumnTransformer */\n",
       "  background-color: var(--sklearn-color-background);\n",
       "}\n",
       "\n",
       "/* Toggleable label */\n",
       "#sk-container-id-8 label.sk-toggleable__label {\n",
       "  cursor: pointer;\n",
       "  display: block;\n",
       "  width: 100%;\n",
       "  margin-bottom: 0;\n",
       "  padding: 0.5em;\n",
       "  box-sizing: border-box;\n",
       "  text-align: center;\n",
       "}\n",
       "\n",
       "#sk-container-id-8 label.sk-toggleable__label-arrow:before {\n",
       "  /* Arrow on the left of the label */\n",
       "  content: \"▸\";\n",
       "  float: left;\n",
       "  margin-right: 0.25em;\n",
       "  color: var(--sklearn-color-icon);\n",
       "}\n",
       "\n",
       "#sk-container-id-8 label.sk-toggleable__label-arrow:hover:before {\n",
       "  color: var(--sklearn-color-text);\n",
       "}\n",
       "\n",
       "/* Toggleable content - dropdown */\n",
       "\n",
       "#sk-container-id-8 div.sk-toggleable__content {\n",
       "  max-height: 0;\n",
       "  max-width: 0;\n",
       "  overflow: hidden;\n",
       "  text-align: left;\n",
       "  /* unfitted */\n",
       "  background-color: var(--sklearn-color-unfitted-level-0);\n",
       "}\n",
       "\n",
       "#sk-container-id-8 div.sk-toggleable__content.fitted {\n",
       "  /* fitted */\n",
       "  background-color: var(--sklearn-color-fitted-level-0);\n",
       "}\n",
       "\n",
       "#sk-container-id-8 div.sk-toggleable__content pre {\n",
       "  margin: 0.2em;\n",
       "  border-radius: 0.25em;\n",
       "  color: var(--sklearn-color-text);\n",
       "  /* unfitted */\n",
       "  background-color: var(--sklearn-color-unfitted-level-0);\n",
       "}\n",
       "\n",
       "#sk-container-id-8 div.sk-toggleable__content.fitted pre {\n",
       "  /* unfitted */\n",
       "  background-color: var(--sklearn-color-fitted-level-0);\n",
       "}\n",
       "\n",
       "#sk-container-id-8 input.sk-toggleable__control:checked~div.sk-toggleable__content {\n",
       "  /* Expand drop-down */\n",
       "  max-height: 200px;\n",
       "  max-width: 100%;\n",
       "  overflow: auto;\n",
       "}\n",
       "\n",
       "#sk-container-id-8 input.sk-toggleable__control:checked~label.sk-toggleable__label-arrow:before {\n",
       "  content: \"▾\";\n",
       "}\n",
       "\n",
       "/* Pipeline/ColumnTransformer-specific style */\n",
       "\n",
       "#sk-container-id-8 div.sk-label input.sk-toggleable__control:checked~label.sk-toggleable__label {\n",
       "  color: var(--sklearn-color-text);\n",
       "  background-color: var(--sklearn-color-unfitted-level-2);\n",
       "}\n",
       "\n",
       "#sk-container-id-8 div.sk-label.fitted input.sk-toggleable__control:checked~label.sk-toggleable__label {\n",
       "  background-color: var(--sklearn-color-fitted-level-2);\n",
       "}\n",
       "\n",
       "/* Estimator-specific style */\n",
       "\n",
       "/* Colorize estimator box */\n",
       "#sk-container-id-8 div.sk-estimator input.sk-toggleable__control:checked~label.sk-toggleable__label {\n",
       "  /* unfitted */\n",
       "  background-color: var(--sklearn-color-unfitted-level-2);\n",
       "}\n",
       "\n",
       "#sk-container-id-8 div.sk-estimator.fitted input.sk-toggleable__control:checked~label.sk-toggleable__label {\n",
       "  /* fitted */\n",
       "  background-color: var(--sklearn-color-fitted-level-2);\n",
       "}\n",
       "\n",
       "#sk-container-id-8 div.sk-label label.sk-toggleable__label,\n",
       "#sk-container-id-8 div.sk-label label {\n",
       "  /* The background is the default theme color */\n",
       "  color: var(--sklearn-color-text-on-default-background);\n",
       "}\n",
       "\n",
       "/* On hover, darken the color of the background */\n",
       "#sk-container-id-8 div.sk-label:hover label.sk-toggleable__label {\n",
       "  color: var(--sklearn-color-text);\n",
       "  background-color: var(--sklearn-color-unfitted-level-2);\n",
       "}\n",
       "\n",
       "/* Label box, darken color on hover, fitted */\n",
       "#sk-container-id-8 div.sk-label.fitted:hover label.sk-toggleable__label.fitted {\n",
       "  color: var(--sklearn-color-text);\n",
       "  background-color: var(--sklearn-color-fitted-level-2);\n",
       "}\n",
       "\n",
       "/* Estimator label */\n",
       "\n",
       "#sk-container-id-8 div.sk-label label {\n",
       "  font-family: monospace;\n",
       "  font-weight: bold;\n",
       "  display: inline-block;\n",
       "  line-height: 1.2em;\n",
       "}\n",
       "\n",
       "#sk-container-id-8 div.sk-label-container {\n",
       "  text-align: center;\n",
       "}\n",
       "\n",
       "/* Estimator-specific */\n",
       "#sk-container-id-8 div.sk-estimator {\n",
       "  font-family: monospace;\n",
       "  border: 1px dotted var(--sklearn-color-border-box);\n",
       "  border-radius: 0.25em;\n",
       "  box-sizing: border-box;\n",
       "  margin-bottom: 0.5em;\n",
       "  /* unfitted */\n",
       "  background-color: var(--sklearn-color-unfitted-level-0);\n",
       "}\n",
       "\n",
       "#sk-container-id-8 div.sk-estimator.fitted {\n",
       "  /* fitted */\n",
       "  background-color: var(--sklearn-color-fitted-level-0);\n",
       "}\n",
       "\n",
       "/* on hover */\n",
       "#sk-container-id-8 div.sk-estimator:hover {\n",
       "  /* unfitted */\n",
       "  background-color: var(--sklearn-color-unfitted-level-2);\n",
       "}\n",
       "\n",
       "#sk-container-id-8 div.sk-estimator.fitted:hover {\n",
       "  /* fitted */\n",
       "  background-color: var(--sklearn-color-fitted-level-2);\n",
       "}\n",
       "\n",
       "/* Specification for estimator info (e.g. \"i\" and \"?\") */\n",
       "\n",
       "/* Common style for \"i\" and \"?\" */\n",
       "\n",
       ".sk-estimator-doc-link,\n",
       "a:link.sk-estimator-doc-link,\n",
       "a:visited.sk-estimator-doc-link {\n",
       "  float: right;\n",
       "  font-size: smaller;\n",
       "  line-height: 1em;\n",
       "  font-family: monospace;\n",
       "  background-color: var(--sklearn-color-background);\n",
       "  border-radius: 1em;\n",
       "  height: 1em;\n",
       "  width: 1em;\n",
       "  text-decoration: none !important;\n",
       "  margin-left: 1ex;\n",
       "  /* unfitted */\n",
       "  border: var(--sklearn-color-unfitted-level-1) 1pt solid;\n",
       "  color: var(--sklearn-color-unfitted-level-1);\n",
       "}\n",
       "\n",
       ".sk-estimator-doc-link.fitted,\n",
       "a:link.sk-estimator-doc-link.fitted,\n",
       "a:visited.sk-estimator-doc-link.fitted {\n",
       "  /* fitted */\n",
       "  border: var(--sklearn-color-fitted-level-1) 1pt solid;\n",
       "  color: var(--sklearn-color-fitted-level-1);\n",
       "}\n",
       "\n",
       "/* On hover */\n",
       "div.sk-estimator:hover .sk-estimator-doc-link:hover,\n",
       ".sk-estimator-doc-link:hover,\n",
       "div.sk-label-container:hover .sk-estimator-doc-link:hover,\n",
       ".sk-estimator-doc-link:hover {\n",
       "  /* unfitted */\n",
       "  background-color: var(--sklearn-color-unfitted-level-3);\n",
       "  color: var(--sklearn-color-background);\n",
       "  text-decoration: none;\n",
       "}\n",
       "\n",
       "div.sk-estimator.fitted:hover .sk-estimator-doc-link.fitted:hover,\n",
       ".sk-estimator-doc-link.fitted:hover,\n",
       "div.sk-label-container:hover .sk-estimator-doc-link.fitted:hover,\n",
       ".sk-estimator-doc-link.fitted:hover {\n",
       "  /* fitted */\n",
       "  background-color: var(--sklearn-color-fitted-level-3);\n",
       "  color: var(--sklearn-color-background);\n",
       "  text-decoration: none;\n",
       "}\n",
       "\n",
       "/* Span, style for the box shown on hovering the info icon */\n",
       ".sk-estimator-doc-link span {\n",
       "  display: none;\n",
       "  z-index: 9999;\n",
       "  position: relative;\n",
       "  font-weight: normal;\n",
       "  right: .2ex;\n",
       "  padding: .5ex;\n",
       "  margin: .5ex;\n",
       "  width: min-content;\n",
       "  min-width: 20ex;\n",
       "  max-width: 50ex;\n",
       "  color: var(--sklearn-color-text);\n",
       "  box-shadow: 2pt 2pt 4pt #999;\n",
       "  /* unfitted */\n",
       "  background: var(--sklearn-color-unfitted-level-0);\n",
       "  border: .5pt solid var(--sklearn-color-unfitted-level-3);\n",
       "}\n",
       "\n",
       ".sk-estimator-doc-link.fitted span {\n",
       "  /* fitted */\n",
       "  background: var(--sklearn-color-fitted-level-0);\n",
       "  border: var(--sklearn-color-fitted-level-3);\n",
       "}\n",
       "\n",
       ".sk-estimator-doc-link:hover span {\n",
       "  display: block;\n",
       "}\n",
       "\n",
       "/* \"?\"-specific style due to the `<a>` HTML tag */\n",
       "\n",
       "#sk-container-id-8 a.estimator_doc_link {\n",
       "  float: right;\n",
       "  font-size: 1rem;\n",
       "  line-height: 1em;\n",
       "  font-family: monospace;\n",
       "  background-color: var(--sklearn-color-background);\n",
       "  border-radius: 1rem;\n",
       "  height: 1rem;\n",
       "  width: 1rem;\n",
       "  text-decoration: none;\n",
       "  /* unfitted */\n",
       "  color: var(--sklearn-color-unfitted-level-1);\n",
       "  border: var(--sklearn-color-unfitted-level-1) 1pt solid;\n",
       "}\n",
       "\n",
       "#sk-container-id-8 a.estimator_doc_link.fitted {\n",
       "  /* fitted */\n",
       "  border: var(--sklearn-color-fitted-level-1) 1pt solid;\n",
       "  color: var(--sklearn-color-fitted-level-1);\n",
       "}\n",
       "\n",
       "/* On hover */\n",
       "#sk-container-id-8 a.estimator_doc_link:hover {\n",
       "  /* unfitted */\n",
       "  background-color: var(--sklearn-color-unfitted-level-3);\n",
       "  color: var(--sklearn-color-background);\n",
       "  text-decoration: none;\n",
       "}\n",
       "\n",
       "#sk-container-id-8 a.estimator_doc_link.fitted:hover {\n",
       "  /* fitted */\n",
       "  background-color: var(--sklearn-color-fitted-level-3);\n",
       "}\n",
       "</style><div id=\"sk-container-id-8\" class=\"sk-top-container\"><div class=\"sk-text-repr-fallback\"><pre>LogisticRegression()</pre><b>In a Jupyter environment, please rerun this cell to show the HTML representation or trust the notebook. <br />On GitHub, the HTML representation is unable to render, please try loading this page with nbviewer.org.</b></div><div class=\"sk-container\" hidden><div class=\"sk-item\"><div class=\"sk-estimator fitted sk-toggleable\"><input class=\"sk-toggleable__control sk-hidden--visually\" id=\"sk-estimator-id-8\" type=\"checkbox\" checked><label for=\"sk-estimator-id-8\" class=\"sk-toggleable__label fitted sk-toggleable__label-arrow fitted\">&nbsp;&nbsp;LogisticRegression<a class=\"sk-estimator-doc-link fitted\" rel=\"noreferrer\" target=\"_blank\" href=\"https://scikit-learn.org/1.4/modules/generated/sklearn.linear_model.LogisticRegression.html\">?<span>Documentation for LogisticRegression</span></a><span class=\"sk-estimator-doc-link fitted\">i<span>Fitted</span></span></label><div class=\"sk-toggleable__content fitted\"><pre>LogisticRegression()</pre></div> </div></div></div></div>"
      ],
      "text/plain": [
       "LogisticRegression()"
      ]
     },
     "execution_count": 532,
     "metadata": {},
     "output_type": "execute_result"
    }
   ],
   "source": [
    "model_rs.fit(X_resample, y_resample)"
   ]
  },
  {
   "cell_type": "markdown",
   "metadata": {
    "id": "kq88N5EEDDwG"
   },
   "source": [
    "### Evaluation"
   ]
  },
  {
   "cell_type": "markdown",
   "metadata": {
    "id": "qnPpFjZBDDwG"
   },
   "source": [
    "### Score"
   ]
  },
  {
   "cell_type": "code",
   "execution_count": 533,
   "metadata": {
    "id": "hxQDFZgWDDwG",
    "outputId": "d82d448f-7092-4f48-8597-5168735bcbae"
   },
   "outputs": [
    {
     "data": {
      "text/plain": [
       "0.7752007867562695"
      ]
     },
     "execution_count": 533,
     "metadata": {},
     "output_type": "execute_result"
    }
   ],
   "source": [
    "# Đánh giá model tập train của bộ dữ liệu sau khi Resampling Data\n",
    "model_rs.score(X_resample, y_resample)"
   ]
  },
  {
   "cell_type": "code",
   "execution_count": 534,
   "metadata": {
    "id": "qQeq2yz7DDwH",
    "outputId": "c41c9d18-4665-4965-8754-2029cbb8d28e"
   },
   "outputs": [
    {
     "data": {
      "text/plain": [
       "0.7472584856396867"
      ]
     },
     "execution_count": 534,
     "metadata": {},
     "output_type": "execute_result"
    }
   ],
   "source": [
    "# Đánh giá bộ dữ liệu tập test\n",
    "model_rs.score(X_test, y_test)"
   ]
  },
  {
   "cell_type": "code",
   "execution_count": 535,
   "metadata": {
    "id": "ewMdECJlDDwH"
   },
   "outputs": [],
   "source": [
    "yhat_test_rs = model_rs.predict(X_test)"
   ]
  },
  {
   "cell_type": "markdown",
   "metadata": {
    "id": "k9ouJiCrDDwH"
   },
   "source": [
    "### Confusion Matrix"
   ]
  },
  {
   "cell_type": "code",
   "execution_count": 536,
   "metadata": {
    "id": "MnjjlGBwDDwH"
   },
   "outputs": [],
   "source": [
    "cm_rs = confusion_matrix(y_true = y_test, y_pred = yhat_test_rs)"
   ]
  },
  {
   "cell_type": "code",
   "execution_count": 537,
   "metadata": {
    "id": "13_c2lSMDDwH",
    "outputId": "1ceda41d-b54b-4208-ce68-a207f8170dae"
   },
   "outputs": [
    {
     "name": "stdout",
     "output_type": "stream",
     "text": [
      "Confusion matrix:\n",
      " [[1204  340]\n",
      " [ 144  227]]\n"
     ]
    }
   ],
   "source": [
    "print('Confusion matrix:\\n', cm_rs)"
   ]
  },
  {
   "cell_type": "code",
   "execution_count": 538,
   "metadata": {},
   "outputs": [
    {
     "data": {
      "image/png": "[encoded data removed]",
      "text/plain": [
       "<Figure size 800x600 with 2 Axes>"
      ]
     },
     "metadata": {},
     "output_type": "display_data"
    }
   ],
   "source": [
    "# Trực quan hóa confusion matrix\n",
    "plt.figure(figsize=(8, 6))\n",
    "sns.heatmap(cm_rs, annot=True, cmap='Blues', fmt='g')\n",
    "plt.xlabel('Predicted')\n",
    "plt.ylabel('Actual')\n",
    "plt.title('Confusion Matrix for Logistic Regression Model')\n",
    "plt.show()"
   ]
  },
  {
   "cell_type": "markdown",
   "metadata": {
    "id": "QfiJBwseDDwI"
   },
   "source": [
    "### Classification Report"
   ]
  },
  {
   "cell_type": "code",
   "execution_count": 539,
   "metadata": {
    "id": "DtlmQNPVDDwI",
    "outputId": "6db636f2-41f9-4b6f-b85f-8f54b205f297"
   },
   "outputs": [
    {
     "name": "stdout",
     "output_type": "stream",
     "text": [
      "              precision    recall  f1-score   support\n",
      "\n",
      "           0       0.89      0.78      0.83      1544\n",
      "           1       0.40      0.61      0.48       371\n",
      "\n",
      "    accuracy                           0.75      1915\n",
      "   macro avg       0.65      0.70      0.66      1915\n",
      "weighted avg       0.80      0.75      0.77      1915\n",
      "\n"
     ]
    }
   ],
   "source": [
    "print(classification_report(y_true = y_test, y_pred = yhat_test_rs))"
   ]
  },
  {
   "cell_type": "markdown",
   "metadata": {
    "id": "0kwskutlDDwI"
   },
   "source": [
    "### ROC Score and AUC Score"
   ]
  },
  {
   "cell_type": "code",
   "execution_count": 540,
   "metadata": {
    "id": "6bkx6xgbDDwI"
   },
   "outputs": [],
   "source": [
    "from sklearn.metrics import roc_curve,auc,roc_auc_score"
   ]
  },
  {
   "cell_type": "code",
   "execution_count": 541,
   "metadata": {
    "id": "p_0X9Kw_DDwI"
   },
   "outputs": [],
   "source": [
    "# Tính toán xác suất của lớp cho tập dữ liệu thử nghiệm\n",
    "# Bằng cách sử dụng hàm 'predict_proba'\n",
    "yhat_test_proba = model.predict_proba(X_test)"
   ]
  },
  {
   "cell_type": "code",
   "execution_count": 542,
   "metadata": {
    "id": "H4Ye5q-RDDwI",
    "outputId": "b3d7e861-7ef7-4e91-9706-841a4a22e707"
   },
   "outputs": [
    {
     "data": {
      "text/plain": [
       "array([[0.15213118, 0.84786882],\n",
       "       [0.9357403 , 0.0642597 ],\n",
       "       [0.92550458, 0.07449542],\n",
       "       [0.94362969, 0.05637031],\n",
       "       [0.91684026, 0.08315974]])"
      ]
     },
     "execution_count": 542,
     "metadata": {},
     "output_type": "execute_result"
    }
   ],
   "source": [
    "yhat_test_proba[0:5]"
   ]
  },
  {
   "cell_type": "code",
   "execution_count": 543,
   "metadata": {
    "id": "NM-49ZKbDDwI"
   },
   "outputs": [],
   "source": [
    "score = yhat_test_proba[:, 1]"
   ]
  },
  {
   "cell_type": "code",
   "execution_count": 544,
   "metadata": {
    "id": "K5ca2pIwDDwJ"
   },
   "outputs": [],
   "source": [
    "fpr, tpr, thresholds = roc_curve(y_test, score)"
   ]
  },
  {
   "cell_type": "code",
   "execution_count": 545,
   "metadata": {
    "id": "Niku4jI5DDwJ",
    "outputId": "f75d1731-df4f-4df6-ca4a-872581e352e9"
   },
   "outputs": [
    {
     "data": {
      "image/png": "[encoded data removed]",
      "text/plain": [
       "<Figure size 640x480 with 1 Axes>"
      ]
     },
     "metadata": {},
     "output_type": "display_data"
    }
   ],
   "source": [
    "# Trực quan\n",
    "plt.plot([0, 1], [0, 1], linestyle='--')\n",
    "plt.plot(fpr, tpr, marker='.')\n",
    "plt.title(\"ROC Curve\")\n",
    "plt.xlabel(\"False Positive Rate\")\n",
    "plt.ylabel(\"True Positive Rate\")\n",
    "plt.show()"
   ]
  },
  {
   "cell_type": "code",
   "execution_count": 546,
   "metadata": {
    "id": "T3fIlMiHDDwJ",
    "outputId": "4225c68a-b093-4ad6-f9b0-7fd1eb0e787e"
   },
   "outputs": [
    {
     "data": {
      "text/plain": [
       "0.7825422817479715"
      ]
     },
     "execution_count": 546,
     "metadata": {},
     "output_type": "execute_result"
    }
   ],
   "source": [
    "auc(fpr, tpr)"
   ]
  },
  {
   "cell_type": "markdown",
   "metadata": {},
   "source": [
    "- Diện tích dưới đường cong ROC (Receiver Operating Characteristic). AUC = 0.7825422817479715 cho biết rằng mô hình phân loại có chất lượng khá tốt.\n",
    "- Mô hình logistic regression có khả năng phân loại khách hàng có rời bỏ hay không ở mức độ khá tốt"
   ]
  },
  {
   "cell_type": "markdown",
   "metadata": {
    "id": "i3ZyE2HiDDwJ"
   },
   "source": [
    "## 7. Final for Customer Churn\n",
    "- Class 0: high recall + high precision: lớp 0 được xử lý hoàn hảo bởi mô hình\n",
    "- Class 1: low recall + high precision: Mô hình phát hiện không tốt lớp 1."
   ]
  },
  {
   "cell_type": "markdown",
   "metadata": {
    "id": "T0YLkwxGDDwJ"
   },
   "source": []
  },
  {
   "cell_type": "markdown",
   "metadata": {
    "id": "qrKN1ARuDDwJ"
   },
   "source": [
    "## 8. Conclusion"
   ]
  },
  {
   "cell_type": "markdown",
   "metadata": {
    "id": "r0wc5KW5DDwJ"
   },
   "source": [
    "- Dựa trên mô hình hồi quy logistic và các hệ số từ kết quả tìm kiếm, dự đoán về tỷ lệ rời bỏ khách hàng có thể được thực hiện bằng xác suất được tính toán. Các hệ số của các thuộc tính đóng một vai trò quan trọng trong việc xác định khả năng khách hàng rời bỏ.\n",
    "- Nghiên cứu này nhằm mục đích phân tích sự rời bỏ khách hàng của ngân hàng và phát triển các mô hình dự đoán để xác định sớm những người rời bỏ tiềm năng. Thông qua phân tích dữ liệu toàn diện và kỹ thuật mô hình dự đoán, một số phát hiện và hiểu biết chính đã được phát hiện:\n",
    "\n",
    "- Phân tích cho thấy độ tuổi của khách hàng, điểm tín dụng, số lượng sản phẩm mua qua ngân hàng,.. có thể có tác động đáng kể đến việc rời bỏ khách hàng.\n",
    "\n",
    "- Các biến quan trọng nhất trong việc dự đoán tỷ lệ rời bỏ được xác định bằng cách đánh giá tầm quan trọng của tính năng thu được từ mô hình dự đoán. Nhờ hiểu biết sâu sắc này, các ngân hàng được trang bị tốt hơn để tập trung nỗ lực và nguồn lực vào việc giải quyết các nguyên nhân chính khiến khách hàng rời bỏ và cuối cùng là cải thiện các chiến lược giữ chân khách hàng."
   ]
  }
 ],
 "metadata": {
  "colab": {
   "provenance": []
  },
  "kernelspec": {
   "display_name": "Python 3 (ipykernel)",
   "language": "python",
   "name": "python3"
  },
  "language_info": {
   "codemirror_mode": {
    "name": "ipython",
    "version": 3
   },
   "file_extension": ".py",
   "mimetype": "text/x-python",
   "name": "python",
   "nbconvert_exporter": "python",
   "pygments_lexer": "ipython3",
   "version": "3.11.4"
  }
 },
 "nbformat": 4,
 "nbformat_minor": 1
}
