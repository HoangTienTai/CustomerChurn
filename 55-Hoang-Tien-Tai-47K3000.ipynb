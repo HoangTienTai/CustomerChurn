{
 "cells": [
  {
   "cell_type": "markdown",
   "metadata": {
    "colab_type": "text",
    "id": "dlvl6kiulffy"
   },
   "source": [
    "## Lecture 2 - Numpy - 1D-2D"
   ]
  },
  {
   "cell_type": "code",
   "execution_count": 18,
   "metadata": {},
   "outputs": [
    {
     "name": "stdout",
     "output_type": "stream",
     "text": [
      "[[ 9  2  3 10]\n",
      " [ 5 12 15 14]\n",
      " [15 15  8 12]\n",
      " [13  7  5  5]]\n"
     ]
    }
   ],
   "source": [
    "# Câu 1: Tạo và thao tác ở mảng 2D\n",
    "# a) Tạo một ma trận 2 chiều có kích thước 4x4 với các giá trị ngẫu nhiên từ 1 đến 16.\n",
    "import numpy as np\n",
    "arr_2d = np.random.randint(1, 17, size=(4, 4))\n",
    "\n",
    "print(arr_2d)"
   ]
  },
  {
   "cell_type": "code",
   "execution_count": 19,
   "metadata": {},
   "outputs": [
    {
     "name": "stdout",
     "output_type": "stream",
     "text": [
      "[ 5 12 15 14]\n",
      "[ 3 15  8  5]\n"
     ]
    }
   ],
   "source": [
    "# b) Dựa vào ma trận 2D ở câu 1, truy cập và in ra (i) dữ liệu của hàng thứ 2, và (ii) cột thứ 3\n",
    "hang_2 = arr_2d[1]\n",
    "print(hang_2)\n",
    "cot_3 = arr_2d[:, 2]\n",
    "print(cot_3)"
   ]
  },
  {
   "cell_type": "code",
   "execution_count": 20,
   "metadata": {},
   "outputs": [
    {
     "name": "stdout",
     "output_type": "stream",
     "text": [
      "[[15 14]\n",
      " [ 8 12]\n",
      " [ 5  5]]\n"
     ]
    }
   ],
   "source": [
    "# c) Dựa vào ma trận 2D ở câu 1, tạo ra mảng con với tên sub_arr bằng cách lấy từ cắt mảng từ hàng 1 đến 3 và cột 2 đến 4\n",
    "sub_arr = arr_2d[1:4, 2:5]\n",
    "print(sub_arr)"
   ]
  },
  {
   "cell_type": "code",
   "execution_count": 21,
   "metadata": {},
   "outputs": [
    {
     "name": "stdout",
     "output_type": "stream",
     "text": [
      "Ma trận 2D sau khi thay đổi:\n",
      "[[10  2  3 10]\n",
      " [10 12 15 14]\n",
      " [10 15  8 12]\n",
      " [10  7  5  5]]\n"
     ]
    }
   ],
   "source": [
    "# d) Dựa vào ma trận 2D ở câu 1, thay đổi giá trị của cột thứ 0 thành giá trị 10\n",
    "arr_2d[:, 0] = 10\n",
    "print(\"Ma trận 2D sau khi thay đổi:\")\n",
    "print(arr_2d)"
   ]
  },
  {
   "cell_type": "code",
   "execution_count": 22,
   "metadata": {},
   "outputs": [
    {
     "name": "stdout",
     "output_type": "stream",
     "text": [
      "Tổng của mỗi hàng:\n",
      "[25 51 45 27]\n"
     ]
    }
   ],
   "source": [
    "# e) Dựa vào ma trận 2D ở câu 1, Tính tổng của mỗi hàng\n",
    "tong_hang = arr_2d.sum(axis=1)\n",
    "print(\"Tổng của mỗi hàng:\")\n",
    "print(tong_hang)"
   ]
  },
  {
   "cell_type": "code",
   "execution_count": 23,
   "metadata": {},
   "outputs": [
    {
     "name": "stdout",
     "output_type": "stream",
     "text": [
      "Giá trị trung bình: 9.25\n",
      "Các phần tử lớn hơn giá trị trung bình:\n",
      "[10 10 10 12 15 14 10 15 12 10]\n"
     ]
    }
   ],
   "source": [
    "# f) Dựa vào ma trận 2D ở câu 1, truy cập và in ra các phần tử lớn hơn giá trị trung bình\n",
    "gia_tri_trung_binh = np.mean(arr_2d)\n",
    "print(\"Giá trị trung bình:\", gia_tri_trung_binh)\n",
    "\n",
    "cac_phan_tu_lon_hon_trung_binh = arr_2d[arr_2d > gia_tri_trung_binh]\n",
    "print(\"Các phần tử lớn hơn giá trị trung bình:\")\n",
    "print(cac_phan_tu_lon_hon_trung_binh)\n"
   ]
  },
  {
   "cell_type": "markdown",
   "metadata": {},
   "source": [
    "##### **QUESTION 2**\n",
    "Dựa vào `np.arange` và `np.reshape` để tạo ra ma trận 3x3 với kết quả cụ thể như sau:\n",
    "$$\n",
    "\\begin{bmatrix}\n",
    "    10 & 11 & 12\\\\\n",
    "    13 & 14 & 15\\\\\n",
    "    16 & 17 & 18\n",
    "\\end{bmatrix}\\\\\n",
    "$$\n",
    "Dựa vào ma trận vừa tạo, Hãy tính tổng theo từng dòng"
   ]
  },
  {
   "cell_type": "code",
   "execution_count": 24,
   "metadata": {},
   "outputs": [
    {
     "name": "stdout",
     "output_type": "stream",
     "text": [
      "[[10 11 12]\n",
      " [13 14 15]\n",
      " [16 17 18]]\n",
      "tổng dòng [33 42 51]\n"
     ]
    }
   ],
   "source": [
    "# Trả lời câu 2:\n",
    "arr = np.arange(10, 19)\n",
    "matran_3x3 = np.reshape(arr, (3, 3))\n",
    "print(matran_3x3)\n",
    "\n",
    "tong_dong = matran_3x3.sum(axis=1)\n",
    "print('tổng dòng',tong_dong)\n"
   ]
  },
  {
   "cell_type": "code",
   "execution_count": 25,
   "metadata": {},
   "outputs": [
    {
     "name": "stdout",
     "output_type": "stream",
     "text": [
      "[[ 0  5  1 10  1]\n",
      " [ 9  9  6  5  5]\n",
      " [ 2  7  2  3  5]\n",
      " [ 3  3  4  9  0]\n",
      " [ 5  7  0  3  9]]\n",
      "[[0 0 0 1 0]\n",
      " [1 1 1 0 0]\n",
      " [0 1 0 0 0]\n",
      " [0 0 0 1 0]\n",
      " [0 1 0 0 1]]\n"
     ]
    }
   ],
   "source": [
    "# Câu 3: Xử lý dữ liệu trên mảng hai chiều\n",
    "# a) Tạo một ma trận 5x5 với các giá trị ngẫu nhiên từ 0 đến 10.\n",
    "matran_5x5 = np.random.randint(0, 11, size=(5, 5))\n",
    "print(matran_5x5)\n",
    "\n",
    "# b) Sử dụng np.where để tạo một ma trận mới, trong đó các giá trị lớn hơn 5 được thay thế bằng 1, và các giá trị không lớn hơn 5 được thay thế bằng 0.\n",
    "matran_moi = np.where(matran_5x5 > 5, 1, 0)\n",
    "print(matran_moi)"
   ]
  },
  {
   "cell_type": "code",
   "execution_count": null,
   "metadata": {},
   "outputs": [],
   "source": []
  },
  {
   "cell_type": "markdown",
   "metadata": {},
   "source": [
    "#### c) Thay thế giá trị -1 vào các vị trí của ma trận ở câu b với kết quả dưới đây:\n",
    "$$\n",
    "\\begin{bmatrix}\n",
    "    0 & 1 & 0 & 0 & 1\\\\\n",
    "   -1 & -1& -1 & -1 & -1\\\\\n",
    "    0 & 1 & 0 & 0 & 1\\\\\n",
    "    -1 & -1& -1 & -1 & -1\\\\\n",
    "    0 & 1 & 0 & 0 & 1\\\\\n",
    "\\end{bmatrix}\\\\\n",
    "$$"
   ]
  },
  {
   "cell_type": "code",
   "execution_count": 26,
   "metadata": {},
   "outputs": [
    {
     "name": "stdout",
     "output_type": "stream",
     "text": [
      "[[-1 -1 -1  1 -1]\n",
      " [ 1  1  1 -1 -1]\n",
      " [-1  1 -1 -1 -1]\n",
      " [-1 -1 -1  1 -1]\n",
      " [-1  1 -1 -1  1]]\n"
     ]
    }
   ],
   "source": [
    "# Trả lời câu c\n",
    "matran_moi[matran_5x5 <= 5] = -1\n",
    "print(matran_moi)"
   ]
  },
  {
   "cell_type": "code",
   "execution_count": 27,
   "metadata": {},
   "outputs": [
    {
     "name": "stdout",
     "output_type": "stream",
     "text": [
      "[[ 0  5  1 10  1]\n",
      " [ 9  9  6  5  5]\n",
      " [ 2  7  2  3  5]\n",
      " [ 3  3  4  9  0]\n",
      " [ 5  7  0  3  9]]\n",
      "[17 34 19 19 24]\n"
     ]
    }
   ],
   "source": [
    "# d) Thay thế tất cả các số âm bằng giá trị tuyệt đối của chúng.\n",
    "matran_moi = np.abs(matran_5x5)\n",
    "print(matran_moi)\n",
    "# e) Tính tổng của các phần tử trên mỗi hàng của ma trận mới.\n",
    "tong_hang = matran_moi.sum(axis=1)\n",
    "print(tong_hang)"
   ]
  },
  {
   "cell_type": "markdown",
   "metadata": {},
   "source": [
    "#### Lecture 2: Numpy - Loại dữ liệu tự định nghĩa\n",
    "\n",
    "Tạo một đối tượng có tên là sản phẩm với các thuộc tính như sau: mã sản phẩm (masp), tên sản phẩm (tensp), và giá sản phẩm (price), số lượng (soluong). Dữ liệu cụ thể như sau:\n",
    "\n",
    "\n",
    "(1, 'Máy tính', 1200.50,10),\n",
    "(2, 'Điện thoại Iphone 11', 699.99,20),\n",
    "(3, 'USB', 89.95,20),\n",
    "(4, 'Loa ', 499.50,30),\n",
    "(5, 'Màn hình', 799.00,50)\n",
    "\n",
    "\n",
    "Yêu cầu:\n",
    "\n",
    "a) Tìm sản phẩm có giá cao nhất\n",
    "\n",
    "b) Tính giá trung bình của tất cả sản phẩm\n",
    "\n",
    "c) Tính doanh số bán, biết rằng doanh số bán bằng số lượng x đơn giá\n",
    "\n",
    "d) Hiện thị thông tin sản phẩm gồm có tên sản phẩm và giá sản phẩm"
   ]
  },
  {
   "cell_type": "code",
   "execution_count": 28,
   "metadata": {},
   "outputs": [
    {
     "name": "stdout",
     "output_type": "stream",
     "text": [
      "Sản phẩm có giá cao nhất:\n",
      "Mã sản phẩm: 1\n",
      "Tên sản phẩm: Máy tính\n",
      "Giá sản phẩm: 1200.5\n",
      "Số lượng sản phẩm: 10\n"
     ]
    }
   ],
   "source": [
    "data = np.array([\n",
    "    (1, 'Máy tính', 1200.50, 10),\n",
    "    (2, 'Điện thoại Iphone 11', 699.99, 20),\n",
    "    (3, 'USB', 89.95, 20),\n",
    "    (4, 'Loa', 499.50, 30),\n",
    "    (5, 'Màn hình', 799.00, 50)\n",
    "], dtype=[('masp', int), ('tensp', 'U30'), ('price', float), ('soluong', int)])\n",
    "\n",
    "# a) Tìm sản phẩm có giá cao nhất\n",
    "index_max_price = np.argmax(data['price'])\n",
    "product_max_price = data[index_max_price]\n",
    "\n",
    "print('Sản phẩm có giá cao nhất:')\n",
    "print('Mã sản phẩm:', product_max_price['masp'])\n",
    "print('Tên sản phẩm:', product_max_price['tensp'])\n",
    "print('Giá sản phẩm:', product_max_price['price'])\n",
    "print('Số lượng sản phẩm:', product_max_price['soluong'])\n"
   ]
  },
  {
   "cell_type": "code",
   "execution_count": 29,
   "metadata": {},
   "outputs": [
    {
     "name": "stdout",
     "output_type": "stream",
     "text": [
      "Giá trung bình của tất cả sản phẩm: 657.788\n"
     ]
    }
   ],
   "source": [
    "# b) Tính giá trung bình của tất cả sản phẩm\n",
    "average_price = np.mean(data['price'])\n",
    "\n",
    "print('Giá trung bình của tất cả sản phẩm:', average_price)"
   ]
  },
  {
   "cell_type": "code",
   "execution_count": 30,
   "metadata": {},
   "outputs": [],
   "source": [
    "#c) Tính doanh số bán, biết rằng doanh số bán bằng số lượng x đơn giá\n",
    "doanh_so_ban = data['soluong'] * data['price']"
   ]
  },
  {
   "cell_type": "code",
   "execution_count": 31,
   "metadata": {},
   "outputs": [
    {
     "name": "stdout",
     "output_type": "stream",
     "text": [
      "Sản phẩm: Máy tính\n",
      "Giá sản phẩm: 1200.5\n",
      "----------------------\n",
      "Sản phẩm: Điện thoại Iphone 11\n",
      "Giá sản phẩm: 699.99\n",
      "----------------------\n",
      "Sản phẩm: USB\n",
      "Giá sản phẩm: 89.95\n",
      "----------------------\n",
      "Sản phẩm: Loa\n",
      "Giá sản phẩm: 499.5\n",
      "----------------------\n",
      "Sản phẩm: Màn hình\n",
      "Giá sản phẩm: 799.0\n",
      "----------------------\n"
     ]
    }
   ],
   "source": [
    "# d) Hiện thị thông tin sản phẩm gồm có tên sản phẩm và giá sản phẩm\n",
    "ten_sp = data['tensp']\n",
    "gia_sp = data['price']\n",
    "\n",
    "for i in range(len(data)):\n",
    "    print('Sản phẩm:', ten_sp[i])\n",
    "    print('Giá sản phẩm:', gia_sp[i])\n",
    "    print('----------------------')"
   ]
  }
 ],
 "metadata": {
  "colab": {
   "name": "Chapter3_Exercise1.ipynb",
   "provenance": []
  },
  "kernelspec": {
   "display_name": "Python 3 (ipykernel)",
   "language": "python",
   "name": "python3"
  },
  "language_info": {
   "codemirror_mode": {
    "name": "ipython",
    "version": 3
   },
   "file_extension": ".py",
   "mimetype": "text/x-python",
   "name": "python",
   "nbconvert_exporter": "python",
   "pygments_lexer": "ipython3",
   "version": "3.11.4"
  }
 },
 "nbformat": 4,
 "nbformat_minor": 1
}
