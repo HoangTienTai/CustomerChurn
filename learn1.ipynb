{
 "cells": [
  {
   "cell_type": "code",
   "execution_count": 1,
   "metadata": {},
   "outputs": [],
   "source": [
    "import numpy as np"
   ]
  },
  {
   "cell_type": "code",
   "execution_count": 3,
   "metadata": {},
   "outputs": [
    {
     "name": "stdout",
     "output_type": "stream",
     "text": [
      "Collecting vnstock3\n",
      "  Downloading vnstock3-0.3.0.7-py3-none-any.whl.metadata (15 kB)\n",
      "Requirement already satisfied: requests in c:\\users\\nk\\anaconda3\\lib\\site-packages (from vnstock3) (2.31.0)\n",
      "Requirement already satisfied: beautifulsoup4 in c:\\users\\nk\\anaconda3\\lib\\site-packages (from vnstock3) (4.12.2)\n",
      "Requirement already satisfied: pandas in c:\\users\\nk\\anaconda3\\lib\\site-packages (from vnstock3) (2.1.4)\n",
      "Collecting vnai>=0.1.3 (from vnstock3)\n",
      "  Downloading vnai-0.1.3-py3-none-any.whl.metadata (615 bytes)\n",
      "Requirement already satisfied: openpyxl in c:\\users\\nk\\anaconda3\\lib\\site-packages (from vnstock3) (3.0.10)\n",
      "Requirement already satisfied: pydantic in c:\\users\\nk\\anaconda3\\lib\\site-packages (from vnstock3) (1.10.12)\n",
      "Requirement already satisfied: psutil in c:\\users\\nk\\anaconda3\\lib\\site-packages (from vnstock3) (5.9.0)\n",
      "Collecting fake-useragent (from vnstock3)\n",
      "  Downloading fake_useragent-1.5.1-py3-none-any.whl.metadata (15 kB)\n",
      "Collecting vnstock-ezchart (from vnstock3)\n",
      "  Downloading vnstock_ezchart-0.0.2-py3-none-any.whl.metadata (6.6 kB)\n",
      "Requirement already satisfied: click in c:\\users\\nk\\anaconda3\\lib\\site-packages (from vnstock3) (8.1.7)\n",
      "Requirement already satisfied: seaborn in c:\\users\\nk\\anaconda3\\lib\\site-packages (from vnstock3) (0.12.2)\n",
      "Requirement already satisfied: cryptography in c:\\users\\nk\\anaconda3\\lib\\site-packages (from vnai>=0.1.3->vnstock3) (42.0.2)\n",
      "Requirement already satisfied: soupsieve>1.2 in c:\\users\\nk\\anaconda3\\lib\\site-packages (from beautifulsoup4->vnstock3) (2.5)\n",
      "Requirement already satisfied: colorama in c:\\users\\nk\\anaconda3\\lib\\site-packages (from click->vnstock3) (0.4.6)\n",
      "Requirement already satisfied: et_xmlfile in c:\\users\\nk\\anaconda3\\lib\\site-packages (from openpyxl->vnstock3) (1.1.0)\n",
      "Requirement already satisfied: numpy<2,>=1.23.2 in c:\\users\\nk\\anaconda3\\lib\\site-packages (from pandas->vnstock3) (1.26.4)\n",
      "Requirement already satisfied: python-dateutil>=2.8.2 in c:\\users\\nk\\anaconda3\\lib\\site-packages (from pandas->vnstock3) (2.8.2)\n",
      "Requirement already satisfied: pytz>=2020.1 in c:\\users\\nk\\anaconda3\\lib\\site-packages (from pandas->vnstock3) (2023.3.post1)\n",
      "Requirement already satisfied: tzdata>=2022.1 in c:\\users\\nk\\anaconda3\\lib\\site-packages (from pandas->vnstock3) (2023.3)\n",
      "Requirement already satisfied: typing-extensions>=4.2.0 in c:\\users\\nk\\anaconda3\\lib\\site-packages (from pydantic->vnstock3) (4.9.0)\n",
      "Requirement already satisfied: charset-normalizer<4,>=2 in c:\\users\\nk\\anaconda3\\lib\\site-packages (from requests->vnstock3) (2.0.4)\n",
      "Requirement already satisfied: idna<4,>=2.5 in c:\\users\\nk\\anaconda3\\lib\\site-packages (from requests->vnstock3) (3.4)\n",
      "Requirement already satisfied: urllib3<3,>=1.21.1 in c:\\users\\nk\\anaconda3\\lib\\site-packages (from requests->vnstock3) (2.0.7)\n",
      "Requirement already satisfied: certifi>=2017.4.17 in c:\\users\\nk\\anaconda3\\lib\\site-packages (from requests->vnstock3) (2024.2.2)\n",
      "Requirement already satisfied: matplotlib!=3.6.1,>=3.1 in c:\\users\\nk\\anaconda3\\lib\\site-packages (from seaborn->vnstock3) (3.8.0)\n",
      "Collecting squarify (from vnstock-ezchart->vnstock3)\n",
      "  Downloading squarify-0.4.4-py3-none-any.whl.metadata (600 bytes)\n",
      "Collecting wordcloud (from vnstock-ezchart->vnstock3)\n",
      "  Downloading wordcloud-1.9.3-cp311-cp311-win_amd64.whl.metadata (3.5 kB)\n",
      "Requirement already satisfied: vnstock in c:\\users\\nk\\anaconda3\\lib\\site-packages (from vnstock-ezchart->vnstock3) (0.2.9.2.2)\n",
      "Requirement already satisfied: contourpy>=1.0.1 in c:\\users\\nk\\anaconda3\\lib\\site-packages (from matplotlib!=3.6.1,>=3.1->seaborn->vnstock3) (1.2.0)\n",
      "Requirement already satisfied: cycler>=0.10 in c:\\users\\nk\\anaconda3\\lib\\site-packages (from matplotlib!=3.6.1,>=3.1->seaborn->vnstock3) (0.11.0)\n",
      "Requirement already satisfied: fonttools>=4.22.0 in c:\\users\\nk\\anaconda3\\lib\\site-packages (from matplotlib!=3.6.1,>=3.1->seaborn->vnstock3) (4.25.0)\n",
      "Requirement already satisfied: kiwisolver>=1.0.1 in c:\\users\\nk\\anaconda3\\lib\\site-packages (from matplotlib!=3.6.1,>=3.1->seaborn->vnstock3) (1.4.4)\n",
      "Requirement already satisfied: packaging>=20.0 in c:\\users\\nk\\anaconda3\\lib\\site-packages (from matplotlib!=3.6.1,>=3.1->seaborn->vnstock3) (23.1)\n",
      "Requirement already satisfied: pillow>=6.2.0 in c:\\users\\nk\\anaconda3\\lib\\site-packages (from matplotlib!=3.6.1,>=3.1->seaborn->vnstock3) (10.2.0)\n",
      "Requirement already satisfied: pyparsing>=2.3.1 in c:\\users\\nk\\anaconda3\\lib\\site-packages (from matplotlib!=3.6.1,>=3.1->seaborn->vnstock3) (3.0.9)\n",
      "Requirement already satisfied: six>=1.5 in c:\\users\\nk\\anaconda3\\lib\\site-packages (from python-dateutil>=2.8.2->pandas->vnstock3) (1.16.0)\n",
      "Requirement already satisfied: cffi>=1.12 in c:\\users\\nk\\anaconda3\\lib\\site-packages (from cryptography->vnai>=0.1.3->vnstock3) (1.16.0)\n",
      "Requirement already satisfied: pycparser in c:\\users\\nk\\anaconda3\\lib\\site-packages (from cffi>=1.12->cryptography->vnai>=0.1.3->vnstock3) (2.21)\n",
      "Downloading vnstock3-0.3.0.7-py3-none-any.whl (85 kB)\n",
      "   ---------------------------------------- 0.0/85.3 kB ? eta -:--:--\n",
      "   -------------- ------------------------- 30.7/85.3 kB ? eta -:--:--\n",
      "   -------------------------------------- - 81.9/85.3 kB 1.5 MB/s eta 0:00:01\n",
      "   -------------------------------------- - 81.9/85.3 kB 1.5 MB/s eta 0:00:01\n",
      "   -------------------------------------- - 81.9/85.3 kB 1.5 MB/s eta 0:00:01\n",
      "   -------------------------------------- - 81.9/85.3 kB 1.5 MB/s eta 0:00:01\n",
      "   -------------------------------------- - 81.9/85.3 kB 1.5 MB/s eta 0:00:01\n",
      "   -------------------------------------- - 81.9/85.3 kB 1.5 MB/s eta 0:00:01\n",
      "   ---------------------------------------- 85.3/85.3 kB 320.9 kB/s eta 0:00:00\n",
      "Downloading vnai-0.1.3-py3-none-any.whl (5.2 kB)\n",
      "Downloading fake_useragent-1.5.1-py3-none-any.whl (17 kB)\n",
      "Downloading vnstock_ezchart-0.0.2-py3-none-any.whl (14 kB)\n",
      "Downloading squarify-0.4.4-py3-none-any.whl (4.1 kB)\n",
      "Downloading wordcloud-1.9.3-cp311-cp311-win_amd64.whl (300 kB)\n",
      "   ---------------------------------------- 0.0/300.2 kB ? eta -:--:--\n",
      "   ------------------------ --------------- 184.3/300.2 kB 5.6 MB/s eta 0:00:01\n",
      "   ------------------------------------ --- 276.5/300.2 kB 3.4 MB/s eta 0:00:01\n",
      "   ---------------------------------------  297.0/300.2 kB 3.7 MB/s eta 0:00:01\n",
      "   ---------------------------------------  297.0/300.2 kB 3.7 MB/s eta 0:00:01\n",
      "   ---------------------------------------  297.0/300.2 kB 3.7 MB/s eta 0:00:01\n",
      "   ---------------------------------------  297.0/300.2 kB 3.7 MB/s eta 0:00:01\n",
      "   ---------------------------------------- 300.2/300.2 kB 1.2 MB/s eta 0:00:00\n",
      "Installing collected packages: squarify, fake-useragent, wordcloud, vnai, vnstock-ezchart, vnstock3\n",
      "Successfully installed fake-useragent-1.5.1 squarify-0.4.4 vnai-0.1.3 vnstock-ezchart-0.0.2 vnstock3-0.3.0.7 wordcloud-1.9.3\n",
      "Note: you may need to restart the kernel to use updated packages.\n"
     ]
    }
   ],
   "source": [
    "%pip install vnstock3"
   ]
  },
  {
   "cell_type": "code",
   "execution_count": 4,
   "metadata": {},
   "outputs": [
    {
     "ename": "ImportError",
     "evalue": "cannot import name 'vnstock' from 'vnstock3' (c:\\Users\\NK\\anaconda3\\Lib\\site-packages\\vnstock3\\__init__.py)",
     "output_type": "error",
     "traceback": [
      "\u001b[1;31m---------------------------------------------------------------------------\u001b[0m",
      "\u001b[1;31mImportError\u001b[0m                               Traceback (most recent call last)",
      "Cell \u001b[1;32mIn[4], line 1\u001b[0m\n\u001b[1;32m----> 1\u001b[0m \u001b[38;5;28;01mfrom\u001b[39;00m \u001b[38;5;21;01mvnstock3\u001b[39;00m \u001b[38;5;28;01mimport\u001b[39;00m vnstock\n",
      "\u001b[1;31mImportError\u001b[0m: cannot import name 'vnstock' from 'vnstock3' (c:\\Users\\NK\\anaconda3\\Lib\\site-packages\\vnstock3\\__init__.py)"
     ]
    }
   ],
   "source": [
    "from vnstock3 import vnstock"
   ]
  },
  {
   "cell_type": "code",
   "execution_count": 5,
   "metadata": {},
   "outputs": [
    {
     "name": "stdout",
     "output_type": "stream",
     "text": [
      "Requirement already satisfied: vnstock in c:\\users\\nk\\anaconda3\\lib\\site-packages (0.2.9.2.2)\n",
      "Note: you may need to restart the kernel to use updated packages.\n"
     ]
    }
   ],
   "source": [
    "%pip install vnstock"
   ]
  },
  {
   "cell_type": "code",
   "execution_count": 8,
   "metadata": {},
   "outputs": [],
   "source": [
    "import pandas as pd"
   ]
  },
  {
   "cell_type": "code",
   "execution_count": 10,
   "metadata": {},
   "outputs": [
    {
     "data": {
      "text/markdown": [
       "**Vui lòng chuyển đổi sang Vnstock3** thế hệ mới (0.3.0.7) với câu lệnh: `pip install vnstock3 --upgrade`.\n",
       "**Từ 1/1/2025, vnstock3 sẽ được cài đặt khi sử dụng cú pháp** `pip install vnstock` **thay cho Vnstock Legacy** hiện tại.\n",
       "Xem chi tiết [chuyển đổi sang vnstock3](https://vnstocks.com/docs/tai-lieu/migration-chuyen-doi-sang-vnstock3).\n",
       "Phiên bản **Vnstock Legacy (0.2.9.2.2)** bạn đang sử dụng **sẽ không được nâng cấp thêm.**\n"
      ],
      "text/plain": [
       "<IPython.core.display.Markdown object>"
      ]
     },
     "metadata": {},
     "output_type": "display_data"
    }
   ],
   "source": [
    "from vnstock import *"
   ]
  },
  {
   "cell_type": "code",
   "execution_count": 11,
   "metadata": {},
   "outputs": [
    {
     "data": {
      "text/html": [
       "<div>\n",
       "<style scoped>\n",
       "    .dataframe tbody tr th:only-of-type {\n",
       "        vertical-align: middle;\n",
       "    }\n",
       "\n",
       "    .dataframe tbody tr th {\n",
       "        vertical-align: top;\n",
       "    }\n",
       "\n",
       "    .dataframe thead th {\n",
       "        text-align: right;\n",
       "    }\n",
       "</style>\n",
       "<table border=\"1\" class=\"dataframe\">\n",
       "  <thead>\n",
       "    <tr style=\"text-align: right;\">\n",
       "      <th></th>\n",
       "      <th>ticker</th>\n",
       "      <th>organName</th>\n",
       "      <th>organTypeCode</th>\n",
       "      <th>comGroupCode</th>\n",
       "    </tr>\n",
       "  </thead>\n",
       "  <tbody>\n",
       "    <tr>\n",
       "      <th>0</th>\n",
       "      <td>A32</td>\n",
       "      <td>CTCP 32</td>\n",
       "      <td>1</td>\n",
       "      <td>UPCOM</td>\n",
       "    </tr>\n",
       "    <tr>\n",
       "      <th>1</th>\n",
       "      <td>AAA</td>\n",
       "      <td>CTCP Nhựa An Phát Xanh</td>\n",
       "      <td>1</td>\n",
       "      <td>HOSE</td>\n",
       "    </tr>\n",
       "    <tr>\n",
       "      <th>2</th>\n",
       "      <td>AAH</td>\n",
       "      <td>CTCP Hợp Nhất</td>\n",
       "      <td>1</td>\n",
       "      <td>UPCOM</td>\n",
       "    </tr>\n",
       "    <tr>\n",
       "      <th>3</th>\n",
       "      <td>AAM</td>\n",
       "      <td>CTCP Thủy sản MeKong</td>\n",
       "      <td>1</td>\n",
       "      <td>HOSE</td>\n",
       "    </tr>\n",
       "    <tr>\n",
       "      <th>4</th>\n",
       "      <td>AAS</td>\n",
       "      <td>CTCP Chứng khoán SmartInvest</td>\n",
       "      <td>4</td>\n",
       "      <td>UPCOM</td>\n",
       "    </tr>\n",
       "    <tr>\n",
       "      <th>...</th>\n",
       "      <td>...</td>\n",
       "      <td>...</td>\n",
       "      <td>...</td>\n",
       "      <td>...</td>\n",
       "    </tr>\n",
       "    <tr>\n",
       "      <th>1759</th>\n",
       "      <td>YBC</td>\n",
       "      <td>CTCP Xi măng và Khoáng sản Yên Bái</td>\n",
       "      <td>1</td>\n",
       "      <td>UPCOM</td>\n",
       "    </tr>\n",
       "    <tr>\n",
       "      <th>1760</th>\n",
       "      <td>YBM</td>\n",
       "      <td>CTCP Khoáng sản Công nghiệp Yên Bái</td>\n",
       "      <td>1</td>\n",
       "      <td>HOSE</td>\n",
       "    </tr>\n",
       "    <tr>\n",
       "      <th>1761</th>\n",
       "      <td>YEG</td>\n",
       "      <td>CTCP Tập đoàn Yeah1</td>\n",
       "      <td>1</td>\n",
       "      <td>HOSE</td>\n",
       "    </tr>\n",
       "    <tr>\n",
       "      <th>1762</th>\n",
       "      <td>YSVN</td>\n",
       "      <td>Công ty TNHH Chứng khoán Yuanta Việt Nam</td>\n",
       "      <td>4</td>\n",
       "      <td>OTC</td>\n",
       "    </tr>\n",
       "    <tr>\n",
       "      <th>1763</th>\n",
       "      <td>YTC</td>\n",
       "      <td>CTCP Xuất nhập khẩu Y tế Thành phố Hồ Chí Minh</td>\n",
       "      <td>1</td>\n",
       "      <td>UPCOM</td>\n",
       "    </tr>\n",
       "  </tbody>\n",
       "</table>\n",
       "<p>1764 rows × 4 columns</p>\n",
       "</div>"
      ],
      "text/plain": [
       "     ticker                                       organName  organTypeCode  \\\n",
       "0       A32                                         CTCP 32              1   \n",
       "1       AAA                          CTCP Nhựa An Phát Xanh              1   \n",
       "2       AAH                                   CTCP Hợp Nhất              1   \n",
       "3       AAM                            CTCP Thủy sản MeKong              1   \n",
       "4       AAS                    CTCP Chứng khoán SmartInvest              4   \n",
       "...     ...                                             ...            ...   \n",
       "1759    YBC              CTCP Xi măng và Khoáng sản Yên Bái              1   \n",
       "1760    YBM             CTCP Khoáng sản Công nghiệp Yên Bái              1   \n",
       "1761    YEG                             CTCP Tập đoàn Yeah1              1   \n",
       "1762   YSVN        Công ty TNHH Chứng khoán Yuanta Việt Nam              4   \n",
       "1763    YTC  CTCP Xuất nhập khẩu Y tế Thành phố Hồ Chí Minh              1   \n",
       "\n",
       "     comGroupCode  \n",
       "0           UPCOM  \n",
       "1            HOSE  \n",
       "2           UPCOM  \n",
       "3            HOSE  \n",
       "4           UPCOM  \n",
       "...           ...  \n",
       "1759        UPCOM  \n",
       "1760         HOSE  \n",
       "1761         HOSE  \n",
       "1762          OTC  \n",
       "1763        UPCOM  \n",
       "\n",
       "[1764 rows x 4 columns]"
      ]
     },
     "execution_count": 11,
     "metadata": {},
     "output_type": "execute_result"
    }
   ],
   "source": [
    "listing_companies(live=True)"
   ]
  },
  {
   "cell_type": "code",
   "execution_count": 2,
   "metadata": {},
   "outputs": [
    {
     "data": {
      "text/html": [
       "<div>\n",
       "<style scoped>\n",
       "    .dataframe tbody tr th:only-of-type {\n",
       "        vertical-align: middle;\n",
       "    }\n",
       "\n",
       "    .dataframe tbody tr th {\n",
       "        vertical-align: top;\n",
       "    }\n",
       "\n",
       "    .dataframe thead th {\n",
       "        text-align: right;\n",
       "    }\n",
       "</style>\n",
       "<table border=\"1\" class=\"dataframe\">\n",
       "  <thead>\n",
       "    <tr style=\"text-align: right;\">\n",
       "      <th></th>\n",
       "      <th>Họ tên:</th>\n",
       "      <th>Toán</th>\n",
       "      <th>Lý</th>\n",
       "      <th>Hóa</th>\n",
       "    </tr>\n",
       "  </thead>\n",
       "  <tbody>\n",
       "    <tr>\n",
       "      <th>0</th>\n",
       "      <td>Hùng</td>\n",
       "      <td>9</td>\n",
       "      <td>8.0</td>\n",
       "      <td>3.2</td>\n",
       "    </tr>\n",
       "    <tr>\n",
       "      <th>1</th>\n",
       "      <td>Tuấn</td>\n",
       "      <td>6</td>\n",
       "      <td>6.2</td>\n",
       "      <td>5.5</td>\n",
       "    </tr>\n",
       "  </tbody>\n",
       "</table>\n",
       "</div>"
      ],
      "text/plain": [
       "  Họ tên:  Toán   Lý  Hóa\n",
       "0    Hùng     9  8.0  3.2\n",
       "1    Tuấn     6  6.2  5.5"
      ]
     },
     "execution_count": 2,
     "metadata": {},
     "output_type": "execute_result"
    }
   ],
   "source": [
    "data = {'Họ tên:':['Hùng','Tuấn'],'Toán':[9,6],'Lý':[8,6.2],'Hóa':[3.2,5.5]}\n",
    "data = pd.DataFrame(data)\n",
    "data"
   ]
  },
  {
   "cell_type": "code",
   "execution_count": 3,
   "metadata": {},
   "outputs": [
    {
     "data": {
      "text/html": [
       "<div>\n",
       "<style scoped>\n",
       "    .dataframe tbody tr th:only-of-type {\n",
       "        vertical-align: middle;\n",
       "    }\n",
       "\n",
       "    .dataframe tbody tr th {\n",
       "        vertical-align: top;\n",
       "    }\n",
       "\n",
       "    .dataframe thead th {\n",
       "        text-align: right;\n",
       "    }\n",
       "</style>\n",
       "<table border=\"1\" class=\"dataframe\">\n",
       "  <thead>\n",
       "    <tr style=\"text-align: right;\">\n",
       "      <th></th>\n",
       "      <th>Họ tên:</th>\n",
       "      <th>Môn thi</th>\n",
       "      <th>Điểm</th>\n",
       "    </tr>\n",
       "  </thead>\n",
       "  <tbody>\n",
       "    <tr>\n",
       "      <th>0</th>\n",
       "      <td>Hùng</td>\n",
       "      <td>Toán</td>\n",
       "      <td>9.0</td>\n",
       "    </tr>\n",
       "    <tr>\n",
       "      <th>1</th>\n",
       "      <td>Tuấn</td>\n",
       "      <td>Toán</td>\n",
       "      <td>6.0</td>\n",
       "    </tr>\n",
       "    <tr>\n",
       "      <th>2</th>\n",
       "      <td>Hùng</td>\n",
       "      <td>Lý</td>\n",
       "      <td>8.0</td>\n",
       "    </tr>\n",
       "    <tr>\n",
       "      <th>3</th>\n",
       "      <td>Tuấn</td>\n",
       "      <td>Lý</td>\n",
       "      <td>6.2</td>\n",
       "    </tr>\n",
       "    <tr>\n",
       "      <th>4</th>\n",
       "      <td>Hùng</td>\n",
       "      <td>Hóa</td>\n",
       "      <td>3.2</td>\n",
       "    </tr>\n",
       "    <tr>\n",
       "      <th>5</th>\n",
       "      <td>Tuấn</td>\n",
       "      <td>Hóa</td>\n",
       "      <td>5.5</td>\n",
       "    </tr>\n",
       "  </tbody>\n",
       "</table>\n",
       "</div>"
      ],
      "text/plain": [
       "  Họ tên: Môn thi  Điểm\n",
       "0    Hùng    Toán   9.0\n",
       "1    Tuấn    Toán   6.0\n",
       "2    Hùng      Lý   8.0\n",
       "3    Tuấn      Lý   6.2\n",
       "4    Hùng     Hóa   3.2\n",
       "5    Tuấn     Hóa   5.5"
      ]
     },
     "execution_count": 3,
     "metadata": {},
     "output_type": "execute_result"
    }
   ],
   "source": [
    "data_new = pd.melt(frame=data,id_vars='Họ tên:',value_vars=['Toán','Lý','Hóa'],var_name='Môn thi',value_name='Điểm')\n",
    "data_new"
   ]
  },
  {
   "cell_type": "code",
   "execution_count": 7,
   "metadata": {},
   "outputs": [
    {
     "data": {
      "image/png": "[encoded data removed]",
      "text/plain": [
       "<Figure size 640x480 with 1 Axes>"
      ]
     },
     "metadata": {},
     "output_type": "display_data"
    },
    {
     "data": {
      "image/png": "[encoded data removed]",
      "text/plain": [
       "<Figure size 640x480 with 1 Axes>"
      ]
     },
     "metadata": {},
     "output_type": "display_data"
    }
   ],
   "source": [
    "import numpy as np\n",
    "import matplotlib.pyplot as plt\n",
    "import numpy_financial as npf\n",
    "# Dữ liệu đầu vào\n",
    "cash_flows = [-100, 20, 30, 40, 50]  # Dòng tiền thu về từ cổ phiếu\n",
    "discount_rate = 0.1  # Tỷ lệ chiết khấu\n",
    "\n",
    "# Tính NPV\n",
    "npv = npf.npv(discount_rate, cash_flows)\n",
    "\n",
    "# Tính IRR\n",
    "irr = npf.irr(cash_flows)\n",
    "\n",
    "# Vẽ biểu đồ NPV\n",
    "npv_values = [npf.npv(discount_rate, cash_flows[:i+1]) for i in range(len(cash_flows))]\n",
    "plt.plot(np.arange(len(cash_flows)), npv_values)\n",
    "plt.xlabel('Năm')\n",
    "plt.ylabel('NPV')\n",
    "plt.title('Biểu đồ NPV')\n",
    "plt.show()\n",
    "\n",
    "# Vẽ biểu đồ IRR\n",
    "irr_values = [npf.irr(cash_flows[:i+1]) for i in range(len(cash_flows))]\n",
    "plt.plot(np.arange(len(cash_flows)), irr_values)\n",
    "plt.xlabel('Năm')\n",
    "plt.ylabel('IRR')\n",
    "plt.title('Biểu đồ IRR')\n",
    "plt.show()\n"
   ]
  }
 ],
 "metadata": {
  "kernelspec": {
   "display_name": "base",
   "language": "python",
   "name": "python3"
  },
  "language_info": {
   "codemirror_mode": {
    "name": "ipython",
    "version": 3
   },
   "file_extension": ".py",
   "mimetype": "text/x-python",
   "name": "python",
   "nbconvert_exporter": "python",
   "pygments_lexer": "ipython3",
   "version": "3.11.7"
  }
 },
 "nbformat": 4,
 "nbformat_minor": 2
}
