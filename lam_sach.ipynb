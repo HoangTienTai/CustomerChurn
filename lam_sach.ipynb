{
 "cells": [
  {
   "cell_type": "code",
   "execution_count": 1,
   "metadata": {},
   "outputs": [],
   "source": [
    "import numpy as np\n",
    "import pandas as pd"
   ]
  },
  {
   "cell_type": "code",
   "execution_count": 4,
   "metadata": {},
   "outputs": [
    {
     "data": {
      "text/html": [
       "<div>\n",
       "<style scoped>\n",
       "    .dataframe tbody tr th:only-of-type {\n",
       "        vertical-align: middle;\n",
       "    }\n",
       "\n",
       "    .dataframe tbody tr th {\n",
       "        vertical-align: top;\n",
       "    }\n",
       "\n",
       "    .dataframe thead th {\n",
       "        text-align: right;\n",
       "    }\n",
       "</style>\n",
       "<table border=\"1\" class=\"dataframe\">\n",
       "  <thead>\n",
       "    <tr style=\"text-align: right;\">\n",
       "      <th></th>\n",
       "      <th>Cap_bac_cong_viec</th>\n",
       "      <th>Luong_trung_binh</th>\n",
       "    </tr>\n",
       "  </thead>\n",
       "  <tbody>\n",
       "    <tr>\n",
       "      <th>0</th>\n",
       "      <td>Quản lý</td>\n",
       "      <td>20.000.000 VNĐ</td>\n",
       "    </tr>\n",
       "    <tr>\n",
       "      <th>1</th>\n",
       "      <td>Trưởng nhóm</td>\n",
       "      <td>15.000.000đ</td>\n",
       "    </tr>\n",
       "    <tr>\n",
       "      <th>2</th>\n",
       "      <td>Nhân viên</td>\n",
       "      <td>12.000.000 vnđ</td>\n",
       "    </tr>\n",
       "    <tr>\n",
       "      <th>3</th>\n",
       "      <td>Mới ra trường</td>\n",
       "      <td>7.000.000 vnĐ</td>\n",
       "    </tr>\n",
       "  </tbody>\n",
       "</table>\n",
       "</div>"
      ],
      "text/plain": [
       "  Cap_bac_cong_viec Luong_trung_binh\n",
       "0           Quản lý   20.000.000 VNĐ\n",
       "1       Trưởng nhóm      15.000.000đ\n",
       "2         Nhân viên   12.000.000 vnđ\n",
       "3     Mới ra trường    7.000.000 vnĐ"
      ]
     },
     "execution_count": 4,
     "metadata": {},
     "output_type": "execute_result"
    }
   ],
   "source": [
    "df = pd.DataFrame({'Cap_bac_cong_viec':['Quản lý','Trưởng nhóm','Nhân viên','Mới ra trường'],\n",
    "                   'Luong_trung_binh':['20.000.000 VNĐ', '15.000.000đ', '12.000.000 vnđ', '7.000.000 vnĐ']})\n",
    "df"
   ]
  },
  {
   "cell_type": "code",
   "execution_count": 3,
   "metadata": {},
   "outputs": [
    {
     "name": "stdout",
     "output_type": "stream",
     "text": [
      "<class 'pandas.core.frame.DataFrame'>\n",
      "RangeIndex: 4 entries, 0 to 3\n",
      "Data columns (total 2 columns):\n",
      " #   Column             Non-Null Count  Dtype \n",
      "---  ------             --------------  ----- \n",
      " 0   Cap_bac_cong_viec  4 non-null      object\n",
      " 1   Luong_trung_binh   4 non-null      object\n",
      "dtypes: object(2)\n",
      "memory usage: 196.0+ bytes\n"
     ]
    }
   ],
   "source": [
    "df.info()"
   ]
  },
  {
   "cell_type": "code",
   "execution_count": 11,
   "metadata": {},
   "outputs": [
    {
     "name": "stderr",
     "output_type": "stream",
     "text": [
      "C:\\Users\\NK\\AppData\\Local\\Temp\\ipykernel_5864\\1437871008.py:4: FutureWarning: The default value of regex will change from True to False in a future version. In addition, single character regular expressions will *not* be treated as literal strings when regex=True.\n",
      "  df['Luong_trung_binh_num'] = df['Luong_trung_binh_num'].str.replace('.','')\n"
     ]
    }
   ],
   "source": [
    "df['Luong_trung_binh_num'] = df['Luong_trung_binh'].str.lower()\n",
    "df['Luong_trung_binh_num'] = df['Luong_trung_binh_num'].str.replace(' vnđ','')\n",
    "df['Luong_trung_binh_num'] = df['Luong_trung_binh_num'].str.replace('đ','')\n",
    "df['Luong_trung_binh_num'] = df['Luong_trung_binh_num'].str.replace('.','')\n",
    "df['Luong_trung_binh_num'] = df['Luong_trung_binh_num'].astype(float)"
   ]
  },
  {
   "cell_type": "code",
   "execution_count": 15,
   "metadata": {},
   "outputs": [
    {
     "data": {
      "text/html": [
       "<div>\n",
       "<style scoped>\n",
       "    .dataframe tbody tr th:only-of-type {\n",
       "        vertical-align: middle;\n",
       "    }\n",
       "\n",
       "    .dataframe tbody tr th {\n",
       "        vertical-align: top;\n",
       "    }\n",
       "\n",
       "    .dataframe thead th {\n",
       "        text-align: right;\n",
       "    }\n",
       "</style>\n",
       "<table border=\"1\" class=\"dataframe\">\n",
       "  <thead>\n",
       "    <tr style=\"text-align: right;\">\n",
       "      <th></th>\n",
       "      <th>Cap_bac_cong_viec</th>\n",
       "      <th>Luong_trung_binh</th>\n",
       "      <th>Luong_trung_binh_num</th>\n",
       "    </tr>\n",
       "  </thead>\n",
       "  <tbody>\n",
       "    <tr>\n",
       "      <th>0</th>\n",
       "      <td>Quản lý</td>\n",
       "      <td>20.000.000 VNĐ</td>\n",
       "      <td>20000000.0</td>\n",
       "    </tr>\n",
       "    <tr>\n",
       "      <th>1</th>\n",
       "      <td>Trưởng nhóm</td>\n",
       "      <td>15.000.000đ</td>\n",
       "      <td>15000000.0</td>\n",
       "    </tr>\n",
       "    <tr>\n",
       "      <th>2</th>\n",
       "      <td>Nhân viên</td>\n",
       "      <td>12.000.000 vnđ</td>\n",
       "      <td>12000000.0</td>\n",
       "    </tr>\n",
       "    <tr>\n",
       "      <th>3</th>\n",
       "      <td>Mới ra trường</td>\n",
       "      <td>7.000.000 vnĐ</td>\n",
       "      <td>7000000.0</td>\n",
       "    </tr>\n",
       "  </tbody>\n",
       "</table>\n",
       "</div>"
      ],
      "text/plain": [
       "  Cap_bac_cong_viec Luong_trung_binh  Luong_trung_binh_num\n",
       "0           Quản lý   20.000.000 VNĐ            20000000.0\n",
       "1       Trưởng nhóm      15.000.000đ            15000000.0\n",
       "2         Nhân viên   12.000.000 vnđ            12000000.0\n",
       "3     Mới ra trường    7.000.000 vnĐ             7000000.0"
      ]
     },
     "execution_count": 15,
     "metadata": {},
     "output_type": "execute_result"
    }
   ],
   "source": [
    "df.head()"
   ]
  },
  {
   "cell_type": "code",
   "execution_count": 12,
   "metadata": {},
   "outputs": [
    {
     "name": "stdout",
     "output_type": "stream",
     "text": [
      "<class 'pandas.core.frame.DataFrame'>\n",
      "RangeIndex: 4 entries, 0 to 3\n",
      "Data columns (total 3 columns):\n",
      " #   Column                Non-Null Count  Dtype  \n",
      "---  ------                --------------  -----  \n",
      " 0   Cap_bac_cong_viec     4 non-null      object \n",
      " 1   Luong_trung_binh      4 non-null      object \n",
      " 2   Luong_trung_binh_num  4 non-null      float64\n",
      "dtypes: float64(1), object(2)\n",
      "memory usage: 228.0+ bytes\n"
     ]
    }
   ],
   "source": [
    "df.info()"
   ]
  },
  {
   "cell_type": "code",
   "execution_count": 16,
   "metadata": {},
   "outputs": [],
   "source": [
    "def xu_ly_luong(luong):\n",
    "    luong = luong.lower()\n",
    "    luong = luong.replace(' vnđ','')\n",
    "    luong = luong.replace('đ','')\n",
    "    luong = luong.replace('.','')\n",
    "    return float(luong)\n"
   ]
  },
  {
   "cell_type": "code",
   "execution_count": 17,
   "metadata": {},
   "outputs": [
    {
     "data": {
      "text/plain": [
       "20000000.0"
      ]
     },
     "execution_count": 17,
     "metadata": {},
     "output_type": "execute_result"
    }
   ],
   "source": [
    "xu_ly_luong('20.000.000 VNĐ')"
   ]
  },
  {
   "cell_type": "code",
   "execution_count": 20,
   "metadata": {},
   "outputs": [],
   "source": [
    "df['Luong_trung_binh_num2'] = df['Luong_trung_binh'].apply(xu_ly_luong)\n",
    "df['Luong_trung_binh_num3'] = df['Luong_trung_binh'].apply(lambda x: xu_ly_luong(x))"
   ]
  },
  {
   "cell_type": "code",
   "execution_count": 21,
   "metadata": {},
   "outputs": [
    {
     "data": {
      "text/html": [
       "<div>\n",
       "<style scoped>\n",
       "    .dataframe tbody tr th:only-of-type {\n",
       "        vertical-align: middle;\n",
       "    }\n",
       "\n",
       "    .dataframe tbody tr th {\n",
       "        vertical-align: top;\n",
       "    }\n",
       "\n",
       "    .dataframe thead th {\n",
       "        text-align: right;\n",
       "    }\n",
       "</style>\n",
       "<table border=\"1\" class=\"dataframe\">\n",
       "  <thead>\n",
       "    <tr style=\"text-align: right;\">\n",
       "      <th></th>\n",
       "      <th>Cap_bac_cong_viec</th>\n",
       "      <th>Luong_trung_binh</th>\n",
       "      <th>Luong_trung_binh_num</th>\n",
       "      <th>Luong_trung_binh_num2</th>\n",
       "      <th>Luong_trung_binh_num3</th>\n",
       "    </tr>\n",
       "  </thead>\n",
       "  <tbody>\n",
       "    <tr>\n",
       "      <th>0</th>\n",
       "      <td>Quản lý</td>\n",
       "      <td>20.000.000 VNĐ</td>\n",
       "      <td>20000000.0</td>\n",
       "      <td>20000000.0</td>\n",
       "      <td>20000000.0</td>\n",
       "    </tr>\n",
       "    <tr>\n",
       "      <th>1</th>\n",
       "      <td>Trưởng nhóm</td>\n",
       "      <td>15.000.000đ</td>\n",
       "      <td>15000000.0</td>\n",
       "      <td>15000000.0</td>\n",
       "      <td>15000000.0</td>\n",
       "    </tr>\n",
       "    <tr>\n",
       "      <th>2</th>\n",
       "      <td>Nhân viên</td>\n",
       "      <td>12.000.000 vnđ</td>\n",
       "      <td>12000000.0</td>\n",
       "      <td>12000000.0</td>\n",
       "      <td>12000000.0</td>\n",
       "    </tr>\n",
       "    <tr>\n",
       "      <th>3</th>\n",
       "      <td>Mới ra trường</td>\n",
       "      <td>7.000.000 vnĐ</td>\n",
       "      <td>7000000.0</td>\n",
       "      <td>7000000.0</td>\n",
       "      <td>7000000.0</td>\n",
       "    </tr>\n",
       "  </tbody>\n",
       "</table>\n",
       "</div>"
      ],
      "text/plain": [
       "  Cap_bac_cong_viec Luong_trung_binh  Luong_trung_binh_num  \\\n",
       "0           Quản lý   20.000.000 VNĐ            20000000.0   \n",
       "1       Trưởng nhóm      15.000.000đ            15000000.0   \n",
       "2         Nhân viên   12.000.000 vnđ            12000000.0   \n",
       "3     Mới ra trường    7.000.000 vnĐ             7000000.0   \n",
       "\n",
       "   Luong_trung_binh_num2  Luong_trung_binh_num3  \n",
       "0             20000000.0             20000000.0  \n",
       "1             15000000.0             15000000.0  \n",
       "2             12000000.0             12000000.0  \n",
       "3              7000000.0              7000000.0  "
      ]
     },
     "execution_count": 21,
     "metadata": {},
     "output_type": "execute_result"
    }
   ],
   "source": [
    "df.head()"
   ]
  }
 ],
 "metadata": {
  "kernelspec": {
   "display_name": "Python 3",
   "language": "python",
   "name": "python3"
  },
  "language_info": {
   "codemirror_mode": {
    "name": "ipython",
    "version": 3
   },
   "file_extension": ".py",
   "mimetype": "text/x-python",
   "name": "python",
   "nbconvert_exporter": "python",
   "pygments_lexer": "ipython3",
   "version": "3.11.4"
  }
 },
 "nbformat": 4,
 "nbformat_minor": 2
}
