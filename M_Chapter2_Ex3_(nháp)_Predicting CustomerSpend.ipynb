{
 "cells": [
  {
   "cell_type": "code",
   "execution_count": 18,
   "metadata": {},
   "outputs": [],
   "source": [
    "import numpy as np \n",
    "import pandas as pd\n",
    "import matplotlib.pyplot as plt \n",
    "import seaborn as sns\n",
    "import warnings\n",
    "warnings.filterwarnings('ignore')\n",
    "import datetime as dt"
   ]
  },
  {
   "cell_type": "code",
   "execution_count": 19,
   "metadata": {},
   "outputs": [
    {
     "data": {
      "text/html": [
       "<div>\n",
       "<style scoped>\n",
       "    .dataframe tbody tr th:only-of-type {\n",
       "        vertical-align: middle;\n",
       "    }\n",
       "\n",
       "    .dataframe tbody tr th {\n",
       "        vertical-align: top;\n",
       "    }\n",
       "\n",
       "    .dataframe thead th {\n",
       "        text-align: right;\n",
       "    }\n",
       "</style>\n",
       "<table border=\"1\" class=\"dataframe\">\n",
       "  <thead>\n",
       "    <tr style=\"text-align: right;\">\n",
       "      <th></th>\n",
       "      <th>InvoiceNo</th>\n",
       "      <th>StockCode</th>\n",
       "      <th>Description</th>\n",
       "      <th>Quantity</th>\n",
       "      <th>InvoiceDate</th>\n",
       "      <th>UnitPrice</th>\n",
       "      <th>CustomerID</th>\n",
       "      <th>Country</th>\n",
       "    </tr>\n",
       "  </thead>\n",
       "  <tbody>\n",
       "    <tr>\n",
       "      <th>0</th>\n",
       "      <td>546729</td>\n",
       "      <td>22775</td>\n",
       "      <td>PURPLE DRAWERKNOB ACRYLIC EDWARDIAN</td>\n",
       "      <td>12</td>\n",
       "      <td>2011-03-16 11:36:00</td>\n",
       "      <td>1.25</td>\n",
       "      <td>18231.0</td>\n",
       "      <td>United Kingdom</td>\n",
       "    </tr>\n",
       "    <tr>\n",
       "      <th>1</th>\n",
       "      <td>559898</td>\n",
       "      <td>21868</td>\n",
       "      <td>POTTING SHED TEA MUG</td>\n",
       "      <td>6</td>\n",
       "      <td>2011-07-13 12:18:00</td>\n",
       "      <td>1.25</td>\n",
       "      <td>16225.0</td>\n",
       "      <td>United Kingdom</td>\n",
       "    </tr>\n",
       "    <tr>\n",
       "      <th>2</th>\n",
       "      <td>548648</td>\n",
       "      <td>71459</td>\n",
       "      <td>HANGING JAM JAR T-LIGHT HOLDER</td>\n",
       "      <td>24</td>\n",
       "      <td>2011-04-01 13:20:00</td>\n",
       "      <td>0.85</td>\n",
       "      <td>12949.0</td>\n",
       "      <td>United Kingdom</td>\n",
       "    </tr>\n",
       "    <tr>\n",
       "      <th>3</th>\n",
       "      <td>540543</td>\n",
       "      <td>22173</td>\n",
       "      <td>METAL 4 HOOK HANGER FRENCH CHATEAU</td>\n",
       "      <td>4</td>\n",
       "      <td>2011-01-09 15:23:00</td>\n",
       "      <td>2.95</td>\n",
       "      <td>14395.0</td>\n",
       "      <td>United Kingdom</td>\n",
       "    </tr>\n",
       "    <tr>\n",
       "      <th>4</th>\n",
       "      <td>561390</td>\n",
       "      <td>20726</td>\n",
       "      <td>LUNCH BAG WOODLAND</td>\n",
       "      <td>10</td>\n",
       "      <td>2011-07-27 09:52:00</td>\n",
       "      <td>1.65</td>\n",
       "      <td>17068.0</td>\n",
       "      <td>United Kingdom</td>\n",
       "    </tr>\n",
       "  </tbody>\n",
       "</table>\n",
       "</div>"
      ],
      "text/plain": [
       "   InvoiceNo StockCode                          Description  Quantity  \\\n",
       "0     546729     22775  PURPLE DRAWERKNOB ACRYLIC EDWARDIAN        12   \n",
       "1     559898     21868                 POTTING SHED TEA MUG         6   \n",
       "2     548648     71459       HANGING JAM JAR T-LIGHT HOLDER        24   \n",
       "3     540543     22173   METAL 4 HOOK HANGER FRENCH CHATEAU         4   \n",
       "4     561390     20726                   LUNCH BAG WOODLAND        10   \n",
       "\n",
       "           InvoiceDate  UnitPrice  CustomerID         Country  \n",
       "0  2011-03-16 11:36:00       1.25     18231.0  United Kingdom  \n",
       "1  2011-07-13 12:18:00       1.25     16225.0  United Kingdom  \n",
       "2  2011-04-01 13:20:00       0.85     12949.0  United Kingdom  \n",
       "3  2011-01-09 15:23:00       2.95     14395.0  United Kingdom  \n",
       "4  2011-07-27 09:52:00       1.65     17068.0  United Kingdom  "
      ]
     },
     "execution_count": 19,
     "metadata": {},
     "output_type": "execute_result"
    }
   ],
   "source": [
    "#data = pd.read_csv('wrangled_transactions.csv')\n",
    "data = pd.read_csv('retail_transactions.csv')\n",
    "data.head()"
   ]
  },
  {
   "cell_type": "code",
   "execution_count": 22,
   "metadata": {},
   "outputs": [
    {
     "data": {
      "text/plain": [
       "0         2011\n",
       "1         2011\n",
       "2         2011\n",
       "3         2011\n",
       "4         2011\n",
       "          ... \n",
       "397879    2011\n",
       "397880    2011\n",
       "397881    2010\n",
       "397882    2011\n",
       "397883    2011\n",
       "Name: Year, Length: 397884, dtype: int64"
      ]
     },
     "execution_count": 22,
     "metadata": {},
     "output_type": "execute_result"
    }
   ],
   "source": [
    "data['Year'] = pd.to_datetime(data['InvoiceDate'])\n",
    "data['Year'] = data['Year'].dt.year"
   ]
  },
  {
   "cell_type": "code",
   "execution_count": 32,
   "metadata": {},
   "outputs": [
    {
     "data": {
      "text/plain": [
       "array([2011, 2010], dtype=int64)"
      ]
     },
     "execution_count": 32,
     "metadata": {},
     "output_type": "execute_result"
    }
   ],
   "source": [
    "data['Year'].unique()"
   ]
  },
  {
   "cell_type": "code",
   "execution_count": 23,
   "metadata": {},
   "outputs": [
    {
     "name": "stdout",
     "output_type": "stream",
     "text": [
      "0         NaN\n",
      "1         NaN\n",
      "2         NaN\n",
      "3         NaN\n",
      "4         NaN\n",
      "         ... \n",
      "397879    NaN\n",
      "397880    NaN\n",
      "397881    3.3\n",
      "397882    NaN\n",
      "397883    NaN\n",
      "Name: 2010_revenue, Length: 397884, dtype: float64\n"
     ]
    }
   ],
   "source": [
    "data['2010_revenue'] = data[data['Year'] == 2010]['Quantity'] * data[data['Year'] == 2010]['UnitPrice']\n",
    "print(data['2010_revenue'])"
   ]
  },
  {
   "cell_type": "code",
   "execution_count": 31,
   "metadata": {},
   "outputs": [
    {
     "data": {
      "text/plain": [
       "0         15.00\n",
       "1          7.50\n",
       "2         20.40\n",
       "3         11.80\n",
       "4         16.50\n",
       "          ...  \n",
       "397879    13.92\n",
       "397880    13.20\n",
       "397881      NaN\n",
       "397882    11.70\n",
       "397883     2.10\n",
       "Name: 2011_revenue, Length: 397884, dtype: float64"
      ]
     },
     "execution_count": 31,
     "metadata": {},
     "output_type": "execute_result"
    }
   ],
   "source": [
    "data['2011_revenue'] = data[data['Year'] == 2011]['Quantity'] * data[data['Year'] == 2011]['UnitPrice']\n",
    "data['2011_revenue']"
   ]
  },
  {
   "cell_type": "code",
   "execution_count": 65,
   "metadata": {},
   "outputs": [
    {
     "data": {
      "text/plain": [
       "0          NaN\n",
       "1          NaN\n",
       "2          NaN\n",
       "3          NaN\n",
       "4          NaN\n",
       "          ... \n",
       "397879     NaN\n",
       "397880     NaN\n",
       "397881    29.0\n",
       "397882     NaN\n",
       "397883     NaN\n",
       "Name: day_since_last_purchase, Length: 397884, dtype: float64"
      ]
     },
     "execution_count": 65,
     "metadata": {},
     "output_type": "execute_result"
    }
   ],
   "source": [
    "data['day_since_last_purchase_2010'] = (pd.to_datetime('2010-12-31') - pd.to_datetime(data[data['Year'] == 2010]['InvoiceDate'])).dt.days\n",
    "data['day_since_last_purchase_2010']"
   ]
  },
  {
   "cell_type": "code",
   "execution_count": 66,
   "metadata": {},
   "outputs": [
    {
     "data": {
      "text/plain": [
       "0         289.0\n",
       "1         170.0\n",
       "2         273.0\n",
       "3         355.0\n",
       "4         156.0\n",
       "          ...  \n",
       "397879    101.0\n",
       "397880    276.0\n",
       "397881      NaN\n",
       "397882    194.0\n",
       "397883    182.0\n",
       "Name: day_since_last_purchase_2011, Length: 397884, dtype: float64"
      ]
     },
     "execution_count": 66,
     "metadata": {},
     "output_type": "execute_result"
    }
   ],
   "source": [
    "data['day_since_last_purchase_2011'] = (pd.to_datetime('2011-12-31') - pd.to_datetime(data[data['Year'] == 2011]['InvoiceDate'])).dt.days\n",
    "data['day_since_last_purchase_2011']"
   ]
  }
 ],
 "metadata": {
  "kernelspec": {
   "display_name": "Python 3",
   "language": "python",
   "name": "python3"
  },
  "language_info": {
   "codemirror_mode": {
    "name": "ipython",
    "version": 3
   },
   "file_extension": ".py",
   "mimetype": "text/x-python",
   "name": "python",
   "nbconvert_exporter": "python",
   "pygments_lexer": "ipython3",
   "version": "3.11.4"
  }
 },
 "nbformat": 4,
 "nbformat_minor": 2
}
