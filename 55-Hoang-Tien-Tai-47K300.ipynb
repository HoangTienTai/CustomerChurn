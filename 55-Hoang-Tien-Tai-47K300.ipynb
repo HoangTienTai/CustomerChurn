{
 "cells": [
  {
   "cell_type": "markdown",
   "metadata": {
    "colab_type": "text",
    "id": "dlvl6kiulffy"
   },
   "source": [
    "## Lecture 2 - Numpy - Mảng một chiều "
   ]
  },
  {
   "cell_type": "code",
   "execution_count": 1,
   "metadata": {},
   "outputs": [
    {
     "name": "stdout",
     "output_type": "stream",
     "text": [
      "Các phần tử trong mảng:  [0 1 2 3 4 5 6 7 8 9]\n",
      "Kiểu dữ liệu của arr <class 'numpy.ndarray'>\n",
      "Kiểu dữ liệu phần tử của arr int32\n",
      "Kích thước của arr (10,)\n"
     ]
    }
   ],
   "source": [
    "import numpy as np\n",
    "# Câu 1: Tạo numpy array có giá trị từ 0-9 và lưu vào biến arr\n",
    "arr =np.arange(0,10)\n",
    "# Hiển thị các phần tử có trong arr\n",
    "print('Các phần tử trong mảng: ',arr)\n",
    "# Xem kiểu dữ liệu của arr và kiểu dữ liệu phần tử của arr\n",
    "print('Kiểu dữ liệu của arr',type(arr))\n",
    "print('Kiểu dữ liệu phần tử của arr',arr.dtype)\n",
    "\n",
    "# Xem kích thước của arr\n",
    "print('Kích thước của arr',arr.shape)"
   ]
  },
  {
   "cell_type": "code",
   "execution_count": 2,
   "metadata": {},
   "outputs": [
    {
     "data": {
      "text/plain": [
       "array([3, 4, 5, 6, 7])"
      ]
     },
     "execution_count": 2,
     "metadata": {},
     "output_type": "execute_result"
    }
   ],
   "source": [
    "# Câu 2: Từ array arr ở câu 1, tạo ra một mảng mới với tên là arr_f chỉ chứa các phần tử lớn hơn 2 và nhỏ hơn 8 bằng cách\n",
    "# dùng np.where \n",
    "index = np.where((arr > 2) & (arr < 8))\n",
    "arr_f = arr[index]\n",
    "arr_f"
   ]
  },
  {
   "cell_type": "markdown",
   "metadata": {},
   "source": [
    "##### **QUESTION 3**\n",
    ">Cho array có tên là `b`:\n",
    "$$\n",
    "b=\n",
    "\\begin{bmatrix}\n",
    "    1 & 2 & 3 & 4 & 5 & 6 & 7 & 6 & 5 & 4 & 3 & 2 & 1\n",
    "\\end{bmatrix}\n",
    "$$\n",
    ">Dựa vào array `b`, tạo ra một array mới có tên là `c` bằng cách sử dựng `np.where`\n",
    "$$\n",
    "c=\n",
    "\\begin{bmatrix}\n",
    "    1 & 2 & 3 & 4 & 5 & 5 & 5 & 5 & 5 & 4 & 3 & 2 & 1\n",
    "\\end{bmatrix}\n",
    "$$\n"
   ]
  },
  {
   "cell_type": "code",
   "execution_count": 3,
   "metadata": {},
   "outputs": [
    {
     "data": {
      "text/plain": [
       "array([1, 2, 3, 4, 5, 5, 5, 5, 5, 4, 3, 2, 1])"
      ]
     },
     "execution_count": 3,
     "metadata": {},
     "output_type": "execute_result"
    }
   ],
   "source": [
    "# Trả lời câu 3:\n",
    "arr_b = np.array([1,2,3,4,5,6,7,6,5,4,3,2,1])\n",
    "arr_c = np.where(arr_b>=5,5,arr_b)\n",
    "arr_c"
   ]
  },
  {
   "cell_type": "code",
   "execution_count": 4,
   "metadata": {
    "colab": {},
    "colab_type": "code",
    "id": "h1gyIEtolff4"
   },
   "outputs": [
    {
     "name": "stdout",
     "output_type": "stream",
     "text": [
      "arr_odd  [0 2 4 6 8]\n",
      "arr_even  [1 3 5 7 9]\n"
     ]
    }
   ],
   "source": [
    "# Câu 4: Từ array arr ở câu 1 => tạo arr_odd (lẻ) và arr_even (chẳn) bằng cách sử dụng lệnh np.extract\n",
    "# Hiển thị các phần tử có trong arr_odd và arr_even\n",
    "arr_odd = np.extract(arr%2==0,arr)\n",
    "print('arr_odd ',arr_odd)\n",
    "arr_even = np.extract(arr%2!=0,arr)\n",
    "print('arr_even ',arr_even)"
   ]
  },
  {
   "cell_type": "code",
   "execution_count": 5,
   "metadata": {
    "colab": {},
    "colab_type": "code",
    "id": "OL6Y8tdxlff6"
   },
   "outputs": [
    {
     "data": {
      "text/plain": [
       "array([  0, 100,   2, 100,   4, 100,   6, 100,   8, 100])"
      ]
     },
     "execution_count": 5,
     "metadata": {},
     "output_type": "execute_result"
    }
   ],
   "source": [
    "# Câu 5: Từ array arr ở câu 1=> tạo arr_update_1 với các phần tử chẵn giữ nguyên, các phần tử lẻ thay bằng 100\n",
    "arr_update_1 = np.where(arr%2 == 0,arr,100)\n",
    "arr_update_1"
   ]
  },
  {
   "cell_type": "code",
   "execution_count": 6,
   "metadata": {},
   "outputs": [
    {
     "name": "stdout",
     "output_type": "stream",
     "text": [
      "[10 11 12 13 14 15 16 17 18 19 20 21 22 23 24]\n",
      "Đảo ngược arr_h [24 23 22 21 20 19 18 17 16 15 14 13 12 11 10]\n"
     ]
    }
   ],
   "source": [
    "# Câu 6: Tạo và in array arr_h có giá trị từ 10 đến 24 \n",
    "arr_h = np.arange(10,25)\n",
    "print(arr_h)\n",
    "# In danh sách các phần tử theo tứ tự đảo ngược của arr_h vừa tạo\n",
    "print('Đảo ngược arr_h',arr_h[::-1])"
   ]
  },
  {
   "cell_type": "code",
   "execution_count": 7,
   "metadata": {},
   "outputs": [
    {
     "data": {
      "text/plain": [
       "array([ 0,  1,  2,  3,  4,  5,  6,  7,  8,  9, 10, 20])"
      ]
     },
     "execution_count": 7,
     "metadata": {},
     "output_type": "execute_result"
    }
   ],
   "source": [
    "# Câu 7: Từ array arr_l của câu 1, thêm 2 phần tử có giá trị là 10 và 20 vào cuối array\n",
    "arr_l = np.append(arr,[10,20])\n",
    "arr_l"
   ]
  },
  {
   "cell_type": "code",
   "execution_count": 8,
   "metadata": {},
   "outputs": [
    {
     "data": {
      "text/plain": [
       "array([ 3,  4,  5,  6,  7,  8,  9, 10, 20])"
      ]
     },
     "execution_count": 8,
     "metadata": {},
     "output_type": "execute_result"
    }
   ],
   "source": [
    "# Câu 8: Từ array của câu 7, xóa các phần tử tại vị trí có index = 0, 1, 2\n",
    "arr_k = np.delete(arr_l,(0,1,2))\n",
    "arr_k"
   ]
  },
  {
   "cell_type": "markdown",
   "metadata": {},
   "source": [
    "#### Câu 9: Tạo ra một mảng ngẫu nhiên có tên là arr_ran1, giá trị của mảng nằm từ 0 đến 1. Cấu trúc của mảng ngẫu nhiêu có hình mẫu như dưới đây: \n",
    "```\n",
    "array([[[0.98102491, 0.39159856, 0.11698708],\n",
    "        [0.48661233, 0.80854937, 0.80004811]],\n",
    "\n",
    "       [[0.91373202, 0.51502047, 0.40390783],\n",
    "        [0.91235906, 0.92456352, 0.94235826]],\n",
    "\n",
    "       [[0.79367972, 0.78083137, 0.93023765],\n",
    "        [0.70502698, 0.4115658 , 0.23043333]]])\n",
    "```"
   ]
  },
  {
   "cell_type": "code",
   "execution_count": 9,
   "metadata": {},
   "outputs": [
    {
     "name": "stdout",
     "output_type": "stream",
     "text": [
      "[[[0.32759267 0.61239541 0.03033952]\n",
      "  [0.64656523 0.02920172 0.16538266]]\n",
      "\n",
      " [[0.00823503 0.51065005 0.34663161]\n",
      "  [0.39402995 0.66418346 0.80246128]]\n",
      "\n",
      " [[0.70991329 0.6686681  0.28266974]\n",
      "  [0.18766701 0.97663313 0.97187363]]]\n"
     ]
    }
   ],
   "source": [
    "# Trả lời câu 9: \n",
    "print(np.random.rand(3,2,3))"
   ]
  },
  {
   "cell_type": "code",
   "execution_count": 10,
   "metadata": {},
   "outputs": [
    {
     "name": "stdout",
     "output_type": "stream",
     "text": [
      "giá trị lớn nhất: 99\n",
      "giá trị nhỏ nhất: 66\n"
     ]
    }
   ],
   "source": [
    "# Câu 10:\n",
    "# Tính toán nâng cao trên mảng một chiều\n",
    "np.random.seed(1)\n",
    "#a)Tạo một mảng một chiều với 100 phần tử ngẫu nhiên từ 1 đến 100.\n",
    "arr_random = np.random.randint(low=1,high=100,size=100)\n",
    "\n",
    "#b) Tìm giá trị lớn nhất và vị trí của nó trong mảng.\n",
    "max_gt = np.max(arr_random)\n",
    "min_gt = np.argmax(arr_random)\n",
    "print('giá trị lớn nhất:', max_gt)\n",
    "print('giá trị nhỏ nhất:', min_gt)\n",
    "#c) Đổi chỗ giá trị lớn nhất với giá trị nhỏ nhất trong mảng.\n",
    "max_gt_index = np.argmax(arr_random)\n",
    "min_gt_index = np.argmin(arr_random)\n",
    "arr_random[max_gt_index], arr_random[min_gt_index] = arr_random[min_gt_index], arr_random[max_gt_index]\n",
    "\n",
    "#d)Tìm phần tử có số lần xuất hiện nhiều nhất và in ra giá trị và vị trí của nó.\n",
    "\n"
   ]
  },
  {
   "cell_type": "code",
   "execution_count": 11,
   "metadata": {},
   "outputs": [
    {
     "name": "stdout",
     "output_type": "stream",
     "text": [
      "giá trị trung bình 49.99220568117121\n",
      "độ lệch chuẩn 9.6590888313735\n",
      "số lượng điểm dữ liệu: 702\n"
     ]
    },
    {
     "data": {
      "image/png": "[encoded data removed]",
      "text/plain": [
       "<Figure size 640x480 with 1 Axes>"
      ]
     },
     "metadata": {},
     "output_type": "display_data"
    }
   ],
   "source": [
    "# Câu 11: Mô phỏng dữ liệu và thống kê\n",
    "#a)Tạo một mảng 1 chiều với 1000 điểm dữ liệu ngẫu nhiên theo phân phối chuẩn \n",
    "#(normal distribution) với trung bình (mean) 50 và độ lệch chuẩn (standard deviation) 10.\n",
    "arr_mang = np.random.normal(50, 10,1000)\n",
    "# b) Tính giá trị trung bình và độ lệch chuẩn của dữ liệu.\n",
    "print('giá trị trung bình',np.mean(arr_mang))\n",
    "print('độ lệch chuẩn',np.std(arr_mang))\n",
    "#c)Đếm số lượng điểm dữ liệu nằm trong khoảng từ 40 đến 60.\n",
    "count_diem_du_lieu = np.count_nonzero((arr_mang >= 40) & (arr_mang <= 60))\n",
    "print('số lượng điểm dữ liệu:',count_diem_du_lieu)\n",
    "# d)Vẽ biểu đồ histogram của dữ liệu với 20 bins.\n",
    "import matplotlib.pyplot as plt\n",
    "plt.hist(arr_mang, bins=20)\n",
    "plt.xlabel('Giá trị')\n",
    "plt.ylabel('Tần suất')\n",
    "plt.title('Biểu đồ histogram')\n",
    "plt.show()\n"
   ]
  }
 ],
 "metadata": {
  "colab": {
   "name": "Chapter3_Exercise1.ipynb",
   "provenance": []
  },
  "kernelspec": {
   "display_name": "Python 3 (ipykernel)",
   "language": "python",
   "name": "python3"
  },
  "language_info": {
   "codemirror_mode": {
    "name": "ipython",
    "version": 3
   },
   "file_extension": ".py",
   "mimetype": "text/x-python",
   "name": "python",
   "nbconvert_exporter": "python",
   "pygments_lexer": "ipython3",
   "version": "3.11.4"
  }
 },
 "nbformat": 4,
 "nbformat_minor": 1
}
